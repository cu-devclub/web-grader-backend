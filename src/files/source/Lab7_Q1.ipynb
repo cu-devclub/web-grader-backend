{
 "cells": [
  {
   "cell_type": "markdown",
   "metadata": {
    "id": "28w5nobIZpsx",
    "nbgrader": {
     "grade": false,
     "grade_id": "cell-dbf37dcea5d7dc5c",
     "locked": true,
     "schema_version": 3,
     "solution": false,
     "task": false
    }
   },
   "source": [
    "## Q1 (5 points)\n",
    "จงเขียนโปรแกรมที่รับตำแหน่ง (x,y) (x และ y เป็นจำนวนเต็ม) ซึ่งเป็นจุดเริ่มต้นของหุ่นยนต์จากผู้ใช้ แล้วอ่านลำดับของคำสั่งที่ให้หุ่นยนต์เดินไปทางซ้าย (L) ขวา (R) ขึ้นบน (U) ลงล่าง (D) ครั้งละ 1 หน่วย จากไฟล์ **move\\<n\\>.txt** แล้วหาว่าเมื่อจบโปรแกรมหุ่นยนต์จะไปอยู่ที่ตำแหน่งใดและแสดงผลลัพธ์ดังตัวอย่างข้างล่างนี้ <br>\n"
   ]
  },
  {
   "cell_type": "markdown",
   "metadata": {
    "id": "PUvFUmc6Zpsz",
    "nbgrader": {
     "grade": false,
     "grade_id": "cell-7ae57c7b0fc2869d",
     "locked": true,
     "schema_version": 3,
     "solution": false,
     "task": false
    }
   },
   "source": [
    "### ตัวอย่างการทำงาน: \n",
    "\n",
    "ไฟล์ move1.txt:<br>\n",
    "L <br>\n",
    "L <br>\n",
    "U <br>\n",
    "U <br>\n",
    "D <br>\n",
    "R <br>\n",
    "R <br>\n",
    "U <br>\n",
    "U <br>\n",
    "L <br>\n",
    "L <br>\n",
    "----\n",
    "Choose your movefile: **move1.txt** <br>\n",
    "Initial position : **10,20** <br>\n",
    "Robot stops at 8,23\n"
   ]
  },
  {
   "cell_type": "markdown",
   "metadata": {
    "id": "izlaUqFSZpsz",
    "nbgrader": {
     "grade": false,
     "grade_id": "cell-1b10c564484fa711",
     "locked": true,
     "schema_version": 3,
     "solution": false,
     "task": false
    }
   },
   "source": [
    "### ตัวอย่างการทำงาน: \n",
    "\n",
    "ไฟล์ move2.txt: <br>\n",
    "L <br>\n",
    "L <br>\n",
    "X <br>\n",
    "U <br>\n",
    "D <br>\n",
    "Z <br>\n",
    "R <br>\n",
    "----\n",
    "Choose your movefile: **move2.txt** <br>\n",
    "Initial position : **10,20** <br>\n",
    "Invalid command"
   ]
  },
  {
   "cell_type": "code",
   "execution_count": 1,
   "metadata": {
    "id": "481-8TCfZps0",
    "nbgrader": {
     "grade": false,
     "grade_id": "answer",
     "locked": false,
     "schema_version": 3,
     "solution": true
    }
   },
   "outputs": [],
   "source": [
    "def run():\n",
    "    ### BEGIN SOLUTION\n",
    "    filex= input(\"Choose your movefile:\")\n",
    "    x,y = input(\"Initial position : \").split(\",\")\n",
    "    x = int(x)\n",
    "    y = int(y)\n",
    "    invalid = 0\n",
    "\n",
    "    file = open(filex,'r')\n",
    "    for line in file:\n",
    "        s = line.strip()\n",
    "        if s == \"L\" :\n",
    "            x = x-1\n",
    "        elif s == \"R\" :\n",
    "            x = x+1\n",
    "        elif s == \"D\" :\n",
    "            y = y-1\n",
    "        elif s == \"U\" :\n",
    "            y = y+1 \n",
    "        else:\n",
    "            invalid = 1\n",
    "            break\n",
    "\n",
    "    if invalid == 0 :\n",
    "        print(\"Robot stops at \" + str(x) + \",\" +str(y))\n",
    "    else :\n",
    "        print(\"Invalid command\")\n",
    "    file.close() \n",
    "    ### END SOLUTION    "
   ]
  },
  {
   "cell_type": "code",
   "execution_count": 14,
   "metadata": {
    "colab": {
     "base_uri": "https://localhost:8080/"
    },
    "id": "Bd2rVvFiZps1",
    "nbgrader": {
     "grade": false,
     "grade_id": "cell-befa13e6c82bd29b",
     "locked": true,
     "schema_version": 3,
     "solution": false,
     "task": false
    },
    "outputId": "f19d0787-3f54-4c8b-c704-126d27a1a07f"
   },
   "outputs": [
    {
     "name": "stdout",
     "output_type": "stream",
     "text": [
      "Choose your movefile:move2a.txt\n",
      "Initial position : -10,20\n",
      "Invalid command\n"
     ]
    }
   ],
   "source": [
    "'''ตรวจสอบผลลัพธ์ของโปรแกรมด้วยการรันที่ cell นี้'''\n",
    "run()"
   ]
  },
  {
   "cell_type": "code",
   "execution_count": 16,
   "metadata": {
    "id": "ubx3rdB2Zps1",
    "nbgrader": {
     "grade": false,
     "grade_id": "partial",
     "locked": true,
     "schema_version": 3,
     "solution": false,
     "task": false
    }
   },
   "outputs": [],
   "source": [
    "'''ตรวจสอบผลการคำนวณ'''\n",
    "from unittest.mock import patch\n",
    "from io import StringIO\n",
    "import math\n",
    "\n",
    "def test(inputs,expected_output, r): \n",
    "    with patch('builtins.input', side_effect=inputs), patch('sys.stdout', new_callable=StringIO) as mock_stdout:\n",
    "        r()\n",
    "        assert mock_stdout.getvalue() == expected_output,mock_stdout.getvalue()\n",
    "        return mock_stdout.getvalue() == expected_output\n",
    "def test_easy_print(inputs, expected_output, r):\n",
    "    with patch('builtins.input', side_effect=inputs), patch('sys.stdout', new_callable=StringIO) as mock_stdout:\n",
    "        r()\n",
    "        assert expected_output in mock_stdout.getvalue(), mock_stdout.getvalue()\n",
    "        return expected_output in mock_stdout.getvalue()"
   ]
  },
  {
   "cell_type": "code",
   "execution_count": 17,
   "metadata": {
    "nbgrader": {
     "grade": true,
     "grade_id": "easy_print",
     "locked": true,
     "points": 1,
     "schema_version": 3,
     "solution": false,
     "task": false
    }
   },
   "outputs": [
    {
     "name": "stdout",
     "output_type": "stream",
     "text": [
      "True\n"
     ]
    }
   ],
   "source": [
    "'''ตรวจสอบการแสดงผลลัพธ์อย่างง่าย'''\n",
    "print(test_easy_print(inputs=['move1.txt','10,20'],expected_output='Robot', r=run))"
   ]
  },
  {
   "cell_type": "code",
   "execution_count": 18,
   "metadata": {
    "id": "keisuEReZps2",
    "nbgrader": {
     "grade": true,
     "grade_id": "exact",
     "locked": false,
     "points": 1,
     "schema_version": 3,
     "solution": false
    }
   },
   "outputs": [
    {
     "name": "stdout",
     "output_type": "stream",
     "text": [
      "True\n",
      "True\n",
      "True\n",
      "True\n",
      "True\n"
     ]
    }
   ],
   "source": [
    "'''ตรวจสอบผลการคำนวณและการแสดงผลลัพธ์ให้เหมือนกับโจทย์ที่กำหนดให้'''\n",
    "'''Robot can stop at position x,y'''\n",
    "print(test(['move1.txt','10,20'],'Robot stops at 8,23\\n', run)) # ++\n",
    "print(test(['move1.txt','7,5'],'Robot stops at 5,8\\n', run)) #++\n",
    "print(test(['move1.txt','100,-20'],'Robot stops at 98,-17\\n', run))  #+-\n",
    "print(test(['move1.txt','-100,50'],'Robot stops at -102,53\\n', run))  #-+\n",
    "print(test(['move1.txt','-100,-100'],'Robot stops at -102,-97\\n', run))  #--"
   ]
  },
  {
   "cell_type": "code",
   "execution_count": 19,
   "metadata": {
    "id": "YBNk9rP_Zps3",
    "nbgrader": {
     "grade": true,
     "grade_id": "cell-cbc47179f27fefee",
     "locked": true,
     "points": 1,
     "schema_version": 3,
     "solution": false,
     "task": false
    }
   },
   "outputs": [
    {
     "name": "stdout",
     "output_type": "stream",
     "text": [
      "True\n",
      "True\n"
     ]
    }
   ],
   "source": [
    "'''ตรวจสอบผลการคำนวณและการแสดงผลลัพธ์ให้เหมือนกับโจทย์ที่กำหนดให้'''\n",
    "'''Invalid command'''\n",
    "print(test(['move2.txt','15,20'],'Invalid command\\n', run)) #\n",
    "print(test(['move2.txt','1,1'],'Invalid command\\n', run)) #"
   ]
  },
  {
   "cell_type": "code",
   "execution_count": 20,
   "metadata": {
    "id": "MdyUFFS5dzOX",
    "nbgrader": {
     "grade": true,
     "grade_id": "cell-bbefc28bedac83a8",
     "locked": true,
     "points": 1,
     "schema_version": 3,
     "solution": false,
     "task": false
    }
   },
   "outputs": [
    {
     "name": "stdout",
     "output_type": "stream",
     "text": [
      "True\n",
      "True\n"
     ]
    }
   ],
   "source": [
    "'''เทสลับ1'''\n",
    "### BEGIN HIDDEN TESTS\n",
    "print(test(['move1a.txt','0,0'],'Robot stops at -1,3\\n', run)) \n",
    "print(test(['move2a.txt','1,2'],'Invalid command\\n', run))\n",
    "### END HIDDEN TESTS"
   ]
  },
  {
   "cell_type": "code",
   "execution_count": 21,
   "metadata": {
    "id": "YgP9a23SZps3",
    "nbgrader": {
     "grade": true,
     "grade_id": "cell-4c547bf9d492d10f",
     "locked": true,
     "points": 1,
     "schema_version": 3,
     "solution": false,
     "task": false
    }
   },
   "outputs": [
    {
     "name": "stdout",
     "output_type": "stream",
     "text": [
      "True\n",
      "True\n"
     ]
    }
   ],
   "source": [
    "'''เทสลับ2'''\n",
    "### BEGIN HIDDEN TESTS\n",
    "print(test(['move1a.txt','10,10'],'Robot stops at 9,13\\n', run))\n",
    "print(test(['move2a.txt','-10,20'],'Invalid command\\n', run))\n",
    "### END HIDDEN TESTS"
   ]
  }
 ],
 "metadata": {
  "celltoolbar": "Create Assignment",
  "colab": {
   "provenance": []
  },
  "kernelspec": {
   "display_name": "Python 3 (ipykernel)",
   "language": "python",
   "name": "python3"
  },
  "language_info": {
   "codemirror_mode": {
    "name": "ipython",
    "version": 3
   },
   "file_extension": ".py",
   "mimetype": "text/x-python",
   "name": "python",
   "nbconvert_exporter": "python",
   "pygments_lexer": "ipython3",
   "version": "3.11.7"
  }
 },
 "nbformat": 4,
 "nbformat_minor": 4
}
