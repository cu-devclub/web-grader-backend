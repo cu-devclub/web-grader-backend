{
 "cells": [
  {
   "cell_type": "code",
   "execution_count": 1,
   "id": "8c7abe6d",
   "metadata": {
    "nbgrader": {
     "grade": false,
     "grade_id": "cell-725fd3c8e9a5a312",
     "locked": true,
     "schema_version": 3,
     "solution": false,
     "task": false
    }
   },
   "outputs": [],
   "source": [
    "'''รัน cell นี้ทุกครั้ง'''\n",
    "'''ตรวจสอบผลการคำนวณ'''\n",
    "from unittest.mock import patch\n",
    "from io import StringIO\n",
    "\n",
    "def test(inputs,expected_output,f): \n",
    "    with patch('builtins.input', side_effect=inputs), patch('sys.stdout', new_callable=StringIO) as mock_stdout:\n",
    "        f()\n",
    "        assert ''.join(mock_stdout.getvalue().lower().split()) == ''.join(expected_output.lower().split()),mock_stdout.getvalue()"
   ]
  },
  {
   "cell_type": "markdown",
   "id": "d49b0c7d",
   "metadata": {
    "nbgrader": {
     "grade": false,
     "grade_id": "cell-bb39852fd8bb0216",
     "locked": true,
     "schema_version": 3,
     "solution": false,
     "task": false
    }
   },
   "source": [
    "**Q1:** แสดงผลข้อมูลที่ได้รับจากผู้ใช้\n",
    "\n",
    "*ตัวอย่างการรัน*\n",
    "\n",
    "```\n",
    "Enter text: hello\n",
    "hello\n",
    "```"
   ]
  },
  {
   "cell_type": "code",
   "execution_count": 13,
   "id": "cb19eb2e",
   "metadata": {
    "nbgrader": {
     "grade": false,
     "grade_id": "cell-8ab27fd250e60eae",
     "locked": false,
     "schema_version": 3,
     "solution": true,
     "task": false
    }
   },
   "outputs": [],
   "source": [
    "def runQ1():\n",
    "    ### BEGIN SOLUTION\n",
    "    print(input('Enter text: '))\n",
    "    ### END SOLUTION"
   ]
  },
  {
   "cell_type": "code",
   "execution_count": 2,
   "id": "906de5bd",
   "metadata": {
    "nbgrader": {
     "grade": false,
     "grade_id": "cell-c8573cf5d6e7ca67",
     "locked": true,
     "schema_version": 3,
     "solution": false,
     "task": false
    }
   },
   "outputs": [
    {
     "name": "stdout",
     "output_type": "stream",
     "text": [
      "Your text: hello\n",
      "hello\n"
     ]
    }
   ],
   "source": [
    "'''ตรวจสอบผลลัพธ์ของโปรแกรมด้วยการรันที่ cell นี้'''\n",
    "runQ1()"
   ]
  },
  {
   "cell_type": "code",
   "execution_count": 14,
   "id": "9b984696",
   "metadata": {
    "nbgrader": {
     "grade": true,
     "grade_id": "cell-995c8620993610aa",
     "locked": true,
     "points": 4,
     "schema_version": 3,
     "solution": false,
     "task": false
    }
   },
   "outputs": [
    {
     "name": "stdout",
     "output_type": "stream",
     "text": [
      "ok\n"
     ]
    }
   ],
   "source": [
    "# Q1: 4 คะแนน\n",
    "test(['hello'],'hello\\n',f=runQ1)\n",
    "### BEGIN HIDDEN TESTS\n",
    "test(['wonderland'],'wonderland\\n',f=runQ1)\n",
    "### END HIDDEN TESTS\n",
    "print('ok')"
   ]
  },
  {
   "cell_type": "markdown",
   "id": "0dbcbab7",
   "metadata": {
    "nbgrader": {
     "grade": false,
     "grade_id": "cell-b66143de19dade56",
     "locked": true,
     "schema_version": 3,
     "solution": false,
     "task": false
    }
   },
   "source": [
    "**Q2:** หาผลลบของเลข 2 จำนวน ที่ได้รับจากผู้ใช้\n",
    "\n",
    "*ตัวอย่างการรัน*\n",
    "\n",
    "```\n",
    "Enter 2 numbers: 3.4 2\n",
    "1.4\n",
    "```"
   ]
  },
  {
   "cell_type": "code",
   "execution_count": 25,
   "id": "c690b40f",
   "metadata": {
    "nbgrader": {
     "grade": false,
     "grade_id": "cell-1e11f8aa06fc6866",
     "locked": false,
     "schema_version": 3,
     "solution": true,
     "task": false
    }
   },
   "outputs": [],
   "source": [
    "def runQ2():\n",
    "    ### BEGIN SOLUTION\n",
    "    a,b = input('Enter 2 numbers: ').split()\n",
    "    print(float(a)-float(b))\n",
    "    ### END SOLUTION"
   ]
  },
  {
   "cell_type": "code",
   "execution_count": 26,
   "id": "b6e8a4c1",
   "metadata": {
    "nbgrader": {
     "grade": false,
     "grade_id": "cell-626eab9dc1b02b61",
     "locked": true,
     "schema_version": 3,
     "solution": false,
     "task": false
    }
   },
   "outputs": [
    {
     "name": "stdout",
     "output_type": "stream",
     "text": [
      "Enter 2 numbers: 3.4 2\n",
      "1.4\n"
     ]
    }
   ],
   "source": [
    "'''ตรวจสอบผลลัพธ์ของโปรแกรมด้วยการรันที่ cell นี้'''\n",
    "runQ2()"
   ]
  },
  {
   "cell_type": "code",
   "execution_count": 30,
   "id": "e45fcb30",
   "metadata": {
    "nbgrader": {
     "grade": true,
     "grade_id": "cell-7b5327b626b123e5",
     "locked": true,
     "points": 5,
     "schema_version": 3,
     "solution": false,
     "task": false
    }
   },
   "outputs": [
    {
     "name": "stdout",
     "output_type": "stream",
     "text": [
      "ok\n"
     ]
    }
   ],
   "source": [
    "# Q2: 5 คะแนน\n",
    "test(['3.4 2'],'1.4\\n',f=runQ2)\n",
    "### BEGIN HIDDEN TESTS\n",
    "test(['8.1 1'],'7.1\\n',f=runQ2)\n",
    "### END HIDDEN TESTS\n",
    "print('ok')"
   ]
  },
  {
   "cell_type": "markdown",
   "id": "0f47b41f",
   "metadata": {
    "nbgrader": {
     "grade": false,
     "grade_id": "cell-d17cefce1e77fe04",
     "locked": true,
     "schema_version": 3,
     "solution": false,
     "task": false
    }
   },
   "source": [
    "**Q3**: จงเขียนโปรแกรมสร้าง password จากข้อมูลที่ผู้ใช้ป้อนเข้ามา โดยผู้ใช้ป้อนปี พ.ศ. ที่เกิด และชื่อ (ผู้ใช้ป้อนข้อมูลถูกต้องเสมอ) หลังจากนั้นให้โปรแกรมสร้าง password โดยการนำชื่อ ตามด้วยรหัสของอายุ ถ้าอายุมากกว่า 60 ปี ให้เป็น S ถ้าอายุมากกว่า 30 ปี แต่ไม่เกิน 60 ปีให้เป็น M และอายุไม่เกิน 30 ปี ให้เป็น J \n",
    "\n",
    "*ตัวอย่างการรัน*\n",
    "```\n",
    "Enter birth year: 2540\n",
    "Enter firstname: Ploy\n",
    "PloyJ\n",
    "```"
   ]
  },
  {
   "cell_type": "code",
   "execution_count": 16,
   "id": "f2b2c054",
   "metadata": {
    "nbgrader": {
     "grade": false,
     "grade_id": "cell-d227fd28c340257f",
     "locked": false,
     "schema_version": 3,
     "solution": true,
     "task": false
    }
   },
   "outputs": [],
   "source": [
    "def runQ3():\n",
    "    ### BEGIN SOLUTION\n",
    "    year = int(input('Enter birth year: '))\n",
    "    name = input('Enter firstname: ')\n",
    "    student_id = name\n",
    "    age = 2567 - year\n",
    "    if age > 60:\n",
    "        student_id += 'S'\n",
    "    elif age > 30:\n",
    "        student_id += 'M'\n",
    "    else:\n",
    "        student_id += 'J'\n",
    "    print(student_id)\n",
    "    ### END SOLUTION"
   ]
  },
  {
   "cell_type": "code",
   "execution_count": 18,
   "id": "e242d86c",
   "metadata": {
    "nbgrader": {
     "grade": false,
     "grade_id": "cell-46b5eac8ec504750",
     "locked": true,
     "schema_version": 3,
     "solution": false,
     "task": false
    }
   },
   "outputs": [
    {
     "name": "stdout",
     "output_type": "stream",
     "text": [
      "Enter birth year: 2540\n",
      "Enter firstname: ploy\n",
      "ployJ\n"
     ]
    }
   ],
   "source": [
    "'''ตรวจสอบผลลัพธ์ของโปรแกรมด้วยการรันที่ cell นี้'''\n",
    "runQ3()"
   ]
  },
  {
   "cell_type": "code",
   "execution_count": null,
   "id": "183757b3",
   "metadata": {
    "nbgrader": {
     "grade": true,
     "grade_id": "cell-32130e4cb4ecdcc2",
     "locked": true,
     "points": 3,
     "schema_version": 3,
     "solution": false,
     "task": false
    }
   },
   "outputs": [],
   "source": [
    "# Q3.1: 3 คะแนน\n",
    "test(['2540','Ploy'],'PloyJ\\n',f=runQ3)\n",
    "### BEGIN HIDDEN TESTS\n",
    "test(['2542','Jennifer'],'JenniferJ\\n',f=runQ3)\n",
    "### END HIDDEN TESTS\n",
    "print('ok')"
   ]
  },
  {
   "cell_type": "code",
   "execution_count": null,
   "id": "45ced543",
   "metadata": {
    "nbgrader": {
     "grade": true,
     "grade_id": "cell-07bef9b21900d92c",
     "locked": true,
     "points": 3,
     "schema_version": 3,
     "solution": false,
     "task": false
    }
   },
   "outputs": [],
   "source": [
    "# Q3.2: 3 คะแนน\n",
    "test(['2533','Carol'],'CarolM\\n',f=runQ3)\n",
    "### BEGIN HIDDEN TESTS\n",
    "test(['2522','Jennifer'],'JenniferM\\n',f=runQ3)\n",
    "### END HIDDEN TESTS\n",
    "print('ok')"
   ]
  },
  {
   "cell_type": "code",
   "execution_count": null,
   "id": "c548955b",
   "metadata": {
    "nbgrader": {
     "grade": true,
     "grade_id": "cell-b6b53fb833e4362d",
     "locked": true,
     "points": 3,
     "schema_version": 3,
     "solution": false,
     "task": false
    }
   },
   "outputs": [],
   "source": [
    "# Q3.3: 3 คะแนน\n",
    "test(['2500','Amber'],'AmberS\\n',f=runQ3)\n",
    "### BEGIN HIDDEN TESTS\n",
    "test(['2492','Jennifer'],'JenniferS\\n',f=runQ3)\n",
    "### END HIDDEN TESTS\n",
    "print('ok')"
   ]
  },
  {
   "cell_type": "markdown",
   "id": "71ba5b3c",
   "metadata": {
    "nbgrader": {
     "grade": false,
     "grade_id": "cell-e95648fcc892ff02",
     "locked": true,
     "schema_version": 3,
     "solution": false,
     "task": false
    }
   },
   "source": [
    "**Q4:** หาผลรวมของจำนวนนับตั้งแต่ 1 ถึง n โดยที่ n คือจำนวนนับที่ผู้ใช้ป้อนเข้ามา (ผู้ใช้ป้อนจำนวนเต็มที่มากกว่า 0 เสมอ)\n",
    "\n",
    "*ตัวอย่างการรัน*\n",
    "\n",
    "```\n",
    "Enter a number: 1\n",
    "1\n",
    "\n",
    "Enter a number: 5\n",
    "15\n",
    "```"
   ]
  },
  {
   "cell_type": "code",
   "execution_count": 23,
   "id": "0c727299",
   "metadata": {
    "nbgrader": {
     "grade": false,
     "grade_id": "cell-6cb00acbc28cafe8",
     "locked": false,
     "schema_version": 3,
     "solution": true,
     "task": false
    }
   },
   "outputs": [],
   "source": [
    "def runQ4():\n",
    "    ### BEGIN SOLUTION\n",
    "    n = int(input('Enter a number: '))\n",
    "    total = 0\n",
    "    for i in range(1,n+1):\n",
    "        total += i\n",
    "    print(total)\n",
    "    ### END SOLUTION"
   ]
  },
  {
   "cell_type": "code",
   "execution_count": 24,
   "id": "a03757b6",
   "metadata": {
    "nbgrader": {
     "grade": false,
     "grade_id": "cell-dfe19c721b40fd6d",
     "locked": true,
     "schema_version": 3,
     "solution": false,
     "task": false
    }
   },
   "outputs": [
    {
     "name": "stdout",
     "output_type": "stream",
     "text": [
      "Enter a number: 34\n",
      "595\n"
     ]
    }
   ],
   "source": [
    "'''ตรวจสอบผลลัพธ์ของโปรแกรมด้วยการรันที่ cell นี้'''\n",
    "runQ4()"
   ]
  },
  {
   "cell_type": "code",
   "execution_count": 43,
   "id": "35f4c112",
   "metadata": {
    "nbgrader": {
     "grade": true,
     "grade_id": "cell-e7928d0818c59798",
     "locked": true,
     "points": 4,
     "schema_version": 3,
     "solution": false,
     "task": false
    }
   },
   "outputs": [
    {
     "name": "stdout",
     "output_type": "stream",
     "text": [
      "ok\n"
     ]
    }
   ],
   "source": [
    "# Q5.1: 4 คะแนน\n",
    "test(['1'],'1\\n',f=runQ4)\n",
    "print('ok')"
   ]
  },
  {
   "cell_type": "code",
   "execution_count": 42,
   "id": "5f31067f",
   "metadata": {
    "nbgrader": {
     "grade": true,
     "grade_id": "cell-33e8bc5b7bf08f2b",
     "locked": true,
     "points": 4,
     "schema_version": 3,
     "solution": false,
     "task": false
    }
   },
   "outputs": [
    {
     "name": "stdout",
     "output_type": "stream",
     "text": [
      "ok\n"
     ]
    }
   ],
   "source": [
    "# Q5.2: 4 คะแนน\n",
    "test(['5'],'15\\n',f=runQ4)\n",
    "### BEGIN HIDDEN TESTS\n",
    "test(['34'],'595\\n',f=runQ4)\n",
    "### END HIDDEN TESTS\n",
    "print('ok')"
   ]
  },
  {
   "cell_type": "markdown",
   "id": "ec4a2a18",
   "metadata": {
    "nbgrader": {
     "grade": false,
     "grade_id": "cell-d569a61e6e9ea1d2",
     "locked": true,
     "schema_version": 3,
     "solution": false,
     "task": false
    }
   },
   "source": [
    "**Q5:** ปล่อยลูกบอลจากที่สูง h เมตร (ผู้ใช้ป้อนจำนวนเต็มศูนย์หรือจำนวนเต็มบวกเสมอ) ลูกบอลจะกระทบพื้นแล้วเด้งขึ้นเป็น**จำนวนเต็มมากสุดที่ไม่เกินครึ่งหนึ่งของความสูงเดิม** เขียนโปรแกรมนับว่าลูกบอลกระทบพื้นกี่ครั้งหลังจากปล่อยจนกระทั่งหยุดเด้ง  \n",
    "\n",
    "*ตัวอย่างการรัน*\n",
    "\n",
    "```\n",
    "Enter h: 0 \n",
    "1\n",
    "\n",
    "Enter h: 1 \n",
    "1\n",
    "\n",
    "Enter h: 2 \n",
    "2\n",
    "\n",
    "Enter h: 5 \n",
    "3\n",
    "```"
   ]
  },
  {
   "cell_type": "code",
   "execution_count": 13,
   "id": "69ad0470",
   "metadata": {
    "nbgrader": {
     "grade": false,
     "grade_id": "cell-62c940b0d3c7ac46",
     "locked": false,
     "schema_version": 3,
     "solution": true,
     "task": false
    }
   },
   "outputs": [],
   "source": [
    "def runQ5():\n",
    "    ### BEGIN SOLUTION\n",
    "    h = int(input('Enter h: '))\n",
    "    count = 1\n",
    "    h = h // 2\n",
    "    while h > 0:\n",
    "        h = h // 2        \n",
    "        count += 1\n",
    "#       print(h)\n",
    "    print(count)\n",
    "    ### END SOLUTION"
   ]
  },
  {
   "cell_type": "code",
   "execution_count": 15,
   "id": "a4d9ab78",
   "metadata": {
    "nbgrader": {
     "grade": false,
     "grade_id": "cell-42935c95fdddd60c",
     "locked": true,
     "schema_version": 3,
     "solution": false,
     "task": false
    }
   },
   "outputs": [
    {
     "name": "stdout",
     "output_type": "stream",
     "text": [
      "Enter h: 19\n",
      "5\n"
     ]
    }
   ],
   "source": [
    "'''ตรวจสอบผลลัพธ์ของโปรแกรมด้วยการรันที่ cell นี้'''\n",
    "runQ5()"
   ]
  },
  {
   "cell_type": "code",
   "execution_count": 10,
   "id": "5af8d213",
   "metadata": {
    "nbgrader": {
     "grade": true,
     "grade_id": "cell-519e8a3264e68719",
     "locked": true,
     "points": 3,
     "schema_version": 3,
     "solution": false,
     "task": false
    }
   },
   "outputs": [
    {
     "name": "stdout",
     "output_type": "stream",
     "text": [
      "ok\n"
     ]
    }
   ],
   "source": [
    "# Q5.1: 3 คะแนน\n",
    "test(['0'],'1\\n',f=runQ5)\n",
    "print('ok')"
   ]
  },
  {
   "cell_type": "code",
   "execution_count": 107,
   "id": "6b4926ef",
   "metadata": {
    "nbgrader": {
     "grade": true,
     "grade_id": "cell-d20c3ba52734c4ce",
     "locked": true,
     "points": 3,
     "schema_version": 3,
     "solution": false,
     "task": false
    }
   },
   "outputs": [
    {
     "name": "stdout",
     "output_type": "stream",
     "text": [
      "ok\n"
     ]
    }
   ],
   "source": [
    "# Q5.2: 3 คะแนน\n",
    "test(['1'],'1\\n',f=runQ5)\n",
    "print('ok')"
   ]
  },
  {
   "cell_type": "code",
   "execution_count": 112,
   "id": "7d1707ae",
   "metadata": {
    "nbgrader": {
     "grade": true,
     "grade_id": "cell-6d8c5715fbfeaa7d",
     "locked": true,
     "points": 3,
     "schema_version": 3,
     "solution": false,
     "task": false
    }
   },
   "outputs": [
    {
     "name": "stdout",
     "output_type": "stream",
     "text": [
      "ok\n"
     ]
    }
   ],
   "source": [
    "# Q5.2: 3 คะแนน\n",
    "test(['2'],'2\\n',f=runQ5)\n",
    "test(['5'],'3\\n',f=runQ5)\n",
    "### BEGIN HIDDEN TESTS\n",
    "test(['19'],'5\\n',f=runQ5)\n",
    "### END HIDDEN TESTS\n",
    "print('ok')"
   ]
  }
 ],
 "metadata": {
  "celltoolbar": "Create Assignment",
  "kernelspec": {
   "display_name": "Python 3 (ipykernel)",
   "language": "python",
   "name": "python3"
  },
  "language_info": {
   "codemirror_mode": {
    "name": "ipython",
    "version": 3
   },
   "file_extension": ".py",
   "mimetype": "text/x-python",
   "name": "python",
   "nbconvert_exporter": "python",
   "pygments_lexer": "ipython3",
   "version": "3.9.12"
  }
 },
 "nbformat": 4,
 "nbformat_minor": 5
}
