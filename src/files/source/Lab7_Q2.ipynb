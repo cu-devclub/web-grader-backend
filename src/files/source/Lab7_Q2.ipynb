{
 "cells": [
  {
   "cell_type": "markdown",
   "metadata": {
    "nbgrader": {
     "grade": false,
     "grade_id": "cell-dbf37dcea5d7dc5c",
     "locked": true,
     "schema_version": 3,
     "solution": false,
     "task": false
    }
   },
   "source": [
    "## Q2 (5 points)\n",
    "จงเขียนโปรแกรมที่รับตำแหน่ง (x,y) เริ่มต้นของหุ่นยนต์จากผู้ใช้ (x และ y เป็นจำนวนเต็ม) <br>\n",
    "แล้วอ่านลำดับของคำสั่งที่ให้หุ่นยนต์เดินไปทางซ้าย (L) ขวา (R) ขึ้นบน (U) ลงล่าง (D) ครั้งละ 1 หน่วย <br>\n",
    "จากไฟล์ **move\\<n\\>.txt** แล้วหาว่าเมื่อจบโปรแกรมหุ่นยนต์จะไปอยู่ที่ตำแหน่งใด โดยให้มีกำแพงที่เส้น **x=10, x=-10, y=10 และ y=-10**<br>\n",
    "ถ้าการเดินของหุ่นยนต์จะทำให้หุ่นยนต์ชนกำแพง หุ่นยนต์จะไม่เคลื่อนที่จากตำแหน่งเดิม เช่น \n",
    "เมื่อหุ่นยนต์อยู่ที่ (9,2) และได้คำสั่ง R หุ่นจะชนกำแพงที่เส้น x=10 ดังนั้นจะไม่ขยับตำแหน่ง\n",
    "**ผู้ใช้จะพิมพ์ตำแหน่งเริ่มต้นของหุ่นยนต์ที่อยู่ในกล่องเท่านั้น**"
   ]
  },
  {
   "cell_type": "markdown",
   "metadata": {
    "nbgrader": {
     "grade": false,
     "grade_id": "cell-7ae57c7b0fc2869d",
     "locked": true,
     "schema_version": 3,
     "solution": false,
     "task": false
    }
   },
   "source": [
    "### ตัวอย่างการทำงาน: \n",
    "\n",
    "ไฟล์ move3.txt: <br>\n",
    "L <br>\n",
    "L <br>\n",
    "D <br>\n",
    "R <br>\n",
    "R <br>\n",
    "R <br>\n",
    "R <br>\n",
    "----\n",
    "Choose your movefile: **move3.txt** <br>\n",
    "Initial position : **9,-9** <br>\n",
    "Robot stops at 9,-9"
   ]
  },
  {
   "cell_type": "markdown",
   "metadata": {
    "nbgrader": {
     "grade": false,
     "grade_id": "cell-89fa11d51cba8b35",
     "locked": true,
     "schema_version": 3,
     "solution": false,
     "task": false
    }
   },
   "source": [
    "### ตัวอย่างการทำงาน: \n",
    "\n",
    "ไฟล์ move3.txt:<br>\n",
    "L <br>\n",
    "L <br>\n",
    "D <br>\n",
    "R <br>\n",
    "R <br>\n",
    "R <br>\n",
    "R <br>\n",
    "---\n",
    "Choose your movefile: **move3.txt** <br>\n",
    "Initial position : **8,4** <br>\n",
    "Robot stops at 9,3"
   ]
  },
  {
   "cell_type": "markdown",
   "metadata": {
    "nbgrader": {
     "grade": false,
     "grade_id": "cell-8d6f849a001e7146",
     "locked": true,
     "schema_version": 3,
     "solution": false,
     "task": false
    }
   },
   "source": [
    "### ตัวอย่างการทำงาน:\n",
    "\n",
    "ไฟล์ move4.txt: <br>\n",
    "L <br>\n",
    "L <br>\n",
    "X <br>\n",
    "U <br>\n",
    "D <br>\n",
    "Z <br>\n",
    "R <br>\n",
    "----\n",
    "Choose your movefile: **move4.txt** <br>\n",
    "Initial position : **1,2** <br>\n",
    "Invalid command"
   ]
  },
  {
   "cell_type": "code",
   "execution_count": null,
   "metadata": {
    "nbgrader": {
     "grade": false,
     "grade_id": "answer",
     "locked": false,
     "schema_version": 3,
     "solution": true
    }
   },
   "outputs": [],
   "source": [
    "def run():\n",
    "    ### BEGIN SOLUTION\n",
    "    filex= input(\"Choose your movefile:\")\n",
    "    f = open(filex,'r')\n",
    "    x,y = input('Initial position: ').split(',')\n",
    "    x = int(x)\n",
    "    y = int(y)\n",
    "    err = 0\n",
    "    \n",
    "    for line in f:\n",
    "        k = line.strip('\\n')\n",
    "        if k == 'L':\n",
    "            if x > -9:\n",
    "                x = x - 1\n",
    "        elif k == 'R':\n",
    "            if x < 9:\n",
    "                x = x + 1\n",
    "        elif k == 'U':\n",
    "            if y < 9:\n",
    "                y = y + 1\n",
    "        elif k == 'D':\n",
    "            if y > -9:\n",
    "                y = y - 1\n",
    "        else:\n",
    "            err = 1\n",
    "            break\n",
    "    if err == 0:\n",
    "        print('Robot stops at',str(x)+','+str(y))\n",
    "    else:\n",
    "        print('Invalid command')\n",
    "    f.close()\n",
    "    ### END SOLUTION    "
   ]
  },
  {
   "cell_type": "code",
   "execution_count": 19,
   "metadata": {
    "nbgrader": {
     "grade": false,
     "grade_id": "cell-befa13e6c82bd29b",
     "locked": true,
     "schema_version": 3,
     "solution": false,
     "task": false
    }
   },
   "outputs": [
    {
     "name": "stdout",
     "output_type": "stream",
     "text": [
      "Invalid command\n"
     ]
    }
   ],
   "source": [
    "'''ตรวจสอบผลลัพธ์ของโปรแกรมด้วยการรันที่ cell นี้'''\n",
    "run()"
   ]
  },
  {
   "cell_type": "code",
   "execution_count": 6,
   "metadata": {
    "nbgrader": {
     "grade": false,
     "grade_id": "partial",
     "locked": true,
     "schema_version": 3,
     "solution": false,
     "task": false
    }
   },
   "outputs": [],
   "source": [
    "'''ตรวจสอบผลการคำนวณ'''\n",
    "from unittest.mock import patch\n",
    "from io import StringIO\n",
    "import math\n",
    "\n",
    "def test(inputs,expected_output, r): \n",
    "    with patch('builtins.input', side_effect=inputs), patch('sys.stdout', new_callable=StringIO) as mock_stdout:\n",
    "        r()\n",
    "        assert mock_stdout.getvalue() == expected_output,mock_stdout.getvalue()\n",
    "        return mock_stdout.getvalue() == expected_output\n",
    "def test_easy_print(inputs, expected_output, r):\n",
    "    with patch('builtins.input', side_effect=inputs), patch('sys.stdout', new_callable=StringIO) as mock_stdout:\n",
    "        r()\n",
    "        assert expected_output in mock_stdout.getvalue(), mock_stdout.getvalue()\n",
    "        return expected_output in mock_stdout.getvalue()"
   ]
  },
  {
   "cell_type": "code",
   "execution_count": 30,
   "metadata": {
    "nbgrader": {
     "grade": true,
     "grade_id": "easy_print",
     "locked": true,
     "points": 1,
     "schema_version": 3,
     "solution": false,
     "task": false
    }
   },
   "outputs": [],
   "source": [
    "'''ตรวจสอบการแสดงผลลัพธ์อย่างง่าย'''\n",
    "print(test_easy_print(inputs=['move3.txt','9,-9'],expected_output='Robot', r=run))"
   ]
  },
  {
   "cell_type": "code",
   "execution_count": 31,
   "metadata": {
    "nbgrader": {
     "grade": true,
     "grade_id": "exact",
     "locked": false,
     "points": 1,
     "schema_version": 3,
     "solution": false
    }
   },
   "outputs": [],
   "source": [
    "'''ตรวจสอบผลการคำนวณและการแสดงผลลัพธ์ให้เหมือนกับโจทย์ที่กำหนดให้'''\n",
    "'''Robot can stop at position x,y'''\n",
    "print(test(['move3.txt','9,-9'],'Robot stops at 9,-9\\n', run)) #ex\n",
    "print(test(['move3.txt','8,4'],'Robot stops at 9,3\\n', run)) #ex\n",
    "print(test(['move3.txt','9,5'],'Robot stops at 9,4\\n', run)) # ++\n",
    "print(test(['move3.txt','-5,5'],'Robot stops at -3,4\\n', run))  #-+\n",
    "print(test(['move3.txt','-1,-1'],'Robot stops at 1,-2\\n', run))  #--"
   ]
  },
  {
   "cell_type": "code",
   "execution_count": 32,
   "metadata": {
    "nbgrader": {
     "grade": true,
     "grade_id": "cell-a07ef84aa3313800",
     "locked": true,
     "points": 1,
     "schema_version": 3,
     "solution": false,
     "task": false
    }
   },
   "outputs": [],
   "source": [
    "'''ตรวจสอบผลการคำนวณและการแสดงผลลัพธ์ให้เหมือนกับโจทย์ที่กำหนดให้'''\n",
    "'''Invalid command'''\n",
    "print(test(['move4.txt','15,20'],'Invalid command\\n', run)) #\n",
    "print(test(['move4.txt','1,1'],'Invalid command\\n', run)) #\n",
    "print(test(['move4.txt','1,2'],'Invalid command\\n', run)) #ex"
   ]
  },
  {
   "cell_type": "code",
   "execution_count": 33,
   "metadata": {
    "nbgrader": {
     "grade": true,
     "grade_id": "cell-fe7e7b9c9df1b4e6",
     "locked": true,
     "points": 1,
     "schema_version": 3,
     "solution": false,
     "task": false
    }
   },
   "outputs": [],
   "source": [
    "'''เทสลับ1'''\n",
    "### BEGIN HIDDEN TESTS\n",
    "print(test(['move3.txt','0,0'],'Robot stops at 2,-1\\n', run)) \n",
    "print(test(['move3a.txt','1,3'],'Robot stops at 2,0\\n', run))\n",
    "print(test(['move4.txt','1,2'],'Invalid command\\n', run))\n",
    "### END HIDDEN TESTS"
   ]
  },
  {
   "cell_type": "code",
   "execution_count": 34,
   "metadata": {
    "nbgrader": {
     "grade": true,
     "grade_id": "cell-ad91ccd55eeb0c2f",
     "locked": true,
     "points": 1,
     "schema_version": 3,
     "solution": false,
     "task": false
    }
   },
   "outputs": [],
   "source": [
    "'''เทสลับ2'''\n",
    "### BEGIN HIDDEN TESTS\n",
    "print(test(['move3a.txt','3,4'],'Robot stops at 4,1\\n', run))  \n",
    "print(test(['move4a.txt','-6,2'],'Invalid command\\n', run))\n",
    "print(test(['move4a.txt','5,6'],'Invalid command\\n', run))\n",
    "### END HIDDEN TESTS"
   ]
  }
 ],
 "metadata": {
  "celltoolbar": "Create Assignment",
  "kernelspec": {
   "display_name": "Python 3 (ipykernel)",
   "language": "python",
   "name": "python3"
  },
  "language_info": {
   "codemirror_mode": {
    "name": "ipython",
    "version": 3
   },
   "file_extension": ".py",
   "mimetype": "text/x-python",
   "name": "python",
   "nbconvert_exporter": "python",
   "pygments_lexer": "ipython3",
   "version": "3.8.13"
  },
  "vscode": {
   "interpreter": {
    "hash": "318f2c383d48220c821fefd227250c35bb828f95042f5889a5ad1704b1baf79c"
   }
  }
 },
 "nbformat": 4,
 "nbformat_minor": 1
}
