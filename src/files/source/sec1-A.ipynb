{
 "cells": [
  {
   "cell_type": "code",
   "execution_count": 1,
   "id": "8c7abe6d",
   "metadata": {
    "nbgrader": {
     "grade": false,
     "grade_id": "cell-725fd3c8e9a5a312",
     "locked": true,
     "schema_version": 3,
     "solution": false,
     "task": false
    }
   },
   "outputs": [],
   "source": [
    "'''รัน cell นี้ทุกครั้ง'''\n",
    "'''ตรวจสอบผลการคำนวณ'''\n",
    "from unittest.mock import patch\n",
    "from io import StringIO\n",
    "\n",
    "def test(inputs,expected_output,f): \n",
    "    with patch('builtins.input', side_effect=inputs), patch('sys.stdout', new_callable=StringIO) as mock_stdout:\n",
    "        f()\n",
    "        assert ''.join(mock_stdout.getvalue().lower().split()) == ''.join(expected_output.lower().split()),mock_stdout.getvalue()"
   ]
  },
  {
   "cell_type": "markdown",
   "id": "d49b0c7d",
   "metadata": {
    "nbgrader": {
     "grade": false,
     "grade_id": "cell-bb39852fd8bb0216",
     "locked": true,
     "schema_version": 3,
     "solution": false,
     "task": false
    }
   },
   "source": [
    "**Q1:** แสดงผลข้อมูลที่ได้รับจากผู้ใช้\n",
    "\n",
    "*ตัวอย่างการรัน*\n",
    "\n",
    "```\n",
    "Enter text: hello\n",
    "hello\n",
    "```"
   ]
  },
  {
   "cell_type": "code",
   "execution_count": null,
   "id": "cb19eb2e",
   "metadata": {
    "nbgrader": {
     "grade": false,
     "grade_id": "cell-8ab27fd250e60eae",
     "locked": false,
     "schema_version": 3,
     "solution": true,
     "task": false
    }
   },
   "outputs": [],
   "source": [
    "def runQ1():\n",
    "    ### BEGIN SOLUTION\n",
    "    print(input('Enter text: '))\n",
    "    ### END SOLUTION"
   ]
  },
  {
   "cell_type": "code",
   "execution_count": null,
   "id": "906de5bd",
   "metadata": {
    "nbgrader": {
     "grade": false,
     "grade_id": "cell-c8573cf5d6e7ca67",
     "locked": true,
     "schema_version": 3,
     "solution": false,
     "task": false
    }
   },
   "outputs": [],
   "source": [
    "'''ตรวจสอบผลลัพธ์ของโปรแกรมด้วยการรันที่ cell นี้'''\n",
    "runQ1()"
   ]
  },
  {
   "cell_type": "code",
   "execution_count": null,
   "id": "9b984696",
   "metadata": {
    "nbgrader": {
     "grade": true,
     "grade_id": "cell-995c8620993610aa",
     "locked": true,
     "points": 4,
     "schema_version": 3,
     "solution": false,
     "task": false
    }
   },
   "outputs": [],
   "source": [
    "# Q1: 4 คะแนน\n",
    "test(['hello'],'hello\\n',f=runQ1)\n",
    "### BEGIN HIDDEN TESTS\n",
    "test(['wonderland'],'wonderland\\n',f=runQ1)\n",
    "### END HIDDEN TESTS\n",
    "print('ok')"
   ]
  },
  {
   "cell_type": "markdown",
   "id": "0dbcbab7",
   "metadata": {
    "nbgrader": {
     "grade": false,
     "grade_id": "cell-b66143de19dade56",
     "locked": true,
     "schema_version": 3,
     "solution": false,
     "task": false
    }
   },
   "source": [
    "**Q2:** หาผลรวมของเลข 2 จำนวน ที่ได้รับจากผู้ใช้\n",
    "\n",
    "*ตัวอย่างการรัน*\n",
    "\n",
    "```\n",
    "Enter 2 numbers: 3.4 2\n",
    "5.4\n",
    "```"
   ]
  },
  {
   "cell_type": "code",
   "execution_count": null,
   "id": "c690b40f",
   "metadata": {
    "nbgrader": {
     "grade": false,
     "grade_id": "cell-1e11f8aa06fc6866",
     "locked": false,
     "schema_version": 3,
     "solution": true,
     "task": false
    }
   },
   "outputs": [],
   "source": [
    "def runQ2():\n",
    "    ### BEGIN SOLUTION\n",
    "    a,b = input('Enter 2 numbers: ').split()\n",
    "    print(float(a)+float(b))\n",
    "    ### END SOLUTION"
   ]
  },
  {
   "cell_type": "code",
   "execution_count": null,
   "id": "b6e8a4c1",
   "metadata": {
    "nbgrader": {
     "grade": false,
     "grade_id": "cell-626eab9dc1b02b61",
     "locked": true,
     "schema_version": 3,
     "solution": false,
     "task": false
    }
   },
   "outputs": [],
   "source": [
    "'''ตรวจสอบผลลัพธ์ของโปรแกรมด้วยการรันที่ cell นี้'''\n",
    "runQ2()"
   ]
  },
  {
   "cell_type": "code",
   "execution_count": null,
   "id": "e45fcb30",
   "metadata": {
    "nbgrader": {
     "grade": true,
     "grade_id": "cell-7b5327b626b123e5",
     "locked": true,
     "points": 5,
     "schema_version": 3,
     "solution": false,
     "task": false
    }
   },
   "outputs": [],
   "source": [
    "# Q2: 5 คะแนน\n",
    "test(['3.4 2'],'5.4\\n',f=runQ2)\n",
    "### BEGIN HIDDEN TESTS\n",
    "test(['8.2 1'],'9.2\\n',f=runQ2)\n",
    "### END HIDDEN TESTS\n",
    "print('ok')"
   ]
  },
  {
   "cell_type": "markdown",
   "id": "1acb9dd9",
   "metadata": {
    "nbgrader": {
     "grade": false,
     "grade_id": "cell-43884492de31aeaa",
     "locked": true,
     "schema_version": 3,
     "solution": false,
     "task": false
    }
   },
   "source": [
    "**Q3:** หาผลลัพธ์ของการคำนวณ เมื่อผู้ใช้ป้อนข้อมูลดังนี้ ตัวเลข ตัวกระทำ ตัวเลข (^,-,x หมายถึง การยกกำลัง การลบ การคูณ ตามลำดับ) \n",
    "\n",
    "*ตัวอย่างการรัน*\n",
    "\n",
    "```\n",
    "Enter num1 (^,-,x) num2: 1.5 ^ 2\n",
    "2.25\n",
    "\n",
    "Enter num1 (^,-,x) num2: 3.4 - 2\n",
    "1.4\n",
    "\n",
    "Enter num1 (^,-,x) num2: 3.4 x 2\n",
    "6.8\n",
    "```"
   ]
  },
  {
   "cell_type": "code",
   "execution_count": null,
   "id": "fb8e9b48",
   "metadata": {
    "nbgrader": {
     "grade": false,
     "grade_id": "cell-c9482e47fd138902",
     "locked": false,
     "schema_version": 3,
     "solution": true,
     "task": false
    }
   },
   "outputs": [],
   "source": [
    "def runQ3():\n",
    "    ### BEGIN SOLUTION\n",
    "    a,op,b = input('Enter num1 (^,-,x) num2: ').split()\n",
    "    if op == '^':\n",
    "        print(float(a)**float(b))\n",
    "    elif op == '-':\n",
    "        print(float(a)-float(b))\n",
    "    elif op == 'x':\n",
    "        print(float(a)*float(b))\n",
    "    ### END SOLUTION"
   ]
  },
  {
   "cell_type": "code",
   "execution_count": null,
   "id": "44d729eb",
   "metadata": {
    "nbgrader": {
     "grade": false,
     "grade_id": "cell-0213419a9eb60ed9",
     "locked": true,
     "schema_version": 3,
     "solution": false,
     "task": false
    }
   },
   "outputs": [],
   "source": [
    "'''ตรวจสอบผลลัพธ์ของโปรแกรมด้วยการรันที่ cell นี้'''\n",
    "runQ3()"
   ]
  },
  {
   "cell_type": "code",
   "execution_count": null,
   "id": "1a1a7f38",
   "metadata": {
    "nbgrader": {
     "grade": true,
     "grade_id": "cell-bfbf5aacb054e9ea",
     "locked": true,
     "points": 3,
     "schema_version": 3,
     "solution": false,
     "task": false
    }
   },
   "outputs": [],
   "source": [
    "# Q3.1: 3 คะแนน\n",
    "test(['3.4 - 2'],'1.4\\n',f=runQ3)\n",
    "### BEGIN HIDDEN TESTS\n",
    "test(['1.2 - 3'],'-1.8\\n',f=runQ3)\n",
    "### END HIDDEN TESTS\n",
    "print('ok')"
   ]
  },
  {
   "cell_type": "code",
   "execution_count": null,
   "id": "7aea7a8b",
   "metadata": {
    "nbgrader": {
     "grade": true,
     "grade_id": "cell-c3078c718b42b77e",
     "locked": true,
     "points": 3,
     "schema_version": 3,
     "solution": false,
     "task": false
    }
   },
   "outputs": [],
   "source": [
    "# Q3.2: 3 คะแนน\n",
    "test(['1.5 ^ 2'],'2.25\\n',f=runQ3)\n",
    "### BEGIN HIDDEN TESTS\n",
    "test(['21.5 ^ 2'],'462.25\\n',f=runQ3)\n",
    "### END HIDDEN TESTS\n",
    "print('ok')"
   ]
  },
  {
   "cell_type": "code",
   "execution_count": null,
   "id": "62f17ac9",
   "metadata": {
    "nbgrader": {
     "grade": true,
     "grade_id": "cell-5e75fa0729f72765",
     "locked": true,
     "points": 3,
     "schema_version": 3,
     "solution": false,
     "task": false
    }
   },
   "outputs": [],
   "source": [
    "# Q3.3: 3 คะแนน\n",
    "test(['3.4 x 2'],'6.8\\n',f=runQ3)\n",
    "### BEGIN HIDDEN TESTS\n",
    "test(['-1.6 x 2'],'-3.2\\n',f=runQ3)\n",
    "### END HIDDEN TESTS\n",
    "print('ok')"
   ]
  },
  {
   "cell_type": "markdown",
   "id": "71ba5b3c",
   "metadata": {
    "nbgrader": {
     "grade": false,
     "grade_id": "cell-e95648fcc892ff02",
     "locked": true,
     "schema_version": 3,
     "solution": false,
     "task": false
    }
   },
   "source": [
    "**Q4:** หาผลคูณของจำนวนนับตั้งแต่ 1 ถึง n โดยที่ n คือจำนวนนับที่ผู้ใช้ป้อนเข้ามา (ผู้ใช้ป้อนจำนวนเต็มที่มากกว่า 0 เสมอ)\n",
    "\n",
    "*ตัวอย่างการรัน*\n",
    "\n",
    "```\n",
    "Enter a number: 1\n",
    "1\n",
    "\n",
    "Enter a number: 5\n",
    "120\n",
    "```"
   ]
  },
  {
   "cell_type": "code",
   "execution_count": null,
   "id": "0c727299",
   "metadata": {
    "nbgrader": {
     "grade": false,
     "grade_id": "cell-6cb00acbc28cafe8",
     "locked": false,
     "schema_version": 3,
     "solution": true,
     "task": false
    }
   },
   "outputs": [],
   "source": [
    "def runQ4():\n",
    "    ### BEGIN SOLUTION\n",
    "    n = int(input('Enter a number: '))\n",
    "    total = 1\n",
    "    for i in range(1,n+1):\n",
    "        total *= i\n",
    "    print(total)\n",
    "    ### END SOLUTION"
   ]
  },
  {
   "cell_type": "code",
   "execution_count": null,
   "id": "a03757b6",
   "metadata": {
    "nbgrader": {
     "grade": false,
     "grade_id": "cell-dfe19c721b40fd6d",
     "locked": true,
     "schema_version": 3,
     "solution": false,
     "task": false
    }
   },
   "outputs": [],
   "source": [
    "'''ตรวจสอบผลลัพธ์ของโปรแกรมด้วยการรันที่ cell นี้'''\n",
    "runQ4()"
   ]
  },
  {
   "cell_type": "code",
   "execution_count": null,
   "id": "35f4c112",
   "metadata": {
    "nbgrader": {
     "grade": true,
     "grade_id": "cell-e7928d0818c59798",
     "locked": true,
     "points": 4,
     "schema_version": 3,
     "solution": false,
     "task": false
    }
   },
   "outputs": [],
   "source": [
    "# Q4.1: 4 คะแนน\n",
    "test(['1'],'1\\n',f=runQ4)\n",
    "print('ok')"
   ]
  },
  {
   "cell_type": "code",
   "execution_count": null,
   "id": "5f31067f",
   "metadata": {
    "nbgrader": {
     "grade": true,
     "grade_id": "cell-33e8bc5b7bf08f2b",
     "locked": true,
     "points": 4,
     "schema_version": 3,
     "solution": false,
     "task": false
    }
   },
   "outputs": [],
   "source": [
    "# Q4.2: 4 คะแนน\n",
    "test(['5'],'120\\n',f=runQ4)\n",
    "### BEGIN HIDDEN TESTS\n",
    "test(['8'],'40320\\n',f=runQ4)\n",
    "### END HIDDEN TESTS\n",
    "print('ok')"
   ]
  },
  {
   "cell_type": "markdown",
   "id": "ec4a2a18",
   "metadata": {
    "nbgrader": {
     "grade": false,
     "grade_id": "cell-d569a61e6e9ea1d2",
     "locked": true,
     "schema_version": 3,
     "solution": false,
     "task": false
    }
   },
   "source": [
    "**Q5:** ปล่อยลูกบอลจากที่สูง h เมตร (ผู้ใช้ป้อนจำนวนเต็มศูนย์หรือจำนวนเต็มบวกเสมอ) ลูกบอลจะกระทบพื้นแล้วเด้งขึ้นเป็นจำนวนเต็มมากสุดที่ไม่เกินครึ่งหนึ่งของความสูงเดิม เขียนโปรแกรมหาระยะทางทั้งหมดของลูกบอลตั้งแต่ปล่อยจนกระทั่งหยุดเด้ง  \n",
    "\n",
    "*ตัวอย่างการรัน*\n",
    "\n",
    "```\n",
    "Enter h: 0 \n",
    "0\n",
    "\n",
    "Enter h: 1 \n",
    "1\n",
    "\n",
    "Enter h: 2 \n",
    "4\n",
    "\n",
    "Enter h: 5 \n",
    "11\n",
    "```"
   ]
  },
  {
   "cell_type": "code",
   "execution_count": 7,
   "id": "69ad0470",
   "metadata": {
    "nbgrader": {
     "grade": false,
     "grade_id": "cell-62c940b0d3c7ac46",
     "locked": false,
     "schema_version": 3,
     "solution": true,
     "task": false
    }
   },
   "outputs": [],
   "source": [
    "def runQ5():\n",
    "    ### BEGIN SOLUTION\n",
    "    h = int(input('Enter h: '))\n",
    "    dist = h\n",
    "    while h > 0:\n",
    "        h = h // 2\n",
    "        dist += 2*h\n",
    "#       print(h)\n",
    "    print(dist)\n",
    "    ### END SOLUTION"
   ]
  },
  {
   "cell_type": "code",
   "execution_count": 8,
   "id": "a4d9ab78",
   "metadata": {
    "nbgrader": {
     "grade": false,
     "grade_id": "cell-42935c95fdddd60c",
     "locked": true,
     "schema_version": 3,
     "solution": false,
     "task": false
    }
   },
   "outputs": [
    {
     "name": "stdout",
     "output_type": "stream",
     "text": [
      "Enter h: 19\n",
      "51\n"
     ]
    }
   ],
   "source": [
    "'''ตรวจสอบผลลัพธ์ของโปรแกรมด้วยการรันที่ cell นี้'''\n",
    "runQ5()"
   ]
  },
  {
   "cell_type": "code",
   "execution_count": null,
   "id": "5af8d213",
   "metadata": {
    "nbgrader": {
     "grade": true,
     "grade_id": "cell-519e8a3264e68719",
     "locked": true,
     "points": 3,
     "schema_version": 3,
     "solution": false,
     "task": false
    }
   },
   "outputs": [],
   "source": [
    "# Q5.1: 3 คะแนน\n",
    "test(['0'],'0\\n',f=runQ5)\n",
    "print('ok')"
   ]
  },
  {
   "cell_type": "code",
   "execution_count": null,
   "id": "6b4926ef",
   "metadata": {
    "nbgrader": {
     "grade": true,
     "grade_id": "cell-d20c3ba52734c4ce",
     "locked": true,
     "points": 3,
     "schema_version": 3,
     "solution": false,
     "task": false
    }
   },
   "outputs": [],
   "source": [
    "# Q5.2: 3 คะแนน\n",
    "test(['1'],'1\\n',f=runQ5)\n",
    "print('ok')"
   ]
  },
  {
   "cell_type": "code",
   "execution_count": null,
   "id": "7d1707ae",
   "metadata": {
    "nbgrader": {
     "grade": true,
     "grade_id": "cell-6d8c5715fbfeaa7d",
     "locked": true,
     "points": 3,
     "schema_version": 3,
     "solution": false,
     "task": false
    }
   },
   "outputs": [],
   "source": [
    "# Q5.2: 3 คะแนน\n",
    "test(['2'],'4\\n',f=runQ5)\n",
    "test(['5'],'11\\n',f=runQ5)\n",
    "### BEGIN HIDDEN TESTS\n",
    "test(['19'],'51\\n',f=runQ5)\n",
    "### END HIDDEN TESTS\n",
    "print('ok')"
   ]
  }
 ],
 "metadata": {
  "celltoolbar": "Create Assignment",
  "kernelspec": {
   "display_name": "Python 3 (ipykernel)",
   "language": "python",
   "name": "python3"
  },
  "language_info": {
   "codemirror_mode": {
    "name": "ipython",
    "version": 3
   },
   "file_extension": ".py",
   "mimetype": "text/x-python",
   "name": "python",
   "nbconvert_exporter": "python",
   "pygments_lexer": "ipython3",
   "version": "3.8.13"
  }
 },
 "nbformat": 4,
 "nbformat_minor": 5
}
