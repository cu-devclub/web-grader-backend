{
 "cells": [
  {
   "cell_type": "code",
   "execution_count": 1,
   "id": "8c7abe6d",
   "metadata": {
    "deletable": false,
    "editable": false,
    "nbgrader": {
     "cell_type": "code",
     "checksum": "f2382b177c880cfeabe09bc4a5cdc0a3",
     "grade": false,
     "grade_id": "cell-725fd3c8e9a5a312",
     "locked": true,
     "schema_version": 3,
     "solution": false,
     "task": false
    }
   },
   "outputs": [],
   "source": [
    "'''รัน cell นี้ทุกครั้ง'''\n",
    "'''ตรวจสอบผลการคำนวณ'''\n",
    "from unittest.mock import patch\n",
    "from io import StringIO\n",
    "\n",
    "def test(inputs,expected_output,f): \n",
    "    with patch('builtins.input', side_effect=inputs), patch('sys.stdout', new_callable=StringIO) as mock_stdout:\n",
    "        f()\n",
    "        assert ''.join(mock_stdout.getvalue().lower().split()) == ''.join(expected_output.lower().split()),mock_stdout.getvalue()"
   ]
  },
  {
   "cell_type": "markdown",
   "id": "d49b0c7d",
   "metadata": {
    "deletable": false,
    "editable": false,
    "nbgrader": {
     "cell_type": "markdown",
     "checksum": "a5b98deb6d1d29a6ea82fb2689a23eb2",
     "grade": false,
     "grade_id": "cell-bb39852fd8bb0216",
     "locked": true,
     "schema_version": 3,
     "solution": false,
     "task": false
    }
   },
   "source": [
    "**Q1:** แสดงผลข้อมูลที่ได้รับจากผู้ใช้\n",
    "\n",
    "*ตัวอย่างการรัน*\n",
    "\n",
    "```\n",
    "Enter text: hello\n",
    "hello\n",
    "```"
   ]
  },
  {
   "cell_type": "code",
   "execution_count": 6,
   "id": "cb19eb2e",
   "metadata": {
    "deletable": false,
    "nbgrader": {
     "cell_type": "code",
     "checksum": "caffde91f45edbd6686acbc639c69f41",
     "grade": false,
     "grade_id": "cell-8ab27fd250e60eae",
     "locked": false,
     "schema_version": 3,
     "solution": true,
     "task": false
    }
   },
   "outputs": [],
   "source": [
    "def runQ1():\n",
    "    # YOUR CODE HERE\n",
    "    n=input(\"Enter text:\")\n",
    "    print(\"hello\")"
   ]
  },
  {
   "cell_type": "code",
   "execution_count": 7,
   "id": "906de5bd",
   "metadata": {
    "deletable": false,
    "editable": false,
    "nbgrader": {
     "cell_type": "code",
     "checksum": "36778aa245ce9a7cff426577af059497",
     "grade": false,
     "grade_id": "cell-c8573cf5d6e7ca67",
     "locked": true,
     "schema_version": 3,
     "solution": false,
     "task": false
    }
   },
   "outputs": [
    {
     "name": "stdout",
     "output_type": "stream",
     "text": [
      "Enter text:hello\n",
      "hello\n"
     ]
    }
   ],
   "source": [
    "'''ตรวจสอบผลลัพธ์ของโปรแกรมด้วยการรันที่ cell นี้'''\n",
    "runQ1()"
   ]
  },
  {
   "cell_type": "code",
   "execution_count": 8,
   "id": "9b984696",
   "metadata": {
    "deletable": false,
    "editable": false,
    "nbgrader": {
     "cell_type": "code",
     "checksum": "704bdd73c1a633c53399ab296d4e63ec",
     "grade": true,
     "grade_id": "cell-995c8620993610aa",
     "locked": true,
     "points": 4,
     "schema_version": 3,
     "solution": false,
     "task": false
    }
   },
   "outputs": [
    {
     "name": "stdout",
     "output_type": "stream",
     "text": [
      "ok\n"
     ]
    }
   ],
   "source": [
    "# Q1: 4 คะแนน\n",
    "test(['hello'],'hello\\n',f=runQ1)\n",
    "print('ok')"
   ]
  },
  {
   "cell_type": "markdown",
   "id": "0dbcbab7",
   "metadata": {
    "deletable": false,
    "editable": false,
    "nbgrader": {
     "cell_type": "markdown",
     "checksum": "68f0206dfaa49d3113fc0a2b014b7f09",
     "grade": false,
     "grade_id": "cell-b66143de19dade56",
     "locked": true,
     "schema_version": 3,
     "solution": false,
     "task": false
    }
   },
   "source": [
    "**Q2:** หาผลรวมของเลข 2 จำนวน ที่ได้รับจากผู้ใช้\n",
    "\n",
    "*ตัวอย่างการรัน*\n",
    "\n",
    "```\n",
    "Enter 2 numbers: 3.4 2\n",
    "5.4\n",
    "```"
   ]
  },
  {
   "cell_type": "code",
   "execution_count": 5,
   "id": "c690b40f",
   "metadata": {
    "deletable": false,
    "nbgrader": {
     "cell_type": "code",
     "checksum": "d9615b743e3893f57dd64cda4332a781",
     "grade": false,
     "grade_id": "cell-1e11f8aa06fc6866",
     "locked": false,
     "schema_version": 3,
     "solution": true,
     "task": false
    }
   },
   "outputs": [],
   "source": [
    "def runQ2():\n",
    "    # YOUR CODE HERE\n",
    "    x=input(\"Enter 2 numbers:\")\n",
    "    print(\" Total : a+b \")\n",
    "    \n",
    "    \n",
    "    \n",
    "    \n",
    "   "
   ]
  },
  {
   "cell_type": "code",
   "execution_count": 6,
   "id": "b6e8a4c1",
   "metadata": {
    "deletable": false,
    "editable": false,
    "nbgrader": {
     "cell_type": "code",
     "checksum": "49e42f98bb12754b8576e17d6be6f321",
     "grade": false,
     "grade_id": "cell-626eab9dc1b02b61",
     "locked": true,
     "schema_version": 3,
     "solution": false,
     "task": false
    }
   },
   "outputs": [
    {
     "name": "stdout",
     "output_type": "stream",
     "text": [
      "Enter 2 numbers:3.2 3\n",
      " Total : a+b \n"
     ]
    }
   ],
   "source": [
    "'''ตรวจสอบผลลัพธ์ของโปรแกรมด้วยการรันที่ cell นี้'''\n",
    "runQ2()"
   ]
  },
  {
   "cell_type": "code",
   "execution_count": null,
   "id": "e45fcb30",
   "metadata": {
    "deletable": false,
    "editable": false,
    "nbgrader": {
     "cell_type": "code",
     "checksum": "250109ee655c85a518962a8631acfca8",
     "grade": true,
     "grade_id": "cell-7b5327b626b123e5",
     "locked": true,
     "points": 5,
     "schema_version": 3,
     "solution": false,
     "task": false
    }
   },
   "outputs": [],
   "source": [
    "# Q2: 5 คะแนน\n",
    "test(['3.4 2'],'5.4\\n',f=runQ2)\n",
    "print('ok')"
   ]
  },
  {
   "cell_type": "markdown",
   "id": "1acb9dd9",
   "metadata": {
    "deletable": false,
    "editable": false,
    "nbgrader": {
     "cell_type": "markdown",
     "checksum": "3bb5193b9115ca125266a5b02ac27b3f",
     "grade": false,
     "grade_id": "cell-43884492de31aeaa",
     "locked": true,
     "schema_version": 3,
     "solution": false,
     "task": false
    }
   },
   "source": [
    "**Q3:** หาผลลัพธ์ของการคำนวณ เมื่อผู้ใช้ป้อนข้อมูลดังนี้ ตัวเลข ตัวกระทำ ตัวเลข (^,-,x หมายถึง การยกกำลัง การลบ การคูณ ตามลำดับ) \n",
    "\n",
    "*ตัวอย่างการรัน*\n",
    "\n",
    "```\n",
    "Enter num1 (^,-,x) num2: 1.5 ^ 2\n",
    "2.25\n",
    "\n",
    "Enter num1 (^,-,x) num2: 3.4 - 2\n",
    "1.4\n",
    "\n",
    "Enter num1 (^,-,x) num2: 3.4 x 2\n",
    "6.8\n",
    "```"
   ]
  },
  {
   "cell_type": "code",
   "execution_count": null,
   "id": "fb8e9b48",
   "metadata": {
    "deletable": false,
    "nbgrader": {
     "cell_type": "code",
     "checksum": "6bebd6952a34211d6ef8160e19e50764",
     "grade": false,
     "grade_id": "cell-c9482e47fd138902",
     "locked": false,
     "schema_version": 3,
     "solution": true,
     "task": false
    }
   },
   "outputs": [],
   "source": [
    "def runQ3():\n",
    "    # YOUR CODE HERE\n",
    "    x=input(\"Enter num1 (^,-,x) num2:\")\n",
    "\n",
    "   \n",
    "\n",
    "    "
   ]
  },
  {
   "cell_type": "code",
   "execution_count": null,
   "id": "44d729eb",
   "metadata": {
    "deletable": false,
    "editable": false,
    "nbgrader": {
     "cell_type": "code",
     "checksum": "2aa2a29e717ce641177aca29e9d3ec7d",
     "grade": false,
     "grade_id": "cell-0213419a9eb60ed9",
     "locked": true,
     "schema_version": 3,
     "solution": false,
     "task": false
    }
   },
   "outputs": [],
   "source": [
    "'''ตรวจสอบผลลัพธ์ของโปรแกรมด้วยการรันที่ cell นี้'''\n",
    "runQ3()"
   ]
  },
  {
   "cell_type": "code",
   "execution_count": null,
   "id": "1a1a7f38",
   "metadata": {
    "deletable": false,
    "editable": false,
    "nbgrader": {
     "cell_type": "code",
     "checksum": "752dca381bd75e5259bd86b4c251d98e",
     "grade": true,
     "grade_id": "cell-bfbf5aacb054e9ea",
     "locked": true,
     "points": 3,
     "schema_version": 3,
     "solution": false,
     "task": false
    }
   },
   "outputs": [],
   "source": [
    "# Q3.1: 3 คะแนน\n",
    "test(['3.4 - 2'],'1.4\\n',f=runQ3)\n",
    "print('ok')"
   ]
  },
  {
   "cell_type": "code",
   "execution_count": null,
   "id": "7aea7a8b",
   "metadata": {
    "deletable": false,
    "editable": false,
    "nbgrader": {
     "cell_type": "code",
     "checksum": "168d0501aeb080f13c452bba422d89f9",
     "grade": true,
     "grade_id": "cell-c3078c718b42b77e",
     "locked": true,
     "points": 3,
     "schema_version": 3,
     "solution": false,
     "task": false
    }
   },
   "outputs": [],
   "source": [
    "# Q3.2: 3 คะแนน\n",
    "test(['1.5 ^ 2'],'2.25\\n',f=runQ3)\n",
    "print('ok')"
   ]
  },
  {
   "cell_type": "code",
   "execution_count": null,
   "id": "62f17ac9",
   "metadata": {
    "deletable": false,
    "editable": false,
    "nbgrader": {
     "cell_type": "code",
     "checksum": "3b6b1bb93bfda126a18a446259965aa7",
     "grade": true,
     "grade_id": "cell-5e75fa0729f72765",
     "locked": true,
     "points": 3,
     "schema_version": 3,
     "solution": false,
     "task": false
    }
   },
   "outputs": [],
   "source": [
    "# Q3.3: 3 คะแนน\n",
    "test(['3.4 x 2'],'6.8\\n',f=runQ3)\n",
    "print('ok')"
   ]
  },
  {
   "cell_type": "markdown",
   "id": "71ba5b3c",
   "metadata": {
    "deletable": false,
    "editable": false,
    "nbgrader": {
     "cell_type": "markdown",
     "checksum": "02012f66c8eec9dd26155b37fd32d2fc",
     "grade": false,
     "grade_id": "cell-e95648fcc892ff02",
     "locked": true,
     "schema_version": 3,
     "solution": false,
     "task": false
    }
   },
   "source": [
    "**Q4:** หาผลคูณของจำนวนนับตั้งแต่ 1 ถึง n โดยที่ n คือจำนวนนับที่ผู้ใช้ป้อนเข้ามา (ผู้ใช้ป้อนจำนวนเต็มที่มากกว่า 0 เสมอ)\n",
    "\n",
    "*ตัวอย่างการรัน*\n",
    "\n",
    "```\n",
    "Enter a number: 1\n",
    "1\n",
    "\n",
    "Enter a number: 5\n",
    "120\n",
    "```"
   ]
  },
  {
   "cell_type": "code",
   "execution_count": 2,
   "id": "0c727299",
   "metadata": {
    "deletable": false,
    "nbgrader": {
     "cell_type": "code",
     "checksum": "3415a543c796ebd85693663cf54c5cb6",
     "grade": false,
     "grade_id": "cell-6cb00acbc28cafe8",
     "locked": false,
     "schema_version": 3,
     "solution": true,
     "task": false
    }
   },
   "outputs": [],
   "source": [
    "def runQ4():\n",
    "    # YOUR CODE HERE"
   ]
  },
  {
   "cell_type": "code",
   "execution_count": 1,
   "id": "a03757b6",
   "metadata": {
    "deletable": false,
    "editable": false,
    "nbgrader": {
     "cell_type": "code",
     "checksum": "0c8e6aa9a23bd0368a6e1eae04007894",
     "grade": false,
     "grade_id": "cell-dfe19c721b40fd6d",
     "locked": true,
     "schema_version": 3,
     "solution": false,
     "task": false
    }
   },
   "outputs": [
    {
     "ename": "NameError",
     "evalue": "name 'runQ4' is not defined",
     "output_type": "error",
     "traceback": [
      "\u001b[1;31m---------------------------------------------------------------------------\u001b[0m",
      "\u001b[1;31mNameError\u001b[0m                                 Traceback (most recent call last)",
      "Input \u001b[1;32mIn [1]\u001b[0m, in \u001b[0;36m<cell line: 2>\u001b[1;34m()\u001b[0m\n\u001b[0;32m      1\u001b[0m \u001b[38;5;124;03m'''ตรวจสอบผลลัพธ์ของโปรแกรมด้วยการรันที่ cell นี้'''\u001b[39;00m\n\u001b[1;32m----> 2\u001b[0m \u001b[43mrunQ4\u001b[49m()\n",
      "\u001b[1;31mNameError\u001b[0m: name 'runQ4' is not defined"
     ]
    }
   ],
   "source": [
    "'''ตรวจสอบผลลัพธ์ของโปรแกรมด้วยการรันที่ cell นี้'''\n",
    "runQ4()"
   ]
  },
  {
   "cell_type": "code",
   "execution_count": null,
   "id": "35f4c112",
   "metadata": {
    "deletable": false,
    "editable": false,
    "nbgrader": {
     "cell_type": "code",
     "checksum": "eedbec2050d3691ad0d5e05d2fdd2da9",
     "grade": true,
     "grade_id": "cell-e7928d0818c59798",
     "locked": true,
     "points": 4,
     "schema_version": 3,
     "solution": false,
     "task": false
    }
   },
   "outputs": [],
   "source": [
    "# Q4.1: 4 คะแนน\n",
    "test(['1'],'1\\n',f=runQ4)\n",
    "print('ok')"
   ]
  },
  {
   "cell_type": "code",
   "execution_count": null,
   "id": "5f31067f",
   "metadata": {
    "deletable": false,
    "editable": false,
    "nbgrader": {
     "cell_type": "code",
     "checksum": "41ca4ad3346ebe7d21b6851d6a08df8d",
     "grade": true,
     "grade_id": "cell-33e8bc5b7bf08f2b",
     "locked": true,
     "points": 4,
     "schema_version": 3,
     "solution": false,
     "task": false
    }
   },
   "outputs": [],
   "source": [
    "# Q4.2: 4 คะแนน\n",
    "test(['5'],'120\\n',f=runQ4)\n",
    "print('ok')"
   ]
  },
  {
   "cell_type": "markdown",
   "id": "ec4a2a18",
   "metadata": {
    "deletable": false,
    "editable": false,
    "nbgrader": {
     "cell_type": "markdown",
     "checksum": "a62abe263c88615752c3d405f7bedfe2",
     "grade": false,
     "grade_id": "cell-d569a61e6e9ea1d2",
     "locked": true,
     "schema_version": 3,
     "solution": false,
     "task": false
    }
   },
   "source": [
    "**Q5:** ปล่อยลูกบอลจากที่สูง h เมตร (ผู้ใช้ป้อนจำนวนเต็มศูนย์หรือจำนวนเต็มบวกเสมอ) ลูกบอลจะกระทบพื้นแล้วเด้งขึ้นเป็นจำนวนเต็มมากสุดที่ไม่เกินครึ่งหนึ่งของความสูงเดิม เขียนโปรแกรมหาระยะทางทั้งหมดของลูกบอลตั้งแต่ปล่อยจนกระทั่งหยุดเด้ง  \n",
    "\n",
    "*ตัวอย่างการรัน*\n",
    "\n",
    "```\n",
    "Enter h: 0 \n",
    "0\n",
    "\n",
    "Enter h: 1 \n",
    "1\n",
    "\n",
    "Enter h: 2 \n",
    "4\n",
    "\n",
    "Enter h: 5 \n",
    "11\n",
    "```"
   ]
  },
  {
   "cell_type": "code",
   "execution_count": null,
   "id": "69ad0470",
   "metadata": {
    "deletable": false,
    "nbgrader": {
     "cell_type": "code",
     "checksum": "149c0eb1d1b7fb718750cfd41d0298f3",
     "grade": false,
     "grade_id": "cell-62c940b0d3c7ac46",
     "locked": false,
     "schema_version": 3,
     "solution": true,
     "task": false
    }
   },
   "outputs": [],
   "source": [
    "def runQ5():\n",
    "    # YOUR CODE HERE\n",
    "    x=input(\"Enter h:\")\n"
   ]
  },
  {
   "cell_type": "code",
   "execution_count": null,
   "id": "a4d9ab78",
   "metadata": {
    "deletable": false,
    "editable": false,
    "nbgrader": {
     "cell_type": "code",
     "checksum": "ccda5211be2347ef46e2942362f11ca1",
     "grade": false,
     "grade_id": "cell-42935c95fdddd60c",
     "locked": true,
     "schema_version": 3,
     "solution": false,
     "task": false
    }
   },
   "outputs": [],
   "source": [
    "'''ตรวจสอบผลลัพธ์ของโปรแกรมด้วยการรันที่ cell นี้'''\n",
    "runQ5()"
   ]
  },
  {
   "cell_type": "code",
   "execution_count": null,
   "id": "5af8d213",
   "metadata": {
    "deletable": false,
    "editable": false,
    "nbgrader": {
     "cell_type": "code",
     "checksum": "fd604199b34bb35a6973860a90ec3473",
     "grade": true,
     "grade_id": "cell-519e8a3264e68719",
     "locked": true,
     "points": 3,
     "schema_version": 3,
     "solution": false,
     "task": false
    }
   },
   "outputs": [],
   "source": [
    "# Q5.1: 3 คะแนน\n",
    "test(['0'],'0\\n',f=runQ5)\n",
    "print('ok')"
   ]
  },
  {
   "cell_type": "code",
   "execution_count": null,
   "id": "6b4926ef",
   "metadata": {
    "deletable": false,
    "editable": false,
    "nbgrader": {
     "cell_type": "code",
     "checksum": "af08130e15debf55041e98d61a365527",
     "grade": true,
     "grade_id": "cell-d20c3ba52734c4ce",
     "locked": true,
     "points": 3,
     "schema_version": 3,
     "solution": false,
     "task": false
    }
   },
   "outputs": [],
   "source": [
    "# Q5.2: 3 คะแนน\n",
    "test(['1'],'1\\n',f=runQ5)\n",
    "print('ok')"
   ]
  },
  {
   "cell_type": "code",
   "execution_count": null,
   "id": "7d1707ae",
   "metadata": {
    "deletable": false,
    "editable": false,
    "nbgrader": {
     "cell_type": "code",
     "checksum": "383b8b2b4d883f762ba77c11172e74dd",
     "grade": true,
     "grade_id": "cell-6d8c5715fbfeaa7d",
     "locked": true,
     "points": 3,
     "schema_version": 3,
     "solution": false,
     "task": false
    }
   },
   "outputs": [],
   "source": [
    "# Q5.2: 3 คะแนน\n",
    "test(['2'],'4\\n',f=runQ5)\n",
    "test(['5'],'11\\n',f=runQ5)\n",
    "print('ok')"
   ]
  }
 ],
 "metadata": {
  "kernelspec": {
   "display_name": "Python 3 (ipykernel)",
   "language": "python",
   "name": "python3"
  },
  "language_info": {
   "codemirror_mode": {
    "name": "ipython",
    "version": 3
   },
   "file_extension": ".py",
   "mimetype": "text/x-python",
   "name": "python",
   "nbconvert_exporter": "python",
   "pygments_lexer": "ipython3",
   "version": "3.9.12"
  }
 },
 "nbformat": 4,
 "nbformat_minor": 5
}
