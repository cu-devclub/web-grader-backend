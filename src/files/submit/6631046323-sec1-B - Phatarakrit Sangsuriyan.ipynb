{
 "cells": [
  {
   "cell_type": "code",
   "execution_count": 15,
   "id": "8c7abe6d",
   "metadata": {
    "deletable": false,
    "editable": false,
    "nbgrader": {
     "cell_type": "code",
     "checksum": "f2382b177c880cfeabe09bc4a5cdc0a3",
     "grade": false,
     "grade_id": "cell-725fd3c8e9a5a312",
     "locked": true,
     "schema_version": 3,
     "solution": false,
     "task": false
    }
   },
   "outputs": [],
   "source": [
    "'''รัน cell นี้ทุกครั้ง'''\n",
    "'''ตรวจสอบผลการคำนวณ'''\n",
    "from unittest.mock import patch\n",
    "from io import StringIO\n",
    "\n",
    "def test(inputs,expected_output,f): \n",
    "    with patch('builtins.input', side_effect=inputs), patch('sys.stdout', new_callable=StringIO) as mock_stdout:\n",
    "        f()\n",
    "        assert ''.join(mock_stdout.getvalue().lower().split()) == ''.join(expected_output.lower().split()),mock_stdout.getvalue()"
   ]
  },
  {
   "cell_type": "markdown",
   "id": "d49b0c7d",
   "metadata": {
    "deletable": false,
    "editable": false,
    "nbgrader": {
     "cell_type": "markdown",
     "checksum": "a5b98deb6d1d29a6ea82fb2689a23eb2",
     "grade": false,
     "grade_id": "cell-bb39852fd8bb0216",
     "locked": true,
     "schema_version": 3,
     "solution": false,
     "task": false
    }
   },
   "source": [
    "**Q1:** แสดงผลข้อมูลที่ได้รับจากผู้ใช้\n",
    "\n",
    "*ตัวอย่างการรัน*\n",
    "\n",
    "```\n",
    "Enter text: hello\n",
    "hello\n",
    "```"
   ]
  },
  {
   "cell_type": "code",
   "execution_count": 16,
   "id": "cb19eb2e",
   "metadata": {
    "deletable": false,
    "nbgrader": {
     "cell_type": "code",
     "checksum": "caffde91f45edbd6686acbc639c69f41",
     "grade": false,
     "grade_id": "cell-8ab27fd250e60eae",
     "locked": false,
     "schema_version": 3,
     "solution": true,
     "task": false
    }
   },
   "outputs": [],
   "source": [
    "def runQ1():\n",
    "    # YOUR CODE HERE\n",
    "    E = str(input(\"Enter text: \"))\n",
    "    print(E)"
   ]
  },
  {
   "cell_type": "code",
   "execution_count": 17,
   "id": "906de5bd",
   "metadata": {
    "deletable": false,
    "editable": false,
    "nbgrader": {
     "cell_type": "code",
     "checksum": "36778aa245ce9a7cff426577af059497",
     "grade": false,
     "grade_id": "cell-c8573cf5d6e7ca67",
     "locked": true,
     "schema_version": 3,
     "solution": false,
     "task": false
    }
   },
   "outputs": [
    {
     "name": "stdout",
     "output_type": "stream",
     "text": [
      "Enter text: hello\n",
      "hello\n"
     ]
    }
   ],
   "source": [
    "'''ตรวจสอบผลลัพธ์ของโปรแกรมด้วยการรันที่ cell นี้'''\n",
    "runQ1()"
   ]
  },
  {
   "cell_type": "code",
   "execution_count": 18,
   "id": "9b984696",
   "metadata": {
    "deletable": false,
    "editable": false,
    "nbgrader": {
     "cell_type": "code",
     "checksum": "704bdd73c1a633c53399ab296d4e63ec",
     "grade": true,
     "grade_id": "cell-995c8620993610aa",
     "locked": true,
     "points": 4,
     "schema_version": 3,
     "solution": false,
     "task": false
    }
   },
   "outputs": [
    {
     "name": "stdout",
     "output_type": "stream",
     "text": [
      "ok\n"
     ]
    }
   ],
   "source": [
    "# Q1: 4 คะแนน\n",
    "test(['hello'],'hello\\n',f=runQ1)\n",
    "print('ok')"
   ]
  },
  {
   "cell_type": "markdown",
   "id": "0dbcbab7",
   "metadata": {
    "deletable": false,
    "editable": false,
    "nbgrader": {
     "cell_type": "markdown",
     "checksum": "b242d0e4f2c529da3e7a18d25999451b",
     "grade": false,
     "grade_id": "cell-b66143de19dade56",
     "locked": true,
     "schema_version": 3,
     "solution": false,
     "task": false
    }
   },
   "source": [
    "**Q2:** หาผลลบของเลข 2 จำนวน ที่ได้รับจากผู้ใช้\n",
    "\n",
    "*ตัวอย่างการรัน*\n",
    "\n",
    "```\n",
    "Enter 2 numbers: 3.4 2\n",
    "1.4\n",
    "```"
   ]
  },
  {
   "cell_type": "code",
   "execution_count": 19,
   "id": "c690b40f",
   "metadata": {
    "deletable": false,
    "nbgrader": {
     "cell_type": "code",
     "checksum": "d9615b743e3893f57dd64cda4332a781",
     "grade": false,
     "grade_id": "cell-1e11f8aa06fc6866",
     "locked": false,
     "schema_version": 3,
     "solution": true,
     "task": false
    }
   },
   "outputs": [],
   "source": [
    "def runQ2():\n",
    "    # YOUR CODE HERE\n",
    "    E = input(\"Enter 2 numbers: \")\n",
    "    a,b = E.split(\" \")\n",
    "    a = float(a)\n",
    "    b = float(b)\n",
    "    c = a - b\n",
    "    print(c)"
   ]
  },
  {
   "cell_type": "code",
   "execution_count": 20,
   "id": "b6e8a4c1",
   "metadata": {
    "deletable": false,
    "editable": false,
    "nbgrader": {
     "cell_type": "code",
     "checksum": "49e42f98bb12754b8576e17d6be6f321",
     "grade": false,
     "grade_id": "cell-626eab9dc1b02b61",
     "locked": true,
     "schema_version": 3,
     "solution": false,
     "task": false
    }
   },
   "outputs": [
    {
     "name": "stdout",
     "output_type": "stream",
     "text": [
      "Enter 2 numbers: 3.4 2\n",
      "1.4\n"
     ]
    }
   ],
   "source": [
    "'''ตรวจสอบผลลัพธ์ของโปรแกรมด้วยการรันที่ cell นี้'''\n",
    "runQ2()"
   ]
  },
  {
   "cell_type": "code",
   "execution_count": 21,
   "id": "e45fcb30",
   "metadata": {
    "deletable": false,
    "editable": false,
    "nbgrader": {
     "cell_type": "code",
     "checksum": "a734beb36beb909bd1e554680d727f95",
     "grade": true,
     "grade_id": "cell-7b5327b626b123e5",
     "locked": true,
     "points": 5,
     "schema_version": 3,
     "solution": false,
     "task": false
    }
   },
   "outputs": [
    {
     "name": "stdout",
     "output_type": "stream",
     "text": [
      "ok\n"
     ]
    }
   ],
   "source": [
    "# Q2: 5 คะแนน\n",
    "test(['3.4 2'],'1.4\\n',f=runQ2)\n",
    "print('ok')"
   ]
  },
  {
   "cell_type": "markdown",
   "id": "0f47b41f",
   "metadata": {
    "deletable": false,
    "editable": false,
    "nbgrader": {
     "cell_type": "markdown",
     "checksum": "764d87717e6de7300682ccac463f82a1",
     "grade": false,
     "grade_id": "cell-d17cefce1e77fe04",
     "locked": true,
     "schema_version": 3,
     "solution": false,
     "task": false
    }
   },
   "source": [
    "**Q3**: จงเขียนโปรแกรมสร้าง password จากข้อมูลที่ผู้ใช้ป้อนเข้ามา โดยผู้ใช้ป้อนปี พ.ศ. ที่เกิด และชื่อ (ผู้ใช้ป้อนข้อมูลถูกต้องเสมอ) หลังจากนั้นให้โปรแกรมสร้าง password โดยการนำชื่อ ตามด้วยรหัสของอายุ ถ้าอายุมากกว่า 60 ปี ให้เป็น S ถ้าอายุมากกว่า 30 ปี แต่ไม่เกิน 60 ปีให้เป็น M และอายุไม่เกิน 30 ปี ให้เป็น J \n",
    "\n",
    "*ตัวอย่างการรัน*\n",
    "```\n",
    "Enter birth year: 2540\n",
    "Enter firstname: Ploy\n",
    "PloyJ\n",
    "```"
   ]
  },
  {
   "cell_type": "code",
   "execution_count": 30,
   "id": "f2b2c054",
   "metadata": {
    "deletable": false,
    "nbgrader": {
     "cell_type": "code",
     "checksum": "881fd99083e6f0d818adb2a7cde36a71",
     "grade": false,
     "grade_id": "cell-d227fd28c340257f",
     "locked": false,
     "schema_version": 3,
     "solution": true,
     "task": false
    }
   },
   "outputs": [],
   "source": [
    "def runQ3():\n",
    "    # YOUR CODE HERE\n",
    "    E = input(\"Enter birth year: \")\n",
    "    R = input(\"Enter firstname: \")\n",
    "    T = 2567 - int(E)\n",
    "    if T <= 30 :\n",
    "        print(R+\"J\")\n",
    "    elif 60 >= T >= 30 :\n",
    "        print(R+\"M\")\n",
    "    elif T > 60 :\n",
    "        print(R+\"S\")"
   ]
  },
  {
   "cell_type": "code",
   "execution_count": 31,
   "id": "e242d86c",
   "metadata": {
    "deletable": false,
    "editable": false,
    "nbgrader": {
     "cell_type": "code",
     "checksum": "907f8a9d042ff59ab325a0f602556055",
     "grade": false,
     "grade_id": "cell-46b5eac8ec504750",
     "locked": true,
     "schema_version": 3,
     "solution": false,
     "task": false
    }
   },
   "outputs": [
    {
     "name": "stdout",
     "output_type": "stream",
     "text": [
      "Enter birth year: 2532\n",
      "Enter firstname: tonkla\n",
      "tonklaM\n"
     ]
    }
   ],
   "source": [
    "'''ตรวจสอบผลลัพธ์ของโปรแกรมด้วยการรันที่ cell นี้'''\n",
    "runQ3()"
   ]
  },
  {
   "cell_type": "code",
   "execution_count": 32,
   "id": "183757b3",
   "metadata": {
    "deletable": false,
    "editable": false,
    "nbgrader": {
     "cell_type": "code",
     "checksum": "ec6514f837813704801d0bc21bc0782c",
     "grade": true,
     "grade_id": "cell-32130e4cb4ecdcc2",
     "locked": true,
     "points": 3,
     "schema_version": 3,
     "solution": false,
     "task": false
    }
   },
   "outputs": [
    {
     "name": "stdout",
     "output_type": "stream",
     "text": [
      "ok\n"
     ]
    }
   ],
   "source": [
    "# Q3.1: 3 คะแนน\n",
    "test(['2540','Ploy'],'PloyJ\\n',f=runQ3)\n",
    "print('ok')"
   ]
  },
  {
   "cell_type": "code",
   "execution_count": 33,
   "id": "45ced543",
   "metadata": {
    "deletable": false,
    "editable": false,
    "nbgrader": {
     "cell_type": "code",
     "checksum": "01098768dbaf330bb8093c3a7a105327",
     "grade": true,
     "grade_id": "cell-07bef9b21900d92c",
     "locked": true,
     "points": 3,
     "schema_version": 3,
     "solution": false,
     "task": false
    }
   },
   "outputs": [
    {
     "name": "stdout",
     "output_type": "stream",
     "text": [
      "ok\n"
     ]
    }
   ],
   "source": [
    "# Q3.2: 3 คะแนน\n",
    "test(['2533','Carol'],'CarolM\\n',f=runQ3)\n",
    "print('ok')"
   ]
  },
  {
   "cell_type": "code",
   "execution_count": 34,
   "id": "c548955b",
   "metadata": {
    "deletable": false,
    "editable": false,
    "nbgrader": {
     "cell_type": "code",
     "checksum": "b2528a86c775cfccff6cad3a0f9d8233",
     "grade": true,
     "grade_id": "cell-b6b53fb833e4362d",
     "locked": true,
     "points": 3,
     "schema_version": 3,
     "solution": false,
     "task": false
    }
   },
   "outputs": [
    {
     "name": "stdout",
     "output_type": "stream",
     "text": [
      "ok\n"
     ]
    }
   ],
   "source": [
    "# Q3.3: 3 คะแนน\n",
    "test(['2500','Amber'],'AmberS\\n',f=runQ3)\n",
    "print('ok')"
   ]
  },
  {
   "cell_type": "markdown",
   "id": "71ba5b3c",
   "metadata": {
    "deletable": false,
    "editable": false,
    "nbgrader": {
     "cell_type": "markdown",
     "checksum": "743f6fb53d55a87e82d3bae5f6e41810",
     "grade": false,
     "grade_id": "cell-e95648fcc892ff02",
     "locked": true,
     "schema_version": 3,
     "solution": false,
     "task": false
    }
   },
   "source": [
    "**Q4:** หาผลรวมของจำนวนนับตั้งแต่ 1 ถึง n โดยที่ n คือจำนวนนับที่ผู้ใช้ป้อนเข้ามา (ผู้ใช้ป้อนจำนวนเต็มที่มากกว่า 0 เสมอ)\n",
    "\n",
    "*ตัวอย่างการรัน*\n",
    "\n",
    "```\n",
    "Enter a number: 1\n",
    "1\n",
    "\n",
    "Enter a number: 5\n",
    "15\n",
    "```"
   ]
  },
  {
   "cell_type": "code",
   "execution_count": 192,
   "id": "0c727299",
   "metadata": {
    "deletable": false,
    "nbgrader": {
     "cell_type": "code",
     "checksum": "3415a543c796ebd85693663cf54c5cb6",
     "grade": false,
     "grade_id": "cell-6cb00acbc28cafe8",
     "locked": false,
     "schema_version": 3,
     "solution": true,
     "task": false
    }
   },
   "outputs": [],
   "source": [
    "def runQ4():\n",
    "    # YOUR CODE HERE\n",
    "    import math\n",
    "    E = int(input(\"Enter a number: \"))\n",
    "    n = 0\n",
    "    q = 1\n",
    "    for n in range (q,E,1) :\n",
    "        q = q +1\n",
    "        n = q + (q+1)\n",
    "    print(n)\n",
    "            \n",
    "    \n",
    "    "
   ]
  },
  {
   "cell_type": "code",
   "execution_count": 193,
   "id": "a03757b6",
   "metadata": {
    "deletable": false,
    "editable": false,
    "nbgrader": {
     "cell_type": "code",
     "checksum": "0c8e6aa9a23bd0368a6e1eae04007894",
     "grade": false,
     "grade_id": "cell-dfe19c721b40fd6d",
     "locked": true,
     "schema_version": 3,
     "solution": false,
     "task": false
    }
   },
   "outputs": [
    {
     "name": "stdout",
     "output_type": "stream",
     "text": [
      "Enter a number: 3\n",
      "7\n"
     ]
    }
   ],
   "source": [
    "'''ตรวจสอบผลลัพธ์ของโปรแกรมด้วยการรันที่ cell นี้'''\n",
    "runQ4()"
   ]
  },
  {
   "cell_type": "code",
   "execution_count": 183,
   "id": "35f4c112",
   "metadata": {
    "deletable": false,
    "editable": false,
    "nbgrader": {
     "cell_type": "code",
     "checksum": "45186021760d2f63e0fa4daf52d0adca",
     "grade": true,
     "grade_id": "cell-e7928d0818c59798",
     "locked": true,
     "points": 4,
     "schema_version": 3,
     "solution": false,
     "task": false
    }
   },
   "outputs": [
    {
     "ename": "AssertionError",
     "evalue": "3\n",
     "output_type": "error",
     "traceback": [
      "\u001b[1;31m---------------------------------------------------------------------------\u001b[0m",
      "\u001b[1;31mAssertionError\u001b[0m                            Traceback (most recent call last)",
      "Input \u001b[1;32mIn [183]\u001b[0m, in \u001b[0;36m<cell line: 2>\u001b[1;34m()\u001b[0m\n\u001b[0;32m      1\u001b[0m \u001b[38;5;66;03m# Q5.1: 4 คะแนน\u001b[39;00m\n\u001b[1;32m----> 2\u001b[0m \u001b[43mtest\u001b[49m\u001b[43m(\u001b[49m\u001b[43m[\u001b[49m\u001b[38;5;124;43m'\u001b[39;49m\u001b[38;5;124;43m1\u001b[39;49m\u001b[38;5;124;43m'\u001b[39;49m\u001b[43m]\u001b[49m\u001b[43m,\u001b[49m\u001b[38;5;124;43m'\u001b[39;49m\u001b[38;5;124;43m1\u001b[39;49m\u001b[38;5;130;43;01m\\n\u001b[39;49;00m\u001b[38;5;124;43m'\u001b[39;49m\u001b[43m,\u001b[49m\u001b[43mf\u001b[49m\u001b[38;5;241;43m=\u001b[39;49m\u001b[43mrunQ4\u001b[49m\u001b[43m)\u001b[49m\n\u001b[0;32m      3\u001b[0m \u001b[38;5;28mprint\u001b[39m(\u001b[38;5;124m'\u001b[39m\u001b[38;5;124mok\u001b[39m\u001b[38;5;124m'\u001b[39m)\n",
      "Input \u001b[1;32mIn [15]\u001b[0m, in \u001b[0;36mtest\u001b[1;34m(inputs, expected_output, f)\u001b[0m\n\u001b[0;32m      7\u001b[0m \u001b[38;5;28;01mwith\u001b[39;00m patch(\u001b[38;5;124m'\u001b[39m\u001b[38;5;124mbuiltins.input\u001b[39m\u001b[38;5;124m'\u001b[39m, side_effect\u001b[38;5;241m=\u001b[39minputs), patch(\u001b[38;5;124m'\u001b[39m\u001b[38;5;124msys.stdout\u001b[39m\u001b[38;5;124m'\u001b[39m, new_callable\u001b[38;5;241m=\u001b[39mStringIO) \u001b[38;5;28;01mas\u001b[39;00m mock_stdout:\n\u001b[0;32m      8\u001b[0m     f()\n\u001b[1;32m----> 9\u001b[0m     \u001b[38;5;28;01massert\u001b[39;00m \u001b[38;5;124m'\u001b[39m\u001b[38;5;124m'\u001b[39m\u001b[38;5;241m.\u001b[39mjoin(mock_stdout\u001b[38;5;241m.\u001b[39mgetvalue()\u001b[38;5;241m.\u001b[39mlower()\u001b[38;5;241m.\u001b[39msplit()) \u001b[38;5;241m==\u001b[39m \u001b[38;5;124m'\u001b[39m\u001b[38;5;124m'\u001b[39m\u001b[38;5;241m.\u001b[39mjoin(expected_output\u001b[38;5;241m.\u001b[39mlower()\u001b[38;5;241m.\u001b[39msplit()),mock_stdout\u001b[38;5;241m.\u001b[39mgetvalue()\n",
      "\u001b[1;31mAssertionError\u001b[0m: 3\n"
     ]
    }
   ],
   "source": [
    "# Q5.1: 4 คะแนน\n",
    "test(['1'],'1\\n',f=runQ4)\n",
    "print('ok')"
   ]
  },
  {
   "cell_type": "code",
   "execution_count": 145,
   "id": "5f31067f",
   "metadata": {
    "deletable": false,
    "editable": false,
    "nbgrader": {
     "cell_type": "code",
     "checksum": "5cd561650354aa441d2999ce3fa32d46",
     "grade": true,
     "grade_id": "cell-33e8bc5b7bf08f2b",
     "locked": true,
     "points": 4,
     "schema_version": 3,
     "solution": false,
     "task": false
    }
   },
   "outputs": [
    {
     "ename": "AssertionError",
     "evalue": "9\n",
     "output_type": "error",
     "traceback": [
      "\u001b[1;31m---------------------------------------------------------------------------\u001b[0m",
      "\u001b[1;31mAssertionError\u001b[0m                            Traceback (most recent call last)",
      "Input \u001b[1;32mIn [145]\u001b[0m, in \u001b[0;36m<cell line: 2>\u001b[1;34m()\u001b[0m\n\u001b[0;32m      1\u001b[0m \u001b[38;5;66;03m# Q5.2: 4 คะแนน\u001b[39;00m\n\u001b[1;32m----> 2\u001b[0m \u001b[43mtest\u001b[49m\u001b[43m(\u001b[49m\u001b[43m[\u001b[49m\u001b[38;5;124;43m'\u001b[39;49m\u001b[38;5;124;43m5\u001b[39;49m\u001b[38;5;124;43m'\u001b[39;49m\u001b[43m]\u001b[49m\u001b[43m,\u001b[49m\u001b[38;5;124;43m'\u001b[39;49m\u001b[38;5;124;43m15\u001b[39;49m\u001b[38;5;130;43;01m\\n\u001b[39;49;00m\u001b[38;5;124;43m'\u001b[39;49m\u001b[43m,\u001b[49m\u001b[43mf\u001b[49m\u001b[38;5;241;43m=\u001b[39;49m\u001b[43mrunQ4\u001b[49m\u001b[43m)\u001b[49m\n\u001b[0;32m      3\u001b[0m \u001b[38;5;28mprint\u001b[39m(\u001b[38;5;124m'\u001b[39m\u001b[38;5;124mok\u001b[39m\u001b[38;5;124m'\u001b[39m)\n",
      "Input \u001b[1;32mIn [15]\u001b[0m, in \u001b[0;36mtest\u001b[1;34m(inputs, expected_output, f)\u001b[0m\n\u001b[0;32m      7\u001b[0m \u001b[38;5;28;01mwith\u001b[39;00m patch(\u001b[38;5;124m'\u001b[39m\u001b[38;5;124mbuiltins.input\u001b[39m\u001b[38;5;124m'\u001b[39m, side_effect\u001b[38;5;241m=\u001b[39minputs), patch(\u001b[38;5;124m'\u001b[39m\u001b[38;5;124msys.stdout\u001b[39m\u001b[38;5;124m'\u001b[39m, new_callable\u001b[38;5;241m=\u001b[39mStringIO) \u001b[38;5;28;01mas\u001b[39;00m mock_stdout:\n\u001b[0;32m      8\u001b[0m     f()\n\u001b[1;32m----> 9\u001b[0m     \u001b[38;5;28;01massert\u001b[39;00m \u001b[38;5;124m'\u001b[39m\u001b[38;5;124m'\u001b[39m\u001b[38;5;241m.\u001b[39mjoin(mock_stdout\u001b[38;5;241m.\u001b[39mgetvalue()\u001b[38;5;241m.\u001b[39mlower()\u001b[38;5;241m.\u001b[39msplit()) \u001b[38;5;241m==\u001b[39m \u001b[38;5;124m'\u001b[39m\u001b[38;5;124m'\u001b[39m\u001b[38;5;241m.\u001b[39mjoin(expected_output\u001b[38;5;241m.\u001b[39mlower()\u001b[38;5;241m.\u001b[39msplit()),mock_stdout\u001b[38;5;241m.\u001b[39mgetvalue()\n",
      "\u001b[1;31mAssertionError\u001b[0m: 9\n"
     ]
    }
   ],
   "source": [
    "# Q5.2: 4 คะแนน\n",
    "test(['5'],'15\\n',f=runQ4)\n",
    "print('ok')"
   ]
  },
  {
   "cell_type": "markdown",
   "id": "ec4a2a18",
   "metadata": {
    "deletable": false,
    "editable": false,
    "nbgrader": {
     "cell_type": "markdown",
     "checksum": "d3ff64981dbca718d1fc8a30fe9b0f31",
     "grade": false,
     "grade_id": "cell-d569a61e6e9ea1d2",
     "locked": true,
     "schema_version": 3,
     "solution": false,
     "task": false
    }
   },
   "source": [
    "**Q5:** ปล่อยลูกบอลจากที่สูง h เมตร (ผู้ใช้ป้อนจำนวนเต็มศูนย์หรือจำนวนเต็มบวกเสมอ) ลูกบอลจะกระทบพื้นแล้วเด้งขึ้นเป็น**จำนวนเต็มมากสุดที่ไม่เกินครึ่งหนึ่งของความสูงเดิม** เขียนโปรแกรมนับว่าลูกบอลกระทบพื้นกี่ครั้งหลังจากปล่อยจนกระทั่งหยุดเด้ง  \n",
    "\n",
    "*ตัวอย่างการรัน*\n",
    "\n",
    "```\n",
    "Enter h: 0 \n",
    "1\n",
    "\n",
    "Enter h: 1 \n",
    "1\n",
    "\n",
    "Enter h: 2 \n",
    "2\n",
    "\n",
    "Enter h: 5 \n",
    "3\n",
    "```"
   ]
  },
  {
   "cell_type": "code",
   "execution_count": 201,
   "id": "69ad0470",
   "metadata": {
    "deletable": false,
    "nbgrader": {
     "cell_type": "code",
     "checksum": "149c0eb1d1b7fb718750cfd41d0298f3",
     "grade": false,
     "grade_id": "cell-62c940b0d3c7ac46",
     "locked": false,
     "schema_version": 3,
     "solution": true,
     "task": false
    }
   },
   "outputs": [],
   "source": [
    "def runQ5():\n",
    "    # YOUR CODE HERE\n",
    "    import math\n",
    "    E = int(input(\"Enter h: \"))\n",
    "    R = E/2\n",
    "    R = int(R)\n",
    "    n = 1\n",
    "    if R == 0:\n",
    "        print(\"1\")\n",
    "    elif R >= 0 :\n",
    "        while R == 1 :\n",
    "            R = R/2\n",
    "            n = n+1\n",
    "            print(n)\n",
    "        \n",
    "   \n",
    "            \n",
    "    \n",
    "    "
   ]
  },
  {
   "cell_type": "code",
   "execution_count": 202,
   "id": "a4d9ab78",
   "metadata": {
    "deletable": false,
    "editable": false,
    "nbgrader": {
     "cell_type": "code",
     "checksum": "ccda5211be2347ef46e2942362f11ca1",
     "grade": false,
     "grade_id": "cell-42935c95fdddd60c",
     "locked": true,
     "schema_version": 3,
     "solution": false,
     "task": false
    }
   },
   "outputs": [
    {
     "name": "stdout",
     "output_type": "stream",
     "text": [
      "Enter h: 4\n"
     ]
    }
   ],
   "source": [
    "'''ตรวจสอบผลลัพธ์ของโปรแกรมด้วยการรันที่ cell นี้'''\n",
    "runQ5()"
   ]
  },
  {
   "cell_type": "code",
   "execution_count": 203,
   "id": "5af8d213",
   "metadata": {
    "deletable": false,
    "editable": false,
    "nbgrader": {
     "cell_type": "code",
     "checksum": "2c7e66c6317fc448a5bd97ff2ba41ed5",
     "grade": true,
     "grade_id": "cell-519e8a3264e68719",
     "locked": true,
     "points": 3,
     "schema_version": 3,
     "solution": false,
     "task": false
    }
   },
   "outputs": [
    {
     "name": "stdout",
     "output_type": "stream",
     "text": [
      "ok\n"
     ]
    }
   ],
   "source": [
    "# Q5.1: 3 คะแนน\n",
    "test(['0'],'1\\n',f=runQ5)\n",
    "print('ok')"
   ]
  },
  {
   "cell_type": "code",
   "execution_count": 204,
   "id": "6b4926ef",
   "metadata": {
    "deletable": false,
    "editable": false,
    "nbgrader": {
     "cell_type": "code",
     "checksum": "af08130e15debf55041e98d61a365527",
     "grade": true,
     "grade_id": "cell-d20c3ba52734c4ce",
     "locked": true,
     "points": 3,
     "schema_version": 3,
     "solution": false,
     "task": false
    }
   },
   "outputs": [
    {
     "name": "stdout",
     "output_type": "stream",
     "text": [
      "ok\n"
     ]
    }
   ],
   "source": [
    "# Q5.2: 3 คะแนน\n",
    "test(['1'],'1\\n',f=runQ5)\n",
    "print('ok')"
   ]
  },
  {
   "cell_type": "code",
   "execution_count": 205,
   "id": "7d1707ae",
   "metadata": {
    "deletable": false,
    "editable": false,
    "nbgrader": {
     "cell_type": "code",
     "checksum": "02270503786769c43058500f31467317",
     "grade": true,
     "grade_id": "cell-6d8c5715fbfeaa7d",
     "locked": true,
     "points": 3,
     "schema_version": 3,
     "solution": false,
     "task": false
    }
   },
   "outputs": [
    {
     "ename": "AssertionError",
     "evalue": "",
     "output_type": "error",
     "traceback": [
      "\u001b[1;31m---------------------------------------------------------------------------\u001b[0m",
      "\u001b[1;31mAssertionError\u001b[0m                            Traceback (most recent call last)",
      "Input \u001b[1;32mIn [205]\u001b[0m, in \u001b[0;36m<cell line: 3>\u001b[1;34m()\u001b[0m\n\u001b[0;32m      1\u001b[0m \u001b[38;5;66;03m# Q5.2: 3 คะแนน\u001b[39;00m\n\u001b[0;32m      2\u001b[0m test([\u001b[38;5;124m'\u001b[39m\u001b[38;5;124m2\u001b[39m\u001b[38;5;124m'\u001b[39m],\u001b[38;5;124m'\u001b[39m\u001b[38;5;124m2\u001b[39m\u001b[38;5;130;01m\\n\u001b[39;00m\u001b[38;5;124m'\u001b[39m,f\u001b[38;5;241m=\u001b[39mrunQ5)\n\u001b[1;32m----> 3\u001b[0m \u001b[43mtest\u001b[49m\u001b[43m(\u001b[49m\u001b[43m[\u001b[49m\u001b[38;5;124;43m'\u001b[39;49m\u001b[38;5;124;43m5\u001b[39;49m\u001b[38;5;124;43m'\u001b[39;49m\u001b[43m]\u001b[49m\u001b[43m,\u001b[49m\u001b[38;5;124;43m'\u001b[39;49m\u001b[38;5;124;43m3\u001b[39;49m\u001b[38;5;130;43;01m\\n\u001b[39;49;00m\u001b[38;5;124;43m'\u001b[39;49m\u001b[43m,\u001b[49m\u001b[43mf\u001b[49m\u001b[38;5;241;43m=\u001b[39;49m\u001b[43mrunQ5\u001b[49m\u001b[43m)\u001b[49m\n\u001b[0;32m      4\u001b[0m \u001b[38;5;28mprint\u001b[39m(\u001b[38;5;124m'\u001b[39m\u001b[38;5;124mok\u001b[39m\u001b[38;5;124m'\u001b[39m)\n",
      "Input \u001b[1;32mIn [15]\u001b[0m, in \u001b[0;36mtest\u001b[1;34m(inputs, expected_output, f)\u001b[0m\n\u001b[0;32m      7\u001b[0m \u001b[38;5;28;01mwith\u001b[39;00m patch(\u001b[38;5;124m'\u001b[39m\u001b[38;5;124mbuiltins.input\u001b[39m\u001b[38;5;124m'\u001b[39m, side_effect\u001b[38;5;241m=\u001b[39minputs), patch(\u001b[38;5;124m'\u001b[39m\u001b[38;5;124msys.stdout\u001b[39m\u001b[38;5;124m'\u001b[39m, new_callable\u001b[38;5;241m=\u001b[39mStringIO) \u001b[38;5;28;01mas\u001b[39;00m mock_stdout:\n\u001b[0;32m      8\u001b[0m     f()\n\u001b[1;32m----> 9\u001b[0m     \u001b[38;5;28;01massert\u001b[39;00m \u001b[38;5;124m'\u001b[39m\u001b[38;5;124m'\u001b[39m\u001b[38;5;241m.\u001b[39mjoin(mock_stdout\u001b[38;5;241m.\u001b[39mgetvalue()\u001b[38;5;241m.\u001b[39mlower()\u001b[38;5;241m.\u001b[39msplit()) \u001b[38;5;241m==\u001b[39m \u001b[38;5;124m'\u001b[39m\u001b[38;5;124m'\u001b[39m\u001b[38;5;241m.\u001b[39mjoin(expected_output\u001b[38;5;241m.\u001b[39mlower()\u001b[38;5;241m.\u001b[39msplit()),mock_stdout\u001b[38;5;241m.\u001b[39mgetvalue()\n",
      "\u001b[1;31mAssertionError\u001b[0m: "
     ]
    }
   ],
   "source": [
    "# Q5.2: 3 คะแนน\n",
    "test(['2'],'2\\n',f=runQ5)\n",
    "test(['5'],'3\\n',f=runQ5)\n",
    "print('ok')"
   ]
  },
  {
   "cell_type": "code",
   "execution_count": null,
   "id": "6ff07be3",
   "metadata": {},
   "outputs": [],
   "source": []
  }
 ],
 "metadata": {
  "kernelspec": {
   "display_name": "Python 3 (ipykernel)",
   "language": "python",
   "name": "python3"
  },
  "language_info": {
   "codemirror_mode": {
    "name": "ipython",
    "version": 3
   },
   "file_extension": ".py",
   "mimetype": "text/x-python",
   "name": "python",
   "nbconvert_exporter": "python",
   "pygments_lexer": "ipython3",
   "version": "3.9.12"
  }
 },
 "nbformat": 4,
 "nbformat_minor": 5
}
