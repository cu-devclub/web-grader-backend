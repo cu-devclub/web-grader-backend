{
 "cells": [
  {
   "cell_type": "markdown",
   "metadata": {
    "id": "5spFgOGAksSc"
   },
   "source": [
    "# Collection (Arrays)\n",
    "\n",
    "Common collections widely used in Python are\n",
    "\n",
    "1. List - is ordered and changeable (mutable). Allows duplicate members.\n",
    "2. Tuple - is ordered and unchangeable (immutable). Allows duplicate members.\n",
    "3. Dict - is unordered and changeable (mutable). No duplicate members.\n",
    "4. Set - is unordered, unchangeable (immutable), and unindexed. No duplicate members.\n",
    "\n",
    "As of Python version 3.7, dictionaries are ordered. In Python 3.6 and earlier, dictionaries are unordered."
   ]
  },
  {
   "cell_type": "code",
   "execution_count": null,
   "metadata": {
    "id": "3Pesv21AaKkD"
   },
   "outputs": [],
   "source": [
    "type([1,2,3,4,5])"
   ]
  },
  {
   "cell_type": "code",
   "execution_count": null,
   "metadata": {
    "id": "lMWshueskyIR"
   },
   "outputs": [],
   "source": [
    "type((1,2,3,4))"
   ]
  },
  {
   "cell_type": "code",
   "execution_count": null,
   "metadata": {
    "id": "tx8HUKkhkzmq"
   },
   "outputs": [],
   "source": [
    "type({'milk tea':40, 'coffee':50})"
   ]
  },
  {
   "cell_type": "code",
   "execution_count": null,
   "metadata": {
    "id": "xA1qq6_Pk2M9"
   },
   "outputs": [],
   "source": [
    "type({1,2,3})"
   ]
  },
  {
   "cell_type": "code",
   "execution_count": null,
   "metadata": {
    "id": "RzrSPI6DyqqI"
   },
   "outputs": [],
   "source": [
    "t = (1,2,3,4,1,2)\n",
    "s = {1,2,3,4,1,2}\n",
    "d = {'milk tea':40, 'coffee':50, 'milk tea':30}\n",
    "print(t)\n",
    "print(s)\n",
    "print(d)"
   ]
  },
  {
   "cell_type": "markdown",
   "metadata": {
    "id": "XjtZeNViaoue"
   },
   "source": [
    "# Welcome to the first collection data type that you often use in daily life!"
   ]
  },
  {
   "cell_type": "markdown",
   "metadata": {
    "id": "TV8Uys0Nauqp"
   },
   "source": [
    "When we go to a Thai restaurant, we often order many dishes e.g. chicken with basils, fried fish, tofu and minced pork soup and rice.\n",
    "We can use four different string variables to keep these data:\n",
    "\n",
    "```python\n",
    "menu_1 = 'chicken with basils'\n",
    "menu_2 = 'fried fish'\n",
    "menu_3 = 'tofu and minced pork soup'\n",
    "menu_4 = 'rice'\n",
    "```\n",
    "\n",
    "However, we can use only a single collection variable instead:\n",
    "```python\n",
    "menu = ['chicken with basils','fried fish','tofu and minced pork soup','rice']\n",
    "```\n",
    "Now, all the dishes are stored in a single list varaible, `menu`"
   ]
  },
  {
   "cell_type": "markdown",
   "metadata": {
    "id": "dRPJ1wWTeC-E"
   },
   "source": [
    "# List\n",
    "\n",
    "* List is an object that can store a sequece of items (sometimes called elements interchangeably)\n",
    "* A list is defined using a pair of brackets '[ ]' with elements inside, separated by commas ' , '.\n",
    "* A list can hold different types of items. [1, 'a', \"comp prog\", [True, False], 2.56]\n",
    "* Lists are mutable, which means that items in the list can be changed.\n",
    "*   '[ ]' an empty list\n",
    "\n"
   ]
  },
  {
   "cell_type": "code",
   "execution_count": null,
   "metadata": {
    "id": "olySko9HZDcV"
   },
   "outputs": [],
   "source": [
    "# Ex.\n",
    "\n",
    "# A list of strings\n",
    "menu = ['chicken with basils','fried fish','tofu and minced pork soup','rice']\n",
    "print(menu)\n",
    "\n",
    "# In this example, a list contains string, integer, float, boolean, and list.\n",
    "list1 = ['chicken with basils', 2, 450.50, False, ['', 'sweet potatos', 3]]\n",
    "print(list1)\n",
    "\n",
    "# When no element resides in the brackets, it is called an empty list.\n",
    "list2 = []\n",
    "print(list2)"
   ]
  },
  {
   "cell_type": "markdown",
   "metadata": {
    "id": "XVLlrwIgu5Yk"
   },
   "source": [
    "### List size\n",
    "\n",
    "* The size of a list is the number of items in the list.\n",
    "* `len(<aList>)` is a built-in function in Python that returns the length of a sequence --> size of a list.\n"
   ]
  },
  {
   "cell_type": "code",
   "execution_count": null,
   "metadata": {
    "id": "MdQV4VxvvJg2"
   },
   "outputs": [],
   "source": [
    "len(menu)"
   ]
  },
  {
   "cell_type": "code",
   "execution_count": null,
   "metadata": {
    "id": "ZTlTvOsxvYk8"
   },
   "outputs": [],
   "source": [
    "len(['chicken with basils', 2, 450.50, False, ['', 'sweet potatos', 3]])"
   ]
  },
  {
   "cell_type": "code",
   "execution_count": null,
   "metadata": {
    "id": "4jG9MiwVvckW"
   },
   "outputs": [],
   "source": [
    "len([])"
   ]
  },
  {
   "cell_type": "markdown",
   "metadata": {
    "id": "141NrQgavmVS"
   },
   "source": [
    "## How data stored in a list\n",
    "\n"
   ]
  },
  {
   "cell_type": "code",
   "execution_count": null,
   "metadata": {
    "id": "H_rxa-Ouwcc-"
   },
   "outputs": [],
   "source": [
    "data = ['chicken with basils', 2, 450.50, False, ['', 'sweet potato', 3]]"
   ]
  },
  {
   "cell_type": "markdown",
   "metadata": {
    "id": "J6RkDUr8JcfN"
   },
   "source": [
    "Here shows how the items in `data` are stored:\n",
    "<img src=\"https://github.com/ploy-np/python/blob/master/images/list/data.jpg?raw=1\" width=\"700\"/>"
   ]
  },
  {
   "cell_type": "code",
   "execution_count": null,
   "metadata": {
    "id": "wmbijySv4eOq"
   },
   "outputs": [],
   "source": [
    "drink = 'pimm\\'s'\n",
    "desserts = ['panacotta',2]\n",
    "order = ['salad', drink, 40, desserts]\n",
    "print(order)"
   ]
  },
  {
   "cell_type": "markdown",
   "metadata": {
    "id": "KMcI4ywyJwy-"
   },
   "source": [
    "Here shows how the items in `order` are stored:\n",
    "<img src=\"https://github.com/ploy-np/python/blob/master/images/list/order1.jpg?raw=1\" width=\"800\"/>"
   ]
  },
  {
   "cell_type": "code",
   "execution_count": null,
   "metadata": {
    "id": "ZBjvyArs4gLo"
   },
   "outputs": [],
   "source": [
    "drink = 'long-island'\n",
    "print('drink -->', drink)\n",
    "print('order[1] -->', order[1])"
   ]
  },
  {
   "cell_type": "markdown",
   "metadata": {
    "id": "h-RgHuKHbGiU"
   },
   "source": [
    "Here shows how the items in `order` are stored after the variable `drink` was modified:\n",
    "<img src=\"https://github.com/ploy-np/python/blob/master/images/list/order2.jpg?raw=1\" width=\"700\"/>"
   ]
  },
  {
   "cell_type": "code",
   "execution_count": null,
   "metadata": {
    "id": "PAS0ynhL4hge"
   },
   "outputs": [],
   "source": [
    "desserts = ['pancake',3]\n",
    "print('desserts -->', desserts)\n",
    "print('order[3] -->', order[3])"
   ]
  },
  {
   "cell_type": "markdown",
   "metadata": {
    "id": "CDPeZ3PLfz4b"
   },
   "source": [
    "Here shows how the items in `order` are stored after the variable `desserts` was modified:\n",
    "<img src=\"https://github.com/ploy-np/python/blob/master/images/list/order3.jpg?raw=1\" width=\"700\"/>"
   ]
  },
  {
   "cell_type": "markdown",
   "metadata": {
    "id": "xfVU_Ua7v8By"
   },
   "source": [
    "*   Every element within the List represents a variable that holds significant value when separated from binding.\n",
    "*   Consequently, associating values with List elements through configuration establishes a link between the List elements and the new value, without altering the original value.\n"
   ]
  },
  {
   "cell_type": "markdown",
   "metadata": {
    "id": "AGdyHEjMwj1a"
   },
   "source": [
    "## Indexing\n",
    "\n",
    "* We can access to each element in the list individually by specifying an index inside the brackets.\n",
    "* The indexes are 0 (the first item), 1, ..., n-1 (the last item).\n",
    "* The negative indexes are -1 (the last item), -2, -3, ..., -n (the first item).\n",
    "* No matter positive or negative indexes you use, it cannot be out of those ranges."
   ]
  },
  {
   "cell_type": "code",
   "execution_count": null,
   "metadata": {
    "id": "hc68fHiWhKe9"
   },
   "outputs": [],
   "source": []
  },
  {
   "cell_type": "code",
   "execution_count": 11,
   "metadata": {
    "id": "sIY4wQNIsRGc"
   },
   "outputs": [],
   "source": [
    "data = ['chicken with basils', 2, 450.50, False, ['', 'sweet potato', 3]]"
   ]
  },
  {
   "cell_type": "code",
   "execution_count": null,
   "metadata": {
    "id": "ylrnIRj2zRMR"
   },
   "outputs": [],
   "source": [
    "data[0]"
   ]
  },
  {
   "cell_type": "code",
   "execution_count": null,
   "metadata": {
    "id": "5jtEgVv0tyDu"
   },
   "outputs": [],
   "source": [
    "type(data[0])"
   ]
  },
  {
   "cell_type": "code",
   "execution_count": null,
   "metadata": {
    "id": "Clz0w0xmzVP-"
   },
   "outputs": [],
   "source": [
    "data[1]"
   ]
  },
  {
   "cell_type": "code",
   "execution_count": null,
   "metadata": {
    "id": "RFVMk_oxt5LC"
   },
   "outputs": [],
   "source": [
    "type(data[1])"
   ]
  },
  {
   "cell_type": "code",
   "execution_count": null,
   "metadata": {
    "id": "oGLVXzBezWp4"
   },
   "outputs": [],
   "source": [
    "data[2]"
   ]
  },
  {
   "cell_type": "code",
   "execution_count": null,
   "metadata": {
    "id": "B6HA8na2t6_S"
   },
   "outputs": [],
   "source": [
    "type(data[2])"
   ]
  },
  {
   "cell_type": "code",
   "execution_count": null,
   "metadata": {
    "id": "KetiajjSzXie"
   },
   "outputs": [],
   "source": [
    "data[3]"
   ]
  },
  {
   "cell_type": "code",
   "execution_count": null,
   "metadata": {
    "id": "vu2SqbQXt8wd"
   },
   "outputs": [],
   "source": [
    "type(data[3])"
   ]
  },
  {
   "cell_type": "code",
   "execution_count": null,
   "metadata": {
    "id": "yCPnADx-zYe4"
   },
   "outputs": [],
   "source": [
    "data[4]"
   ]
  },
  {
   "cell_type": "code",
   "execution_count": null,
   "metadata": {
    "id": "5xB-5IVIt-XS"
   },
   "outputs": [],
   "source": [
    "type(data[4])"
   ]
  },
  {
   "cell_type": "code",
   "execution_count": null,
   "metadata": {
    "id": "QlIRchdzzdUz"
   },
   "outputs": [],
   "source": [
    "data[5]"
   ]
  },
  {
   "cell_type": "code",
   "execution_count": null,
   "metadata": {
    "id": "WPv_jW9W2oxM"
   },
   "outputs": [],
   "source": [
    "data[-1]"
   ]
  },
  {
   "cell_type": "code",
   "execution_count": null,
   "metadata": {
    "id": "HBE6C_ME2o76"
   },
   "outputs": [],
   "source": [
    "data[-2]"
   ]
  },
  {
   "cell_type": "code",
   "execution_count": null,
   "metadata": {
    "id": "PKeWe39P2o-2"
   },
   "outputs": [],
   "source": [
    "data[-3]"
   ]
  },
  {
   "cell_type": "code",
   "execution_count": null,
   "metadata": {
    "id": "ccSF3dmC2pBn"
   },
   "outputs": [],
   "source": [
    "data[-4]"
   ]
  },
  {
   "cell_type": "code",
   "execution_count": null,
   "metadata": {
    "id": "41-vgAXo2pGy"
   },
   "outputs": [],
   "source": [
    "data[-5]"
   ]
  },
  {
   "cell_type": "code",
   "execution_count": null,
   "metadata": {
    "id": "uFtUa3s22pFI"
   },
   "outputs": [],
   "source": [
    "data[-6]"
   ]
  },
  {
   "cell_type": "markdown",
   "metadata": {
    "id": "Nw7lIkse92PI"
   },
   "source": [
    "## Slicing\n",
    "\n",
    "* We can access multiple elements in the list by using index slicing.\n",
    "\n",
    "```python\n",
    "<aList>[<start>:<end>:<step>]\n",
    "```\n",
    "\n",
    "* We can mix between positive and negative indexes for data accession as appropriate.\n",
    "*   Define a range start from the first index -->  leave 'start' blank.\n",
    "*   Define a range up to the last index --> leave 'end' blank.\n",
    "\n"
   ]
  },
  {
   "cell_type": "code",
   "execution_count": 14,
   "metadata": {
    "id": "Vu1Ye2uQ3Zaj"
   },
   "outputs": [],
   "source": [
    "data = ['chicken with basils', 2, 450.50, False, ['', 'sweet potato', 3]]"
   ]
  },
  {
   "cell_type": "code",
   "execution_count": 15,
   "metadata": {
    "id": "BtHlEHb1hNls"
   },
   "outputs": [
    {
     "data": {
      "text/plain": [
       "['chicken with basils', 2, 450.5, False, ['', 'sweet potato', 3]]"
      ]
     },
     "execution_count": 15,
     "metadata": {},
     "output_type": "execute_result"
    }
   ],
   "source": [
    "data[:]"
   ]
  },
  {
   "cell_type": "code",
   "execution_count": null,
   "metadata": {
    "id": "2Q8rP9AV-Ako"
   },
   "outputs": [],
   "source": [
    "data[2:]"
   ]
  },
  {
   "cell_type": "code",
   "execution_count": null,
   "metadata": {
    "id": "sBn6-LBsKFER"
   },
   "outputs": [],
   "source": [
    "data[1:3]"
   ]
  },
  {
   "cell_type": "code",
   "execution_count": null,
   "metadata": {
    "id": "z4zFKhgLKFn0"
   },
   "outputs": [],
   "source": [
    "data[:-1]"
   ]
  },
  {
   "cell_type": "markdown",
   "metadata": {
    "id": "BjeFKXwLPGqb"
   },
   "source": [
    "**Ex1:** Let `numbers = [1, 2, 3, 4, 5, 6]`. Write a command using list slicing to extract the values below.\n",
    "\n",
    "* [2, 3, 4]\n",
    "* [1, 3, 5]\n",
    "* [2, 4, 6]\n",
    "* [1, 4]\n",
    "* [5, 3, 1]\n",
    "* [4, 3, 2]"
   ]
  },
  {
   "cell_type": "code",
   "execution_count": 16,
   "metadata": {
    "id": "rQqUoKc7G5RE"
   },
   "outputs": [
    {
     "data": {
      "text/plain": [
       "[4, 3, 2]"
      ]
     },
     "execution_count": 16,
     "metadata": {},
     "output_type": "execute_result"
    }
   ],
   "source": [
    "# Code here\n",
    "numbers = [1, 2, 3, 4, 5, 6]\n",
    "numbers[1:4]\n",
    "numbers[:5:2]\n",
    "numbers[1:6:2]\n",
    "numbers[::3]\n",
    "numbers[-2::-2]\n",
    "numbers[-3:0:-1]"
   ]
  },
  {
   "cell_type": "markdown",
   "metadata": {
    "id": "fP-Mabmv4w7D"
   },
   "source": [
    "## Iterating over a list using `for`\n",
    "\n",
    "There are two ways to do this.\n"
   ]
  },
  {
   "cell_type": "markdown",
   "metadata": {
    "id": "hkXFRts08rRj"
   },
   "source": [
    "**Method 1**: To iterate each item in the list.\n",
    "\n",
    "```python\n",
    "for <variable> in <aList>:\n",
    "  <do something>\n",
    "```"
   ]
  },
  {
   "cell_type": "code",
   "execution_count": null,
   "metadata": {
    "id": "0s6gSHql4682"
   },
   "outputs": [],
   "source": [
    "data = ['chicken with basils', 2, 450.50, False, ['', 'sweet potato', 3]]\n",
    "for item in data:\n",
    "  print(item)"
   ]
  },
  {
   "cell_type": "markdown",
   "metadata": {
    "id": "2JgdIutb5K8D"
   },
   "source": [
    "**Q**: Run the code below, what have you noticed from this?"
   ]
  },
  {
   "cell_type": "code",
   "execution_count": null,
   "metadata": {
    "id": "ibedvtYI5HHA"
   },
   "outputs": [],
   "source": [
    "data = ['chicken with basils', 2, 450.50, False, ['', 'sweet potato', 3]]\n",
    "for item in data:\n",
    "  item = 'unknown'\n",
    "  print(item)\n",
    "print(data)"
   ]
  },
  {
   "cell_type": "markdown",
   "metadata": {
    "id": "e3jk0Tvv_IFr"
   },
   "source": [
    "**Ex2:** Write a program that receives a list of numbers from the user and print out the average (using *Method 1* to iterate over the list)."
   ]
  },
  {
   "cell_type": "markdown",
   "metadata": {
    "id": "PE0TFdhz5OT5"
   },
   "source": [
    "**Method 2**: To iterate the *index* of each item in the list.\n",
    "\n",
    "```python\n",
    "for <indexVariable> in range(len(<aList>)):\n",
    "  <do something>\n",
    "```"
   ]
  },
  {
   "cell_type": "code",
   "execution_count": null,
   "metadata": {
    "id": "3yipDJuL5TDe"
   },
   "outputs": [],
   "source": [
    "for i in range(len(data)):\n",
    "  print(data[i])"
   ]
  },
  {
   "cell_type": "markdown",
   "metadata": {
    "id": "r693rfSr-zRS"
   },
   "source": [
    "**Ex3:** Write a program that receives a list of numbers from the user and print out the average (using *Method 2* to iterate over the list)."
   ]
  },
  {
   "cell_type": "code",
   "execution_count": null,
   "metadata": {
    "id": "cAMTprzn_FlC"
   },
   "outputs": [],
   "source": [
    "# Code here"
   ]
  },
  {
   "cell_type": "markdown",
   "metadata": {
    "id": "oyvbtif--Jd4"
   },
   "source": [
    "## List modification\n",
    "\n",
    "This can be done using the list accession with an assignment operator.\n",
    "\n",
    "```python\n",
    "<aList>[<index>] = <value>\n",
    "```"
   ]
  },
  {
   "cell_type": "code",
   "execution_count": null,
   "metadata": {
    "id": "d7-CIkBr_liq"
   },
   "outputs": [],
   "source": [
    "drink = 'pimm\\'s'\n",
    "desserts = ['panacotta',2]\n",
    "order = ['salad', drink, 40, desserts]\n",
    "print(order)"
   ]
  },
  {
   "cell_type": "code",
   "execution_count": null,
   "metadata": {
    "id": "sD9xEmhwBQG2"
   },
   "outputs": [],
   "source": [
    "# This will replace the second item in the list (order) with the value on the right side of the assignment operator (=).\n",
    "order[1] = 'long-island'\n",
    "desserts[0] = 'Mango sticky rice'\n",
    "print(order)"
   ]
  },
  {
   "cell_type": "markdown",
   "metadata": {
    "id": "LtvMzXPU8jp-"
   },
   "source": [
    "**Q:** What is the results of the program below."
   ]
  },
  {
   "cell_type": "code",
   "execution_count": 20,
   "metadata": {
    "id": "4wF_UOm9-OFi"
   },
   "outputs": [
    {
     "name": "stdout",
     "output_type": "stream",
     "text": [
      "[2, 4, 4, 4.0]\n"
     ]
    }
   ],
   "source": [
    "numbers = [2,4,6,8]\n",
    "numbers[2] = numbers[0]*2\n",
    "numbers[-1] = numbers[-1]/2\n",
    "print(numbers)"
   ]
  },
  {
   "cell_type": "markdown",
   "metadata": {
    "id": "O05VbT8LHB8J"
   },
   "source": [
    "## Basic operations for List\n",
    "\n",
    "\n",
    "\n",
    "You can find more details about the methods of list objects [here](https://docs.python.org/3/tutorial/datastructures.html)."
   ]
  },
  {
   "cell_type": "markdown",
   "metadata": {
    "id": "mmU141I68mCh"
   },
   "source": [
    "### `append`: Adds an item in the end of the list.\n",
    "\n",
    "```python\n",
    "<aList>.append(<itemToAppend>)\n",
    "```"
   ]
  },
  {
   "cell_type": "code",
   "execution_count": null,
   "metadata": {
    "id": "QQVGuSZKKbi_"
   },
   "outputs": [],
   "source": [
    "data = ['chicken with basils', 2, 450.50, False, ['', 'sweet potato', 3]]\n",
    "data.append('americano')\n",
    "print(data)\n",
    "data.append([0, 1])\n",
    "print(data)"
   ]
  },
  {
   "cell_type": "markdown",
   "metadata": {
    "id": "uYBQXXmlHs9m"
   },
   "source": [
    "### `insert`: Inserts an item at a given position.\n",
    "\n",
    "```python\n",
    "<aList>.insert(<indexToInsert>, <itemToInsert>)\n",
    "```"
   ]
  },
  {
   "cell_type": "code",
   "execution_count": null,
   "metadata": {
    "id": "HnRUs4NsDd5U"
   },
   "outputs": [],
   "source": [
    "data = ['chicken with basils', 2, 450.50, False, ['', 'sweet potato', 3]]\n",
    "data.insert(2,'americano')\n",
    "print(data)"
   ]
  },
  {
   "cell_type": "markdown",
   "metadata": {
    "id": "hD-BVRYaEgDK"
   },
   "source": [
    "### `index`: Finds the position (index) of a given value in the list. --> return the first position\n",
    "\n",
    "\n",
    "```python\n",
    "<aList>.index(<aValue>)\n",
    "```"
   ]
  },
  {
   "cell_type": "code",
   "execution_count": null,
   "metadata": {
    "id": "wMt645o4Hx_5"
   },
   "outputs": [],
   "source": [
    "data = ['chicken with basils', 2, 450.50, False, ['', 'sweet potato', 3]]"
   ]
  },
  {
   "cell_type": "code",
   "execution_count": null,
   "metadata": {
    "id": "ntrmjjQWH6se"
   },
   "outputs": [],
   "source": [
    "print(data.index(False))"
   ]
  },
  {
   "cell_type": "code",
   "execution_count": null,
   "metadata": {
    "id": "txkzQ9wiH-sz"
   },
   "outputs": [],
   "source": [
    "print(data.index(True))"
   ]
  },
  {
   "cell_type": "markdown",
   "metadata": {
    "id": "nMD8pYON9R9A"
   },
   "source": [
    "### `del`: Deletes an item from the list using indexing.\n",
    "\n",
    "``` python\n",
    "del <aList>[<indexOfItemToDelete>]\n",
    "```"
   ]
  },
  {
   "cell_type": "code",
   "execution_count": 21,
   "metadata": {
    "id": "OR069CVpBodT"
   },
   "outputs": [],
   "source": [
    "data = ['chicken with basils', 2, 450.50, False, ['', 'sweet potato', 3]]"
   ]
  },
  {
   "cell_type": "code",
   "execution_count": 22,
   "metadata": {
    "id": "BuVsFmYSrcyy"
   },
   "outputs": [
    {
     "name": "stdout",
     "output_type": "stream",
     "text": [
      "['chicken with basils', 2, 450.5, False]\n"
     ]
    }
   ],
   "source": [
    "del data[4]\n",
    "print(data)"
   ]
  },
  {
   "cell_type": "code",
   "execution_count": 24,
   "metadata": {
    "id": "Vau13wf4GtgY"
   },
   "outputs": [
    {
     "name": "stdout",
     "output_type": "stream",
     "text": [
      "[450.5, False]\n"
     ]
    }
   ],
   "source": [
    "del data[:-2]\n",
    "print(data)"
   ]
  },
  {
   "cell_type": "code",
   "execution_count": null,
   "metadata": {
    "id": "goMdd4MyFNi-"
   },
   "outputs": [],
   "source": [
    "drink = 'pimm\\'s'\n",
    "desserts = ['panacotta',2]\n",
    "order = ['salad', drink, 40, desserts]\n",
    "\n",
    "del drink\n",
    "print(order)\n",
    "del order[1]\n",
    "print(order)"
   ]
  },
  {
   "cell_type": "code",
   "execution_count": null,
   "metadata": {
    "id": "CDtUeiLBFYxT"
   },
   "outputs": [],
   "source": [
    "drink = 'pimm\\'s'\n",
    "desserts = ['panacotta',2]\n",
    "order = ['salad', drink, 40, desserts]\n",
    "\n",
    "del desserts[1]\n",
    "print(order)"
   ]
  },
  {
   "cell_type": "code",
   "execution_count": null,
   "metadata": {
    "id": "fhrmiWnYiSzD"
   },
   "outputs": [],
   "source": [
    "order.pop(1)\n",
    "print(order)"
   ]
  },
  {
   "cell_type": "markdown",
   "metadata": {
    "id": "x_QalSoUh1dy"
   },
   "source": [
    "pop() Removes the element at the specified position"
   ]
  },
  {
   "cell_type": "markdown",
   "metadata": {
    "id": "G_PW7ascG3Nj"
   },
   "source": [
    "### `remove`: Remove a given value from the list (the first one found).\n",
    "\n",
    "```python\n",
    "<aList>.remove(<aValueInTheList>)\n",
    "```"
   ]
  },
  {
   "cell_type": "code",
   "execution_count": null,
   "metadata": {
    "id": "5s9tg6CIHDbN"
   },
   "outputs": [],
   "source": [
    "data = ['chicken with basils', 2, 450.50, False, ['', 'sweet potato', 3]]\n",
    "data.remove(False)\n",
    "print(data)"
   ]
  },
  {
   "cell_type": "markdown",
   "metadata": {
    "id": "ximCrwyKHaLb"
   },
   "source": [
    "### `min`: Finds the minimum value in the list.\n",
    "\n",
    "```python\n",
    "min(<aList>)\n",
    "```"
   ]
  },
  {
   "cell_type": "code",
   "execution_count": null,
   "metadata": {
    "id": "lkkSTifHIFsP"
   },
   "outputs": [],
   "source": [
    "nums = [8,7,9,12,3]\n",
    "words = ['squid game','hometown cha cha','titanic']\n",
    "texts = ['sssssss', 'ttt', 'z']"
   ]
  },
  {
   "cell_type": "code",
   "execution_count": null,
   "metadata": {
    "id": "yW-o4jzuII4U"
   },
   "outputs": [],
   "source": [
    "print(min(nums))\n",
    "print(min(words))\n",
    "print(min(texts))"
   ]
  },
  {
   "cell_type": "markdown",
   "metadata": {
    "id": "me_g_8xxIQaZ"
   },
   "source": [
    "### `max`: Finds the maximum value in the list.\n",
    "\n",
    "```python\n",
    "max(<aList>)\n",
    "```"
   ]
  },
  {
   "cell_type": "code",
   "execution_count": null,
   "metadata": {
    "id": "LL-rSFECIPjm"
   },
   "outputs": [],
   "source": [
    "print(max(nums))\n",
    "print(max(words))\n",
    "print(max(texts))"
   ]
  },
  {
   "cell_type": "markdown",
   "metadata": {
    "id": "cj9L_uuVIrWp"
   },
   "source": [
    "### `sum`: Calculate the summation of all values in the list (only number).\n",
    "\n",
    "```python\n",
    "sum(<aList>)\n",
    "```"
   ]
  },
  {
   "cell_type": "code",
   "execution_count": null,
   "metadata": {
    "id": "6raRu4bDIo_N"
   },
   "outputs": [],
   "source": [
    "sum(nums)"
   ]
  },
  {
   "cell_type": "code",
   "execution_count": null,
   "metadata": {
    "id": "bjde1GPBI0So"
   },
   "outputs": [],
   "source": [
    "sum(words)"
   ]
  },
  {
   "cell_type": "markdown",
   "metadata": {
    "id": "xtUgJHPcOmzR"
   },
   "source": [
    "### `sort`: Sorts all the items in the list (the same variable types).\n",
    "\n",
    "```python\n",
    "# Ascending order\n",
    "sort()\n",
    "\n",
    "# Descending order\n",
    "sort(reverse=True)   \n",
    "```\n",
    "\n",
    "* Note that `sort` is a void function."
   ]
  },
  {
   "cell_type": "code",
   "execution_count": null,
   "metadata": {
    "id": "LzMpeQRfBDJC"
   },
   "outputs": [],
   "source": [
    "x = [8,7.5,9,12.4,3]\n",
    "y = ['1','Com','123','a','A',]\n",
    "z = [1, 3.3, 'a', 'A']"
   ]
  },
  {
   "cell_type": "code",
   "execution_count": null,
   "metadata": {
    "id": "_AWqB0wFHz_5"
   },
   "outputs": [],
   "source": [
    "x.sort()\n",
    "y.sort()\n",
    "print(x)\n",
    "print(y)"
   ]
  },
  {
   "cell_type": "code",
   "execution_count": null,
   "metadata": {
    "id": "8OI31G5gsfLf"
   },
   "outputs": [],
   "source": [
    "z.sort()"
   ]
  },
  {
   "cell_type": "code",
   "execution_count": null,
   "metadata": {
    "id": "vMJ4MvahH1B6"
   },
   "outputs": [],
   "source": [
    "print(x.sort())"
   ]
  },
  {
   "cell_type": "code",
   "execution_count": null,
   "metadata": {
    "id": "aQ9_zdLpH1Ox"
   },
   "outputs": [],
   "source": [
    "x.sort(reverse=True)\n",
    "print(x)"
   ]
  },
  {
   "cell_type": "code",
   "execution_count": null,
   "metadata": {
    "id": "LOlFVfEztgEC"
   },
   "outputs": [],
   "source": [
    "x.reverse()\n",
    "print(x)"
   ]
  },
  {
   "cell_type": "markdown",
   "metadata": {
    "id": "w60Av6AlBUep"
   },
   "source": [
    "### List concatenation using `+`  (Combine two lists)."
   ]
  },
  {
   "cell_type": "code",
   "execution_count": null,
   "metadata": {
    "id": "zOuuu9svrdqN"
   },
   "outputs": [],
   "source": [
    "a = [1,2]\n",
    "b = [2,3]\n",
    "a = a + b\n",
    "# a.extend(b)\n",
    "print(a)"
   ]
  },
  {
   "cell_type": "code",
   "execution_count": null,
   "metadata": {
    "id": "QYpod31qtX0c"
   },
   "outputs": [],
   "source": [
    "a = [1,2]\n",
    "b = [2,3]\n",
    "a.extend(b)\n",
    "print(a)\n"
   ]
  },
  {
   "cell_type": "markdown",
   "metadata": {
    "id": "qtp1jqC3fgt0"
   },
   "source": [
    "extend() Add the elements of a list (or any iterable), to the end of the current list"
   ]
  },
  {
   "cell_type": "markdown",
   "metadata": {
    "id": "8os_5DI1NjoE"
   },
   "source": [
    "https://pythontutor.com/visualize.html#mode=edit"
   ]
  },
  {
   "cell_type": "markdown",
   "metadata": {
    "id": "DCM1qlcvAIuA"
   },
   "source": [
    "### List repetition using `*` (Copy and combine a list)."
   ]
  },
  {
   "cell_type": "code",
   "execution_count": null,
   "metadata": {
    "id": "micHkn7iACGn"
   },
   "outputs": [],
   "source": [
    "a = [1,2]\n",
    "b = [2,3]\n",
    "a*2"
   ]
  },
  {
   "cell_type": "code",
   "execution_count": null,
   "metadata": {
    "id": "0vMPZaEqXA5s"
   },
   "outputs": [],
   "source": [
    "a = [1,2]\n",
    "b = [2,3]\n",
    "b*4"
   ]
  },
  {
   "cell_type": "markdown",
   "metadata": {
    "id": "H80kD0ypD0ZJ"
   },
   "source": [
    "### Checking if the list containing a given value with `in`."
   ]
  },
  {
   "cell_type": "code",
   "execution_count": null,
   "metadata": {
    "id": "83vK6uVcJT_I"
   },
   "outputs": [],
   "source": [
    "data = ['chicken with basils', 2, 450.50, False, ['', 'sweet potato', 3]]\n",
    "print('chicken with basils' in data)"
   ]
  },
  {
   "cell_type": "code",
   "execution_count": null,
   "metadata": {
    "id": "cHLRnKKgJcV0"
   },
   "outputs": [],
   "source": [
    "print('sweet potato' in data)"
   ]
  },
  {
   "cell_type": "code",
   "execution_count": null,
   "metadata": {
    "id": "QUvml7q_Jh8s"
   },
   "outputs": [],
   "source": [
    "print('sweet potato' not in data)"
   ]
  },
  {
   "cell_type": "code",
   "execution_count": null,
   "metadata": {
    "id": "6y8St-uCJjNV"
   },
   "outputs": [],
   "source": [
    "print('sweet potato' in data[4])"
   ]
  },
  {
   "cell_type": "code",
   "execution_count": null,
   "metadata": {
    "id": "Wf-7t7m0guca"
   },
   "outputs": [],
   "source": [
    "data.count('sweet potato')"
   ]
  },
  {
   "cell_type": "code",
   "execution_count": null,
   "metadata": {
    "id": "lDAT7EWJg6Q0"
   },
   "outputs": [],
   "source": [
    "data.count(450.50)"
   ]
  },
  {
   "cell_type": "code",
   "execution_count": null,
   "metadata": {
    "id": "kMzrzE1fpwqv"
   },
   "outputs": [],
   "source": [
    "data.index(450.50)"
   ]
  },
  {
   "cell_type": "markdown",
   "metadata": {
    "id": "3jtEhvY7gZ06"
   },
   "source": [
    "index(x) Searches the tuple for a specified value and returns the position of where it was found\n",
    "\n",
    "count(x) Returns the number of elements with the specified value"
   ]
  },
  {
   "cell_type": "markdown",
   "metadata": {
    "id": "Fr7kU-s1cfQj"
   },
   "source": [
    "### Others\n",
    "clear() Removes all the elements from the list\n",
    "\n",
    "copy()  Returns a copy of the list\n",
    "\n",
    "reverse() Reverses the order of the list"
   ]
  },
  {
   "cell_type": "code",
   "execution_count": null,
   "metadata": {
    "id": "2NDliyjvdO9d"
   },
   "outputs": [],
   "source": [
    "data2 = data.copy()\n",
    "data.reverse()\n",
    "print(data2)\n",
    "print(data)"
   ]
  },
  {
   "cell_type": "code",
   "execution_count": null,
   "metadata": {
    "id": "dQI9XxJ9dkQb"
   },
   "outputs": [],
   "source": [
    "data2.pop(2)\n",
    "print(data2)\n",
    "data2.clear()\n",
    "print(data2)"
   ]
  },
  {
   "cell_type": "markdown",
   "metadata": {
    "id": "v3jPGP1BKVIP"
   },
   "source": [
    "**Q:** What is the result of running the program below?"
   ]
  },
  {
   "cell_type": "code",
   "execution_count": null,
   "metadata": {
    "id": "fXbVd9bfKc6W"
   },
   "outputs": [],
   "source": [
    "mylist = []\n",
    "mylist.append(5)\n",
    "mylist.insert(1,10)\n",
    "mylist.insert(0,3)\n",
    "mylist = mylist*2\n",
    "mylist = mylist + [2,4]\n",
    "mylist.remove(10)\n",
    "del mylist[0]\n",
    "mylist.sort()\n",
    "print(mylist)"
   ]
  },
  {
   "cell_type": "markdown",
   "metadata": {
    "id": "QGnqhcF7Dqgg"
   },
   "source": [
    "## List creation using `for`\n",
    "\n",
    "Ex. Imagine we want to create a list that stores the integers from 1 to 100\n",
    "\n",
    "* Method 1: We can write a long squence of 1,2,3,...,100 within `[]`.\n",
    "* Method 2: We can use `for` and list appending together to achieve this task, which is more concise."
   ]
  },
  {
   "cell_type": "code",
   "execution_count": null,
   "metadata": {
    "id": "0RopA2SDD2pP"
   },
   "outputs": [],
   "source": [
    "# Method 2.1\n",
    "num = [] # First create an empty list.\n",
    "for i in range(1,101): # Iterate the integers from 1 to 100.\n",
    "  num.append(i) # For each round, append each integer using append().\n",
    "print(num)"
   ]
  },
  {
   "cell_type": "code",
   "execution_count": null,
   "metadata": {
    "id": "WPXwiPq6xqSM"
   },
   "outputs": [],
   "source": []
  },
  {
   "cell_type": "code",
   "execution_count": null,
   "metadata": {
    "id": "uQA_WKLLMPvt"
   },
   "outputs": [],
   "source": [
    "# Method 2.2\n",
    "num = [] # First create an empty list.\n",
    "for i in range(1,101): # Iterate the integers from 1 to 100.\n",
    "  num = num + [i] # # For each round, append each integer using +.\n",
    "print(num)"
   ]
  },
  {
   "cell_type": "markdown",
   "metadata": {
    "id": "3fcvXqYtKZfR"
   },
   "source": [
    "Note that `+` is used for list concatenation for any two lists. So, we need to change `1` to `[1]`.\n"
   ]
  },
  {
   "cell_type": "markdown",
   "metadata": {
    "id": "1ueC8rOoKPiM"
   },
   "source": [
    "## List copy"
   ]
  },
  {
   "cell_type": "markdown",
   "metadata": {
    "id": "kNFPcNvoKHKC"
   },
   "source": [
    "### Shallow copy: Associate the variable on the left to the existing value that the variable on the right is pointing to."
   ]
  },
  {
   "cell_type": "code",
   "execution_count": null,
   "metadata": {
    "id": "iRn404O7KKMU"
   },
   "outputs": [],
   "source": [
    "d = data\n",
    "print(data)\n",
    "print(d)\n",
    "d[0] = 'Pork with basils'\n",
    "print(data)\n",
    "print(d)"
   ]
  },
  {
   "cell_type": "markdown",
   "metadata": {
    "id": "4O_Z9WRBKN4s"
   },
   "source": [
    "Here shows how the shallow copy works:\n",
    "\n",
    "<img src=\"https://github.com/ploy-np/python/blob/master/images/list/shallow.jpg?raw=1\" width=\"700\"/>"
   ]
  },
  {
   "cell_type": "markdown",
   "metadata": {
    "id": "C9TZQJ2nCt6-"
   },
   "source": [
    "### Deep copy: Create a new list with the same values."
   ]
  },
  {
   "cell_type": "code",
   "execution_count": null,
   "metadata": {
    "id": "O6VrAFDpdPe3"
   },
   "outputs": [],
   "source": [
    "data = ['chicken with basils', 2, 450.50, False, ['', 'sweet potato', 3]]"
   ]
  },
  {
   "cell_type": "code",
   "execution_count": null,
   "metadata": {
    "id": "I8clPhXWCuap"
   },
   "outputs": [],
   "source": [
    "# Method 1 combile with empty list\n",
    "d1 = [] + data"
   ]
  },
  {
   "cell_type": "code",
   "execution_count": null,
   "metadata": {
    "id": "ObiTW0HpDkbs"
   },
   "outputs": [],
   "source": [
    "# Method 2 for loop copy\n",
    "d2 = []\n",
    "for item in data:\n",
    "  d2.append(item)"
   ]
  },
  {
   "cell_type": "code",
   "execution_count": null,
   "metadata": {
    "id": "yMRmH3eNDklZ"
   },
   "outputs": [],
   "source": [
    "# Method 3 copy by slicing\n",
    "d3 = data[:]"
   ]
  },
  {
   "cell_type": "code",
   "execution_count": null,
   "metadata": {
    "id": "mILBUjeaDkt5"
   },
   "outputs": [],
   "source": [
    "# Method 4 list function\n",
    "d4 = list(data)"
   ]
  },
  {
   "cell_type": "code",
   "execution_count": null,
   "metadata": {
    "id": "3b0Qx5YsjEJE"
   },
   "outputs": [],
   "source": [
    "print(d1)\n",
    "print(d2)\n",
    "print(d3)\n",
    "print(d4)"
   ]
  },
  {
   "cell_type": "code",
   "execution_count": null,
   "metadata": {
    "id": "fsLjGgY6Tcf5"
   },
   "outputs": [],
   "source": [
    "d1[0] = 'Pork with basils'\n",
    "print(data)\n",
    "print(d1)"
   ]
  },
  {
   "cell_type": "markdown",
   "metadata": {
    "id": "dwdre_MnLaAG"
   },
   "source": [
    "## List comprehension\n",
    "To generate a new list by applying an expression to each item in an existing iterable (such as a list, tuple, or range) and optionally applying a filter condition.\n",
    "\n",
    "```python\n",
    "new_list = [expression for item in iterable if condition]\n",
    "```\n",
    "We can create a list using `for` in a single line using list comprehension.\n"
   ]
  },
  {
   "cell_type": "markdown",
   "metadata": {
    "id": "8RdP2aZ9LjlE"
   },
   "source": [
    "Ex. Create a list that stores the integers from 1 to 10.\n"
   ]
  },
  {
   "cell_type": "code",
   "execution_count": null,
   "metadata": {
    "id": "uYF2d2lWxVy4"
   },
   "outputs": [],
   "source": [
    "x = []\n",
    "for i in range(10):\n",
    "  x.append(i+1)\n",
    "print(x)"
   ]
  },
  {
   "cell_type": "code",
   "execution_count": null,
   "metadata": {
    "id": "OpM9fZs2vR04"
   },
   "outputs": [],
   "source": [
    "# With list comprehension, we can shorten the code into one single line\n",
    "x = [i+1 for i in range(10)]\n",
    "print(x)"
   ]
  },
  {
   "cell_type": "markdown",
   "metadata": {
    "id": "9GS6q_yK7Tf_"
   },
   "source": [
    "Ex. Create a list that stores the odd integers from 1 to 10."
   ]
  },
  {
   "cell_type": "code",
   "execution_count": null,
   "metadata": {
    "id": "xS8tS9ga7icE"
   },
   "outputs": [],
   "source": [
    "y = []\n",
    "for i in range(10):\n",
    "  if i%2 != 0:\n",
    "    y.append(i)\n",
    "print(y)"
   ]
  },
  {
   "cell_type": "code",
   "execution_count": null,
   "metadata": {
    "id": "xVrTPuNlxNPV"
   },
   "outputs": [],
   "source": [
    "# With list comprehension, we can shorten the code into one single line\n",
    "y = [i for i in range(10) if i%2 != 0]\n",
    "print(y)"
   ]
  },
  {
   "cell_type": "markdown",
   "metadata": {
    "id": "US-Xh-J77x2k"
   },
   "source": [
    "**Ex4:** Create a new list `info_int` that contains only integers of the given list `info` using list comprehension."
   ]
  },
  {
   "cell_type": "code",
   "execution_count": null,
   "metadata": {
    "id": "uwHFoPUv8VBj"
   },
   "outputs": [],
   "source": [
    "info = [2,'a','True',-5,False,2.4,'4']\n",
    "# Code here"
   ]
  },
  {
   "cell_type": "markdown",
   "metadata": {
    "id": "BQcWUIDAPbt9"
   },
   "source": [
    "## String as a list of characters\n"
   ]
  },
  {
   "cell_type": "markdown",
   "metadata": {
    "id": "8eUnGQJwPl1K"
   },
   "source": [
    "* We can access characters in a string in the same way we access members in a list."
   ]
  },
  {
   "cell_type": "code",
   "execution_count": 3,
   "metadata": {
    "id": "ez8Qdn6pPr2G"
   },
   "outputs": [],
   "source": [
    "txt = 'Python is a snake'"
   ]
  },
  {
   "cell_type": "code",
   "execution_count": null,
   "metadata": {
    "id": "_HXNMvylQEYV"
   },
   "outputs": [],
   "source": [
    "len(txt)"
   ]
  },
  {
   "cell_type": "code",
   "execution_count": null,
   "metadata": {
    "id": "OET5rGzL2qhJ"
   },
   "outputs": [],
   "source": [
    "txt[0]"
   ]
  },
  {
   "cell_type": "code",
   "execution_count": null,
   "metadata": {
    "id": "OVOjtQTAQEdj"
   },
   "outputs": [],
   "source": [
    "txt[-1]"
   ]
  },
  {
   "cell_type": "code",
   "execution_count": null,
   "metadata": {
    "id": "P4ATiY0ciIPN"
   },
   "outputs": [],
   "source": [
    "txt[12:] #slicing"
   ]
  },
  {
   "cell_type": "markdown",
   "metadata": {
    "id": "VZfYx1o9h2vu"
   },
   "source": [
    "* We can check if a string contianing a substring using `in`"
   ]
  },
  {
   "cell_type": "code",
   "execution_count": null,
   "metadata": {
    "id": "-K7iDrcFh9pL"
   },
   "outputs": [],
   "source": [
    "print('is a ' in txt)"
   ]
  },
  {
   "cell_type": "code",
   "execution_count": null,
   "metadata": {
    "id": "Gp8AYD-biCRI"
   },
   "outputs": [],
   "source": [
    "print('is a ' not in txt)"
   ]
  },
  {
   "cell_type": "code",
   "execution_count": 4,
   "metadata": {
    "id": "NO0GIQzaiFpY"
   },
   "outputs": [
    {
     "name": "stdout",
     "output_type": "stream",
     "text": [
      "False\n"
     ]
    }
   ],
   "source": [
    "print('isa' in txt)"
   ]
  },
  {
   "cell_type": "markdown",
   "metadata": {
    "id": "QY5bejBtPjyD"
   },
   "source": [
    "* Unlike `list`, `string` is immutable, so we cannot reassign values to a string partially."
   ]
  },
  {
   "cell_type": "code",
   "execution_count": null,
   "metadata": {
    "id": "8qBfQhafP6cm"
   },
   "outputs": [],
   "source": [
    "txt[12] = 'p'"
   ]
  },
  {
   "cell_type": "markdown",
   "metadata": {
    "id": "uzJBob3dPzWL"
   },
   "source": [
    "* What we can do is to assign a new string."
   ]
  },
  {
   "cell_type": "code",
   "execution_count": null,
   "metadata": {
    "id": "tboDqjRRP0b3"
   },
   "outputs": [],
   "source": [
    "txt = 'Python is a programming language'"
   ]
  },
  {
   "cell_type": "markdown",
   "metadata": {
    "id": "5GX3Dbm8jpd7"
   },
   "source": [
    "* Examples of string operations"
   ]
  },
  {
   "cell_type": "code",
   "execution_count": null,
   "metadata": {
    "id": "TOkIvWS4jotv"
   },
   "outputs": [],
   "source": [
    "txt.isalpha() # letters"
   ]
  },
  {
   "cell_type": "code",
   "execution_count": null,
   "metadata": {
    "id": "FDU3qrVCjyMy"
   },
   "outputs": [],
   "source": [
    "txt.isalnum() # letters and digits"
   ]
  },
  {
   "cell_type": "code",
   "execution_count": null,
   "metadata": {
    "id": "pdLnZSvnjyU3"
   },
   "outputs": [],
   "source": [
    "txt.isdigit()"
   ]
  },
  {
   "cell_type": "code",
   "execution_count": null,
   "metadata": {
    "id": "2a2Hf5jnjyel"
   },
   "outputs": [],
   "source": [
    "txt.islower()"
   ]
  },
  {
   "cell_type": "code",
   "execution_count": null,
   "metadata": {
    "id": "KhqvPkiAjyno"
   },
   "outputs": [],
   "source": [
    "txt.isupper()"
   ]
  },
  {
   "cell_type": "code",
   "execution_count": null,
   "metadata": {
    "id": "Jkc3FV2ljyyO"
   },
   "outputs": [],
   "source": [
    "txt.lower()"
   ]
  },
  {
   "cell_type": "code",
   "execution_count": null,
   "metadata": {
    "id": "n4tk4r-Sj7wq"
   },
   "outputs": [],
   "source": [
    "txt.upper()"
   ]
  },
  {
   "cell_type": "code",
   "execution_count": null,
   "metadata": {
    "id": "XbzjCs4jj8-8"
   },
   "outputs": [],
   "source": [
    "txt.split()"
   ]
  },
  {
   "cell_type": "markdown",
   "metadata": {
    "id": "FMTa6crAkO9U"
   },
   "source": [
    "**Ex5:** Write a function to count the number of uppercases in a given string (`mystring`) using list croprehension."
   ]
  },
  {
   "cell_type": "code",
   "execution_count": 2,
   "metadata": {
    "id": "GeVz-R6FklRj"
   },
   "outputs": [
    {
     "name": "stdout",
     "output_type": "stream",
     "text": [
      "4\n"
     ]
    }
   ],
   "source": [
    "def cup(st):\n",
    "    x = 0\n",
    "    for i in st:\n",
    "        if i.isupper():\n",
    "            x += 1\n",
    "    return x\n",
    "\n",
    "print(cup(\"TEEEest\"))"
   ]
  },
  {
   "cell_type": "markdown",
   "metadata": {
    "id": "aheRebc-LfF0"
   },
   "source": [
    "# Programming exercises"
   ]
  },
  {
   "cell_type": "markdown",
   "metadata": {
    "id": "aIYvKYSBLhbb"
   },
   "source": [
    "1. Accept two integer lists as input and check if they are circularly identical. Print ”yes” if they are, print ”no” if they are not.\n"
   ]
  },
  {
   "cell_type": "code",
   "execution_count": 13,
   "metadata": {
    "id": "SIL8aEyVLmuV"
   },
   "outputs": [
    {
     "name": "stdout",
     "output_type": "stream",
     "text": [
      "no\n"
     ]
    }
   ],
   "source": [
    "def ciden(l1, l2):\n",
    "    if len(l1) != len(l2):\n",
    "        return \"no\"\n",
    "    l1.extend(l1)\n",
    "    for i in range(len(l1)):\n",
    "        if l2 == l1[i:i+len(l2)]:\n",
    "            return \"yes\"\n",
    "    return \"no\"\n",
    "\n",
    "\n",
    "print(ciden([1, 2, 3, 4, 5], [3, 4, 5, 1, 2]))\n"
   ]
  },
  {
   "cell_type": "markdown",
   "metadata": {
    "id": "qofYagKNLm6t"
   },
   "source": [
    "2. A robot moves in a plane starting from the origin (0,0). The robot can move toward UP (U), DOWN (D), LEFT (L) and RIGHT(R)withagiveninpute.g.U5D3L3R2. The number after the direction are steps. Compute the distance from the current position of a robot after a sequence of moves."
   ]
  },
  {
   "cell_type": "code",
   "execution_count": 10,
   "metadata": {
    "id": "EKW0etpdLoNt"
   },
   "outputs": [
    {
     "name": "stdout",
     "output_type": "stream",
     "text": [
      "U5D3L3R2\n",
      "(-1,2)\n"
     ]
    }
   ],
   "source": [
    "def mp(st):\n",
    "    x = 0\n",
    "    y = 0\n",
    "    for i in range(0, len(st), 2):\n",
    "        if st[i] == \"U\":\n",
    "            y += int(st[i+1])\n",
    "        elif st[i] == \"D\":\n",
    "            y -= int(st[i+1])\n",
    "        elif st[i] == \"R\":\n",
    "            x += int(st[i+1])\n",
    "        elif st[i] == \"L\":\n",
    "            x -= int(st[i+1])\n",
    "    return(f\"({x},{y})\")\n",
    "print(mp(input()))"
   ]
  },
  {
   "cell_type": "markdown",
   "metadata": {
    "id": "FIMwYFKNLoYF"
   },
   "source": [
    "# 3. Write a program that computes the net amount of a balance based on a transaction log from console input. The transaction log is contained in one line in the format of [W|D number ]* e.g. D 300 D 300 W 200 D 300. W means withdrawal and D means deposit. The output for the above example input would be 700.\n"
   ]
  },
  {
   "cell_type": "code",
   "execution_count": null,
   "metadata": {
    "id": "O1fkZfJtLrpX"
   },
   "outputs": [],
   "source": [
    "def cb(tl):\n",
    "    tr = tl.split()\n",
    "    b = 0\n",
    "    for i in range(0, len(tr), 2):\n",
    "        tt = tr[i]\n",
    "        a = int(tr[i + 1])\n",
    "        if tt == 'D':\n",
    "            b += a\n",
    "        elif tt == 'W':\n",
    "            b -= a\n",
    "    return b\n",
    "\n",
    "print(\"Net Balance:\", cb(input(\"Enter the transaction log (e.g., D 300 D 300 W 200 D 300): \")))"
   ]
  },
  {
   "cell_type": "markdown",
   "metadata": {
    "id": "r2fOQjmmLr09"
   },
   "source": [
    "4. Write a program that check the validity of a given password. A password is valid if it contains at least 1 occurence of the character c and exactly 1 occurrence of the character 1. For example, a password ABcd0123bca$ is valid, while a password c11 is invalid."
   ]
  },
  {
   "cell_type": "code",
   "execution_count": 13,
   "metadata": {
    "colab": {
     "base_uri": "https://localhost:8080/"
    },
    "executionInfo": {
     "elapsed": 3893,
     "status": "ok",
     "timestamp": 1693239708522,
     "user": {
      "displayName": "Pakawan Pugsee",
      "userId": "07018141450799341826"
     },
     "user_tz": -420
    },
    "id": "MUAyoTJTLvJz",
    "outputId": "db704a2b-9496-4935-86f5-6991ea997d5e"
   },
   "outputs": [
    {
     "name": "stdout",
     "output_type": "stream",
     "text": [
      "Enter password: c11\n",
      "False\n"
     ]
    }
   ],
   "source": [
    "def cv(st):\n",
    "    n1 = 0\n",
    "    nc = 0\n",
    "    for i in st:\n",
    "        if i == '1':\n",
    "            n1 += 1\n",
    "        if i == 'c':\n",
    "            nc += 1\n",
    "        if n1 > 1:\n",
    "            return False\n",
    "    if n1 < 1 or nc < 1:\n",
    "        return False\n",
    "    return True\n",
    "print(cv(input(\"Enter password: \")))"
   ]
  },
  {
   "cell_type": "markdown",
   "metadata": {
    "id": "fyfo5-y_LvRr"
   },
   "source": [
    "5. Accept top left corner coordinate (x,y), width and height of two rectangles e.g. [5,5,10,10] and [0,0,12,15]. Then print “yes” if they intersect otherwise print ”no”"
   ]
  },
  {
   "cell_type": "code",
   "execution_count": 10,
   "metadata": {},
   "outputs": [
    {
     "name": "stdout",
     "output_type": "stream",
     "text": [
      "yes\n"
     ]
    }
   ],
   "source": [
    "# Copied from ChatGPT\n",
    "# ------------------------------------------------------------------------------------------------------------------------\n",
    "\n",
    "def isch(rct1, rct2):\n",
    "    x1, y1, w1, h1 = rct1\n",
    "    x2, y2, w2, h2 = rct2\n",
    "\n",
    "    right1, bottom1 = x1 + w1, y1 + h1\n",
    "    right2, bottom2 = x2 + w2, y2 + h2\n",
    "\n",
    "    if x1 > right2 or x2 > right1 or y1 > bottom2 or y2 > bottom1:\n",
    "        return \"no\"\n",
    "    else:\n",
    "        return \"yes\"\n",
    "\n",
    "rct1 = [5, 5, 10, 10]\n",
    "rct2 = [0, 0, 12, 15]\n",
    "\n",
    "result = isch(rct1, rct2)\n",
    "print(result)"
   ]
  }
 ],
 "metadata": {
  "colab": {
   "provenance": []
  },
  "kernelspec": {
   "display_name": "Python 3 (ipykernel)",
   "language": "python",
   "name": "python3"
  },
  "language_info": {
   "codemirror_mode": {
    "name": "ipython",
    "version": 3
   },
   "file_extension": ".py",
   "mimetype": "text/x-python",
   "name": "python",
   "nbconvert_exporter": "python",
   "pygments_lexer": "ipython3",
   "version": "3.11.3"
  }
 },
 "nbformat": 4,
 "nbformat_minor": 1
}
