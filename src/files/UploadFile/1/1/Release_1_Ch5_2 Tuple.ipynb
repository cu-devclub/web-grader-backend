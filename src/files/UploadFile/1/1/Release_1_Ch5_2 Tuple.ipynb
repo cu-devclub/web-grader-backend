{
 "cells": [
  {
   "cell_type": "markdown",
   "metadata": {
    "id": "e2IPZN-3XPyn"
   },
   "source": [
    "# Tuple\n",
    "\n"
   ]
  },
  {
   "cell_type": "markdown",
   "metadata": {
    "id": "HZRW61P9myx8"
   },
   "source": [
    "* Like List, Tuple is an object that can store a sequece of items.\n",
    "* A tuple is defined using a pair of brackets `()` with elements inside, separated by commas.\n",
    "* A tuple can hold different types of items.\n",
    "* <font color='red'>Tuples are immutable, which means that items in the tuple cannot be changed after it is created.</font>\n",
    "\n",
    "```python\n",
    "(<item1>, <item2>, <item3>, ..., <itemN>)\n",
    "```\n",
    "\n"
   ]
  },
  {
   "cell_type": "code",
   "execution_count": 2,
   "metadata": {
    "colab": {
     "base_uri": "https://localhost:8080/"
    },
    "executionInfo": {
     "elapsed": 368,
     "status": "ok",
     "timestamp": 1694059530415,
     "user": {
      "displayName": "Pakawan Pugsee",
      "userId": "07018141450799341826"
     },
     "user_tz": -420
    },
    "id": "FbrPKhsPNVvK",
    "outputId": "9a54a9f4-bcf4-4806-b0f9-4d9aa9f3545c"
   },
   "outputs": [
    {
     "name": "stdout",
     "output_type": "stream",
     "text": [
      "a: <class 'tuple'>\n",
      "b: <class 'tuple'>\n",
      "c: <class 'tuple'>\n",
      "d: <class 'tuple'>\n",
      "e: <class 'tuple'>\n"
     ]
    }
   ],
   "source": [
    "# Ex.\n",
    "a = (1,2,3,4,5)\n",
    "b = (2301170,'Python',True)\n",
    "c = 2301170,'Python',True # Not necessarily within ().\n",
    "d = 2301170, # But a comma is needed to define a tuple.\n",
    "e = () # Empty tuple\n",
    "\n",
    "print('a:', type(a))\n",
    "print('b:', type(b))\n",
    "print('c:', type(c))\n",
    "print('d:', type(d))\n",
    "print('e:', type(e))"
   ]
  },
  {
   "cell_type": "code",
   "execution_count": 3,
   "metadata": {
    "colab": {
     "base_uri": "https://localhost:8080/"
    },
    "executionInfo": {
     "elapsed": 389,
     "status": "ok",
     "timestamp": 1694059558461,
     "user": {
      "displayName": "Pakawan Pugsee",
      "userId": "07018141450799341826"
     },
     "user_tz": -420
    },
    "id": "F79cdPaGTN1_",
    "outputId": "29a46268-b235-49df-bece-828047cc5e1f"
   },
   "outputs": [
    {
     "data": {
      "text/plain": [
       "tuple"
      ]
     },
     "execution_count": 3,
     "metadata": {},
     "output_type": "execute_result"
    }
   ],
   "source": [
    "type(())"
   ]
  },
  {
   "cell_type": "code",
   "execution_count": 4,
   "metadata": {
    "colab": {
     "base_uri": "https://localhost:8080/",
     "height": 176
    },
    "executionInfo": {
     "elapsed": 346,
     "status": "error",
     "timestamp": 1694059581348,
     "user": {
      "displayName": "Pakawan Pugsee",
      "userId": "07018141450799341826"
     },
     "user_tz": -420
    },
    "id": "5Py4j22Gx3M1",
    "outputId": "fe35d3d7-9868-4bce-c3f9-6aeb3eb42d49"
   },
   "outputs": [
    {
     "ename": "TypeError",
     "evalue": "ignored",
     "output_type": "error",
     "traceback": [
      "\u001b[0;31m---------------------------------------------------------------------------\u001b[0m",
      "\u001b[0;31mTypeError\u001b[0m                                 Traceback (most recent call last)",
      "\u001b[0;32m<ipython-input-4-179b91887812>\u001b[0m in \u001b[0;36m<cell line: 1>\u001b[0;34m()\u001b[0m\n\u001b[0;32m----> 1\u001b[0;31m \u001b[0mtype\u001b[0m\u001b[0;34m(\u001b[0m\u001b[0;36m1\u001b[0m\u001b[0;34m,\u001b[0m\u001b[0;36m2\u001b[0m\u001b[0;34m)\u001b[0m \u001b[0;31m# This means two parameters are passed, but the function type expect only 1 or 3 parameters.\u001b[0m\u001b[0;34m\u001b[0m\u001b[0;34m\u001b[0m\u001b[0m\n\u001b[0m",
      "\u001b[0;31mTypeError\u001b[0m: type() takes 1 or 3 arguments"
     ]
    }
   ],
   "source": [
    "type(1,2) # This means two parameters are passed, but the function type expect only 1 or 3 parameters."
   ]
  },
  {
   "cell_type": "code",
   "execution_count": 5,
   "metadata": {
    "colab": {
     "base_uri": "https://localhost:8080/"
    },
    "executionInfo": {
     "elapsed": 353,
     "status": "ok",
     "timestamp": 1694059650038,
     "user": {
      "displayName": "Pakawan Pugsee",
      "userId": "07018141450799341826"
     },
     "user_tz": -420
    },
    "id": "yZXjP8f8vFGA",
    "outputId": "e9b4e31d-9d7b-4434-865a-8facc29107e0"
   },
   "outputs": [
    {
     "data": {
      "text/plain": [
       "tuple"
      ]
     },
     "execution_count": 5,
     "metadata": {},
     "output_type": "execute_result"
    }
   ],
   "source": [
    "type((1,2))"
   ]
  },
  {
   "cell_type": "code",
   "execution_count": 6,
   "metadata": {
    "colab": {
     "base_uri": "https://localhost:8080/"
    },
    "executionInfo": {
     "elapsed": 2,
     "status": "ok",
     "timestamp": 1694059655967,
     "user": {
      "displayName": "Pakawan Pugsee",
      "userId": "07018141450799341826"
     },
     "user_tz": -420
    },
    "id": "dcPUdxeGxl5x",
    "outputId": "3cad8310-369f-4be6-fb56-aa473d8ddf45"
   },
   "outputs": [
    {
     "data": {
      "text/plain": [
       "str"
      ]
     },
     "execution_count": 6,
     "metadata": {},
     "output_type": "execute_result"
    }
   ],
   "source": [
    "x = ('2')\n",
    "type(x) # Because the comma is missing, the program consider it a string."
   ]
  },
  {
   "cell_type": "code",
   "execution_count": 7,
   "metadata": {
    "colab": {
     "base_uri": "https://localhost:8080/"
    },
    "executionInfo": {
     "elapsed": 370,
     "status": "ok",
     "timestamp": 1694059670466,
     "user": {
      "displayName": "Pakawan Pugsee",
      "userId": "07018141450799341826"
     },
     "user_tz": -420
    },
    "id": "x0kVLuVQxqvq",
    "outputId": "d5bb6625-17af-4c9b-bc47-817644c80ade"
   },
   "outputs": [
    {
     "data": {
      "text/plain": [
       "int"
      ]
     },
     "execution_count": 7,
     "metadata": {},
     "output_type": "execute_result"
    }
   ],
   "source": [
    "x = (2) # Because the comma is missing, the program consider it an integer.\n",
    "type(x)"
   ]
  },
  {
   "cell_type": "code",
   "execution_count": 8,
   "metadata": {
    "colab": {
     "base_uri": "https://localhost:8080/"
    },
    "executionInfo": {
     "elapsed": 390,
     "status": "ok",
     "timestamp": 1694059687820,
     "user": {
      "displayName": "Pakawan Pugsee",
      "userId": "07018141450799341826"
     },
     "user_tz": -420
    },
    "id": "eFbQtagSvKLK",
    "outputId": "aad979d8-c4bc-4d5b-9db5-8fbe8a34368a"
   },
   "outputs": [
    {
     "data": {
      "text/plain": [
       "tuple"
      ]
     },
     "execution_count": 8,
     "metadata": {},
     "output_type": "execute_result"
    }
   ],
   "source": [
    "x = (2,)\n",
    "type(x)"
   ]
  },
  {
   "cell_type": "code",
   "execution_count": 9,
   "metadata": {
    "colab": {
     "base_uri": "https://localhost:8080/"
    },
    "executionInfo": {
     "elapsed": 351,
     "status": "ok",
     "timestamp": 1694059691603,
     "user": {
      "displayName": "Pakawan Pugsee",
      "userId": "07018141450799341826"
     },
     "user_tz": -420
    },
    "id": "m0jstBuovNpf",
    "outputId": "9cab83fa-4d47-47f4-faa9-5e56d04c1c8a"
   },
   "outputs": [
    {
     "data": {
      "text/plain": [
       "tuple"
      ]
     },
     "execution_count": 9,
     "metadata": {},
     "output_type": "execute_result"
    }
   ],
   "source": [
    "a = 2,\n",
    "type(a)"
   ]
  },
  {
   "cell_type": "markdown",
   "metadata": {
    "id": "JXviSOXx2cFc"
   },
   "source": [
    "## Tuple size"
   ]
  },
  {
   "cell_type": "markdown",
   "metadata": {
    "id": "8XJtDyMwaIU1"
   },
   "source": [
    "* The size of a tuple is the number of items in the tuple.\n",
    "* If you remember `len(<aTuple>)`, it is a built-in function in Python that returns the length of a sequence.\n",
    "We can use it to find size of a tuple.\n",
    "* Since tuples are immutable, their sizes cannot be changed either."
   ]
  },
  {
   "cell_type": "code",
   "execution_count": 10,
   "metadata": {
    "colab": {
     "base_uri": "https://localhost:8080/"
    },
    "executionInfo": {
     "elapsed": 357,
     "status": "ok",
     "timestamp": 1694059699276,
     "user": {
      "displayName": "Pakawan Pugsee",
      "userId": "07018141450799341826"
     },
     "user_tz": -420
    },
    "id": "zo4dTDIwRkJl",
    "outputId": "1cf26526-4fbb-4272-8fb5-cc240f9830e1"
   },
   "outputs": [
    {
     "data": {
      "text/plain": [
       "5"
      ]
     },
     "execution_count": 10,
     "metadata": {},
     "output_type": "execute_result"
    }
   ],
   "source": [
    "len((1,2,3,4,5))"
   ]
  },
  {
   "cell_type": "code",
   "execution_count": 11,
   "metadata": {
    "colab": {
     "base_uri": "https://localhost:8080/"
    },
    "executionInfo": {
     "elapsed": 1449,
     "status": "ok",
     "timestamp": 1694059707355,
     "user": {
      "displayName": "Pakawan Pugsee",
      "userId": "07018141450799341826"
     },
     "user_tz": -420
    },
    "id": "mVvhv3lHjnCg",
    "outputId": "d8dd3ab1-44a2-4b6c-8c24-4084dbe7e452"
   },
   "outputs": [
    {
     "data": {
      "text/plain": [
       "3"
      ]
     },
     "execution_count": 11,
     "metadata": {},
     "output_type": "execute_result"
    }
   ],
   "source": [
    "x = (2301170,'Python',True)\n",
    "len(x)"
   ]
  },
  {
   "cell_type": "code",
   "execution_count": 12,
   "metadata": {
    "colab": {
     "base_uri": "https://localhost:8080/"
    },
    "executionInfo": {
     "elapsed": 489,
     "status": "ok",
     "timestamp": 1694059710736,
     "user": {
      "displayName": "Pakawan Pugsee",
      "userId": "07018141450799341826"
     },
     "user_tz": -420
    },
    "id": "bhAyQp2Bpabs",
    "outputId": "866b9af8-4797-40b4-b39c-a568f69b43cc"
   },
   "outputs": [
    {
     "data": {
      "text/plain": [
       "0"
      ]
     },
     "execution_count": 12,
     "metadata": {},
     "output_type": "execute_result"
    }
   ],
   "source": [
    "empty_tuple = ()\n",
    "len(empty_tuple)"
   ]
  },
  {
   "cell_type": "code",
   "execution_count": 13,
   "metadata": {
    "colab": {
     "base_uri": "https://localhost:8080/"
    },
    "executionInfo": {
     "elapsed": 378,
     "status": "ok",
     "timestamp": 1694059713455,
     "user": {
      "displayName": "Pakawan Pugsee",
      "userId": "07018141450799341826"
     },
     "user_tz": -420
    },
    "id": "FMNcGunjpdqX",
    "outputId": "ae9d8df5-2481-4e30-dd97-7d9752f313f6"
   },
   "outputs": [
    {
     "data": {
      "text/plain": [
       "0"
      ]
     },
     "execution_count": 13,
     "metadata": {},
     "output_type": "execute_result"
    }
   ],
   "source": [
    "len(())"
   ]
  },
  {
   "cell_type": "code",
   "execution_count": 14,
   "metadata": {
    "colab": {
     "base_uri": "https://localhost:8080/",
     "height": 176
    },
    "executionInfo": {
     "elapsed": 370,
     "status": "error",
     "timestamp": 1694059718717,
     "user": {
      "displayName": "Pakawan Pugsee",
      "userId": "07018141450799341826"
     },
     "user_tz": -420
    },
    "id": "rTJn6vWwx7i0",
    "outputId": "688fda9f-b505-4c17-a27d-3eb8655fa38b"
   },
   "outputs": [
    {
     "ename": "TypeError",
     "evalue": "ignored",
     "output_type": "error",
     "traceback": [
      "\u001b[0;31m---------------------------------------------------------------------------\u001b[0m",
      "\u001b[0;31mTypeError\u001b[0m                                 Traceback (most recent call last)",
      "\u001b[0;32m<ipython-input-14-868a9286678e>\u001b[0m in \u001b[0;36m<cell line: 1>\u001b[0;34m()\u001b[0m\n\u001b[0;32m----> 1\u001b[0;31m \u001b[0mlen\u001b[0m\u001b[0;34m(\u001b[0m\u001b[0;34m(\u001b[0m\u001b[0;36m2\u001b[0m\u001b[0;34m)\u001b[0m\u001b[0;34m)\u001b[0m \u001b[0;31m# Error occurs because (2) is an integer not a tuple.\u001b[0m\u001b[0;34m\u001b[0m\u001b[0;34m\u001b[0m\u001b[0m\n\u001b[0m",
      "\u001b[0;31mTypeError\u001b[0m: object of type 'int' has no len()"
     ]
    }
   ],
   "source": [
    "len((2)) # Error occurs because (2) is an integer not a tuple."
   ]
  },
  {
   "cell_type": "code",
   "execution_count": 15,
   "metadata": {
    "colab": {
     "base_uri": "https://localhost:8080/"
    },
    "executionInfo": {
     "elapsed": 349,
     "status": "ok",
     "timestamp": 1694059733327,
     "user": {
      "displayName": "Pakawan Pugsee",
      "userId": "07018141450799341826"
     },
     "user_tz": -420
    },
    "id": "uOPVCL-HRZBJ",
    "outputId": "874a8ca2-4461-49cd-c363-25a252367a91"
   },
   "outputs": [
    {
     "data": {
      "text/plain": [
       "5"
      ]
     },
     "execution_count": 15,
     "metadata": {},
     "output_type": "execute_result"
    }
   ],
   "source": [
    "y = (2301170,'Python',True,('N','D','M','J'),3.0)\n",
    "len(y)"
   ]
  },
  {
   "cell_type": "markdown",
   "metadata": {
    "id": "-2kHZKFG7kaB"
   },
   "source": [
    "## Indexing\n",
    "\n",
    "* We can access to each element in the tuple individually by specifying an index inside the brackets.\n",
    "* The indexes are 0 (the first item), 1, ..., n-1 (the last item).\n",
    "* We can use negative indexes, which starts from -1 (the last item), -2, -3, ..., -n (the first item).\n",
    "* No matter positive or negative indexes you use, it cannot be out of those ranges. See examples below"
   ]
  },
  {
   "cell_type": "code",
   "execution_count": 21,
   "metadata": {
    "executionInfo": {
     "elapsed": 387,
     "status": "ok",
     "timestamp": 1694059850136,
     "user": {
      "displayName": "Pakawan Pugsee",
      "userId": "07018141450799341826"
     },
     "user_tz": -420
    },
    "id": "P3Z-51LDqm-a"
   },
   "outputs": [],
   "source": [
    "a = 3.0\n",
    "b = ('N','092-5166xxx')\n",
    "c = ['S','M','J']\n",
    "data = (2301170,'Python',True,a,b,c)"
   ]
  },
  {
   "cell_type": "code",
   "execution_count": 17,
   "metadata": {
    "colab": {
     "base_uri": "https://localhost:8080/"
    },
    "executionInfo": {
     "elapsed": 343,
     "status": "ok",
     "timestamp": 1694059792961,
     "user": {
      "displayName": "Pakawan Pugsee",
      "userId": "07018141450799341826"
     },
     "user_tz": -420
    },
    "id": "7nWWwRvnnJLz",
    "outputId": "df71486b-3445-44d8-a98c-11814e1a7f9e"
   },
   "outputs": [
    {
     "name": "stdout",
     "output_type": "stream",
     "text": [
      "2301170\n",
      "2301170\n",
      "2301170\n"
     ]
    }
   ],
   "source": [
    "print(data[0])\n",
    "print(data[-6])\n",
    "print(data[-len(data)])"
   ]
  },
  {
   "cell_type": "code",
   "execution_count": null,
   "metadata": {
    "colab": {
     "base_uri": "https://localhost:8080/"
    },
    "executionInfo": {
     "elapsed": 575,
     "status": "ok",
     "timestamp": 1642949514534,
     "user": {
      "displayName": "Naruemon Pratanwanich",
      "photoUrl": "https://lh3.googleusercontent.com/a-/AOh14Ght-XDHOoqeuU7xDve5mJaCH2c0CFLbb7XtETlg=s64",
      "userId": "04240363400547583642"
     },
     "user_tz": -420
    },
    "id": "FjmhOpXknNEC",
    "outputId": "f1bb0bf5-ff8d-4920-933b-d5f82d0a8e45"
   },
   "outputs": [
    {
     "name": "stdout",
     "output_type": "stream",
     "text": [
      "Python\n",
      "Python\n"
     ]
    }
   ],
   "source": [
    "print(data[1])\n",
    "print(data[-5])"
   ]
  },
  {
   "cell_type": "code",
   "execution_count": 18,
   "metadata": {
    "colab": {
     "base_uri": "https://localhost:8080/"
    },
    "executionInfo": {
     "elapsed": 539,
     "status": "ok",
     "timestamp": 1694059803802,
     "user": {
      "displayName": "Pakawan Pugsee",
      "userId": "07018141450799341826"
     },
     "user_tz": -420
    },
    "id": "pZfnF-WHnNX-",
    "outputId": "b8db619a-c2e2-49a1-a4d6-d7f0b236ddd0"
   },
   "outputs": [
    {
     "name": "stdout",
     "output_type": "stream",
     "text": [
      "True\n",
      "True\n"
     ]
    }
   ],
   "source": [
    "print(data[2])\n",
    "print(data[-4])"
   ]
  },
  {
   "cell_type": "code",
   "execution_count": 19,
   "metadata": {
    "colab": {
     "base_uri": "https://localhost:8080/"
    },
    "executionInfo": {
     "elapsed": 2,
     "status": "ok",
     "timestamp": 1694059805957,
     "user": {
      "displayName": "Pakawan Pugsee",
      "userId": "07018141450799341826"
     },
     "user_tz": -420
    },
    "id": "bh7gcrIanNWN",
    "outputId": "b9258be9-ef21-4fcf-e0fc-021284c92f7f"
   },
   "outputs": [
    {
     "name": "stdout",
     "output_type": "stream",
     "text": [
      "3.0\n",
      "3.0\n"
     ]
    }
   ],
   "source": [
    "print(data[3])\n",
    "print(data[-3])"
   ]
  },
  {
   "cell_type": "code",
   "execution_count": 20,
   "metadata": {
    "colab": {
     "base_uri": "https://localhost:8080/"
    },
    "executionInfo": {
     "elapsed": 486,
     "status": "ok",
     "timestamp": 1694059809645,
     "user": {
      "displayName": "Pakawan Pugsee",
      "userId": "07018141450799341826"
     },
     "user_tz": -420
    },
    "id": "U5mzLHFUnNPs",
    "outputId": "ffa57471-bf84-424a-f3f2-97c9ac3984a4"
   },
   "outputs": [
    {
     "name": "stdout",
     "output_type": "stream",
     "text": [
      "('N', '092-5166xxx')\n",
      "('N', '092-5166xxx')\n"
     ]
    }
   ],
   "source": [
    "print(data[4])\n",
    "print(data[-2])"
   ]
  },
  {
   "cell_type": "code",
   "execution_count": null,
   "metadata": {
    "colab": {
     "base_uri": "https://localhost:8080/"
    },
    "executionInfo": {
     "elapsed": 5,
     "status": "ok",
     "timestamp": 1641885440353,
     "user": {
      "displayName": "Naruemon Pratanwanich",
      "photoUrl": "https://lh3.googleusercontent.com/a-/AOh14Ght-XDHOoqeuU7xDve5mJaCH2c0CFLbb7XtETlg=s64",
      "userId": "04240363400547583642"
     },
     "user_tz": -420
    },
    "id": "DaIu3t_BnNNf",
    "outputId": "21583d1a-832e-42f8-c8f2-1a3c71da8b46"
   },
   "outputs": [
    {
     "name": "stdout",
     "output_type": "stream",
     "text": [
      "['S', 'M', 'J']\n",
      "['S', 'M', 'J']\n",
      "['S', 'M', 'J']\n"
     ]
    }
   ],
   "source": [
    "print(data[5])\n",
    "print(data[-1])\n",
    "print(data[len(data)-1])"
   ]
  },
  {
   "cell_type": "markdown",
   "metadata": {
    "id": "eHFaZB-Qk1sZ"
   },
   "source": [
    "### Iterating over a tuple using `for`\n",
    "\n",
    "Like what we do on a list, we have two ways to do this."
   ]
  },
  {
   "cell_type": "code",
   "execution_count": 22,
   "metadata": {
    "colab": {
     "base_uri": "https://localhost:8080/"
    },
    "executionInfo": {
     "elapsed": 348,
     "status": "ok",
     "timestamp": 1694059856692,
     "user": {
      "displayName": "Pakawan Pugsee",
      "userId": "07018141450799341826"
     },
     "user_tz": -420
    },
    "id": "p1guVfpKqlXr",
    "outputId": "f2955ef0-0ad5-41dd-d2bb-5c4767c12d90"
   },
   "outputs": [
    {
     "name": "stdout",
     "output_type": "stream",
     "text": [
      "2301170\n",
      "Python\n",
      "True\n",
      "3.0\n",
      "('N', '092-5166xxx')\n",
      "['S', 'M', 'J']\n"
     ]
    }
   ],
   "source": [
    "for element in data:\n",
    "  print(element)"
   ]
  },
  {
   "cell_type": "code",
   "execution_count": null,
   "metadata": {
    "colab": {
     "base_uri": "https://localhost:8080/"
    },
    "executionInfo": {
     "elapsed": 6,
     "status": "ok",
     "timestamp": 1641885444635,
     "user": {
      "displayName": "Naruemon Pratanwanich",
      "photoUrl": "https://lh3.googleusercontent.com/a-/AOh14Ght-XDHOoqeuU7xDve5mJaCH2c0CFLbb7XtETlg=s64",
      "userId": "04240363400547583642"
     },
     "user_tz": -420
    },
    "id": "tiWAxj6CS-1p",
    "outputId": "550137ab-8dd6-45df-f898-76ae73d5ee39"
   },
   "outputs": [
    {
     "name": "stdout",
     "output_type": "stream",
     "text": [
      "index 0 : 2301170\n",
      "index 1 : Python\n",
      "index 2 : True\n",
      "index 3 : 3.0\n",
      "index 4 : ('N', '092-5166xxx')\n",
      "index 5 : ['S', 'M', 'J']\n"
     ]
    }
   ],
   "source": [
    "for i in range(len(data)):\n",
    "  print('index',i,':',data[i])"
   ]
  },
  {
   "cell_type": "code",
   "execution_count": 23,
   "metadata": {
    "colab": {
     "base_uri": "https://localhost:8080/",
     "height": 176
    },
    "executionInfo": {
     "elapsed": 379,
     "status": "error",
     "timestamp": 1694059892153,
     "user": {
      "displayName": "Pakawan Pugsee",
      "userId": "07018141450799341826"
     },
     "user_tz": -420
    },
    "id": "85I_nnAu1Nm3",
    "outputId": "ba9ff328-2529-4901-c1e7-aee574b58436"
   },
   "outputs": [
    {
     "ename": "IndexError",
     "evalue": "ignored",
     "output_type": "error",
     "traceback": [
      "\u001b[0;31m---------------------------------------------------------------------------\u001b[0m",
      "\u001b[0;31mIndexError\u001b[0m                                Traceback (most recent call last)",
      "\u001b[0;32m<ipython-input-23-bd176b01b336>\u001b[0m in \u001b[0;36m<cell line: 1>\u001b[0;34m()\u001b[0m\n\u001b[0;32m----> 1\u001b[0;31m \u001b[0mdata\u001b[0m\u001b[0;34m[\u001b[0m\u001b[0;36m6\u001b[0m\u001b[0;34m]\u001b[0m\u001b[0;34m\u001b[0m\u001b[0;34m\u001b[0m\u001b[0m\n\u001b[0m",
      "\u001b[0;31mIndexError\u001b[0m: tuple index out of range"
     ]
    }
   ],
   "source": [
    "data[6]"
   ]
  },
  {
   "cell_type": "markdown",
   "metadata": {
    "id": "WM6fKHSu2J6u"
   },
   "source": [
    "## How data are stored in a tuple"
   ]
  },
  {
   "cell_type": "markdown",
   "metadata": {
    "id": "SBOatoeD_JUN"
   },
   "source": [
    "Here is an example of how items in `data` are stored.  https://pythontutor.com/python-debugger.html#mode=edit\n",
    "\n"
   ]
  },
  {
   "cell_type": "code",
   "execution_count": 3,
   "metadata": {
    "executionInfo": {
     "elapsed": 357,
     "status": "ok",
     "timestamp": 1694060107340,
     "user": {
      "displayName": "Pakawan Pugsee",
      "userId": "07018141450799341826"
     },
     "user_tz": -420
    },
    "id": "iMTzSzdO_Giw"
   },
   "outputs": [],
   "source": [
    "a = 3.0\n",
    "b = ('N','092-5166xxx')\n",
    "c = ['S','M','J']\n",
    "data = (2301170,'Python',True,a,b,c)"
   ]
  },
  {
   "cell_type": "markdown",
   "metadata": {
    "id": "A1ASgf0jaoE9"
   },
   "source": [
    "<img src=\"https://github.com/ploy-np/python/blob/master/images/tuple/Slide1.jpg?raw=1\" width=\"700\" alt=\"tuple\"/>"
   ]
  },
  {
   "cell_type": "code",
   "execution_count": 2,
   "metadata": {
    "colab": {
     "base_uri": "https://localhost:8080/",
     "height": 194
    },
    "executionInfo": {
     "elapsed": 367,
     "status": "error",
     "timestamp": 1694059931818,
     "user": {
      "displayName": "Pakawan Pugsee",
      "userId": "07018141450799341826"
     },
     "user_tz": -420
    },
    "id": "IRRtCoR9UdOt",
    "outputId": "a4a22f1e-6b05-4cef-cb86-0b0c6dbeebbd"
   },
   "outputs": [
    {
     "ename": "TypeError",
     "evalue": "'tuple' object does not support item assignment",
     "output_type": "error",
     "traceback": [
      "\u001b[1;31m---------------------------------------------------------------------------\u001b[0m",
      "\u001b[1;31mTypeError\u001b[0m                                 Traceback (most recent call last)",
      "Cell \u001b[1;32mIn[2], line 2\u001b[0m\n\u001b[0;32m      1\u001b[0m \u001b[38;5;28;01mfor\u001b[39;00m i \u001b[38;5;129;01min\u001b[39;00m \u001b[38;5;28mrange\u001b[39m(\u001b[38;5;28mlen\u001b[39m(data)):\n\u001b[1;32m----> 2\u001b[0m   data[i] \u001b[38;5;241m=\u001b[39m \u001b[38;5;124m'\u001b[39m\u001b[38;5;124m2301170\u001b[39m\u001b[38;5;124m'\u001b[39m\n",
      "\u001b[1;31mTypeError\u001b[0m: 'tuple' object does not support item assignment"
     ]
    }
   ],
   "source": [
    "for i in range(len(data)):\n",
    "  data[i] = '2301170'"
   ]
  },
  {
   "cell_type": "code",
   "execution_count": 25,
   "metadata": {
    "colab": {
     "base_uri": "https://localhost:8080/"
    },
    "executionInfo": {
     "elapsed": 1400,
     "status": "ok",
     "timestamp": 1694059985707,
     "user": {
      "displayName": "Pakawan Pugsee",
      "userId": "07018141450799341826"
     },
     "user_tz": -420
    },
    "id": "fpGCI1yVlNN-",
    "outputId": "db2f69e5-140b-4bb4-e5c9-c25a0fb0b3d6"
   },
   "outputs": [
    {
     "name": "stdout",
     "output_type": "stream",
     "text": [
      "2301170\n",
      "Python\n",
      "True\n",
      "3.0\n",
      "('N', '092-5166xxx')\n",
      "['S', 'M', 'J']\n",
      "a: 5.0\n"
     ]
    }
   ],
   "source": [
    "\n",
    "a = 3.0\n",
    "b = ('N','092-5166xxx')\n",
    "c = ['S','M','J']\n",
    "data = (2301170,'Python',True,a,b,c)\n",
    "\n",
    "a = 5.0\n",
    "for element in data:\n",
    "  print(element)\n",
    "print('a:',a)"
   ]
  },
  {
   "cell_type": "markdown",
   "metadata": {
    "id": "g1QTlYTC9RQF"
   },
   "source": [
    "<img src=\"https://github.com/ploy-np/python/blob/master/images/tuple/Slide2.jpg?raw=1\" width=\"700\" alt=\"tuple\"/>"
   ]
  },
  {
   "cell_type": "code",
   "execution_count": 26,
   "metadata": {
    "colab": {
     "base_uri": "https://localhost:8080/",
     "height": 211
    },
    "executionInfo": {
     "elapsed": 361,
     "status": "error",
     "timestamp": 1694060040321,
     "user": {
      "displayName": "Pakawan Pugsee",
      "userId": "07018141450799341826"
     },
     "user_tz": -420
    },
    "id": "dsnN-iq6maCw",
    "outputId": "e6b77c32-5ba9-4442-f310-7cb682163ebd"
   },
   "outputs": [
    {
     "ename": "TypeError",
     "evalue": "ignored",
     "output_type": "error",
     "traceback": [
      "\u001b[0;31m---------------------------------------------------------------------------\u001b[0m",
      "\u001b[0;31mTypeError\u001b[0m                                 Traceback (most recent call last)",
      "\u001b[0;32m<ipython-input-26-73e587871c4d>\u001b[0m in \u001b[0;36m<cell line: 1>\u001b[0;34m()\u001b[0m\n\u001b[0;32m----> 1\u001b[0;31m \u001b[0mb\u001b[0m\u001b[0;34m[\u001b[0m\u001b[0;36m0\u001b[0m\u001b[0;34m]\u001b[0m \u001b[0;34m=\u001b[0m \u001b[0;34m'P'\u001b[0m \u001b[0;31m# Since b is a tuple, the items of b cannot be modified.\u001b[0m\u001b[0;34m\u001b[0m\u001b[0;34m\u001b[0m\u001b[0m\n\u001b[0m\u001b[1;32m      2\u001b[0m \u001b[0;32mfor\u001b[0m \u001b[0melement\u001b[0m \u001b[0;32min\u001b[0m \u001b[0mdata\u001b[0m\u001b[0;34m:\u001b[0m\u001b[0;34m\u001b[0m\u001b[0;34m\u001b[0m\u001b[0m\n\u001b[1;32m      3\u001b[0m   \u001b[0mprint\u001b[0m\u001b[0;34m(\u001b[0m\u001b[0melement\u001b[0m\u001b[0;34m)\u001b[0m\u001b[0;34m\u001b[0m\u001b[0;34m\u001b[0m\u001b[0m\n",
      "\u001b[0;31mTypeError\u001b[0m: 'tuple' object does not support item assignment"
     ]
    }
   ],
   "source": [
    "b[0] = 'P' # Since b is a tuple, the items of b cannot be modified.\n",
    "for element in data:\n",
    "  print(element)"
   ]
  },
  {
   "cell_type": "code",
   "execution_count": 27,
   "metadata": {
    "colab": {
     "base_uri": "https://localhost:8080/"
    },
    "executionInfo": {
     "elapsed": 378,
     "status": "ok",
     "timestamp": 1694060059269,
     "user": {
      "displayName": "Pakawan Pugsee",
      "userId": "07018141450799341826"
     },
     "user_tz": -420
    },
    "id": "BFnfUccZmguQ",
    "outputId": "931b9d7a-950f-4c3a-e419-2a89e4717b46"
   },
   "outputs": [
    {
     "name": "stdout",
     "output_type": "stream",
     "text": [
      "2301170\n",
      "Python\n",
      "True\n",
      "3.0\n",
      "('N', '092-5166xxx')\n",
      "['S', 'M', 'J']\n",
      "b: ('P', '092-5166xxx')\n"
     ]
    }
   ],
   "source": [
    "b = ('P','092-5166xxx') # To modify b partially, we have to reassign it with the entire tuple (add or remove).\n",
    "for element in data:\n",
    "  print(element)\n",
    "print('b:',b)"
   ]
  },
  {
   "cell_type": "markdown",
   "metadata": {
    "id": "xoH1L0si9S0T"
   },
   "source": [
    "<img src=\"https://github.com/ploy-np/python/blob/master/images/tuple/Slide3.jpg?raw=1\" width=\"700\" alt=\"tuple\"/>"
   ]
  },
  {
   "cell_type": "code",
   "execution_count": 4,
   "metadata": {
    "colab": {
     "base_uri": "https://localhost:8080/"
    },
    "executionInfo": {
     "elapsed": 364,
     "status": "ok",
     "timestamp": 1694060119201,
     "user": {
      "displayName": "Pakawan Pugsee",
      "userId": "07018141450799341826"
     },
     "user_tz": -420
    },
    "id": "ks348h8alftu",
    "outputId": "84d72556-44bc-43a6-a572-a90a1833dbad"
   },
   "outputs": [
    {
     "name": "stdout",
     "output_type": "stream",
     "text": [
      "2301170\n",
      "Python\n",
      "True\n",
      "3.0\n",
      "('N', '092-5166xxx')\n",
      "['-', 'M', 'J']\n",
      "c: ['-', 'M', 'J']\n"
     ]
    }
   ],
   "source": [
    "c[0] = '-' # Since c is a list, the items of c can be modified.\n",
    "\"\"\"\n",
    "Since data[-1] points the list that c also points at,\n",
    "the value of data[-1] is also changed.\n",
    "Although data is a tuple, in this case it is considered no modification\n",
    "because data[-1] still points at the same list.\n",
    "\"\"\"\n",
    "for element in data:\n",
    "  print(element)\n",
    "print('c:',c)"
   ]
  },
  {
   "cell_type": "markdown",
   "metadata": {
    "id": "tiWj5QUF9T8O"
   },
   "source": [
    "<img src=\"https://github.com/ploy-np/python/blob/master/images/tuple/Slide4.jpg?raw=1\" width=\"700\" alt=\"tuple\"/>"
   ]
  },
  {
   "cell_type": "code",
   "execution_count": 5,
   "metadata": {
    "colab": {
     "base_uri": "https://localhost:8080/"
    },
    "executionInfo": {
     "elapsed": 428,
     "status": "ok",
     "timestamp": 1693243209461,
     "user": {
      "displayName": "Pakawan Pugsee",
      "userId": "07018141450799341826"
     },
     "user_tz": -420
    },
    "id": "_AQFgOZ7moRN",
    "outputId": "fe79f0e5-a810-452a-849b-6ddaa0bf437e"
   },
   "outputs": [
    {
     "name": "stdout",
     "output_type": "stream",
     "text": [
      "2301170\n",
      "Python\n",
      "True\n",
      "3.0\n",
      "('N', '092-5166xxx')\n",
      "['-', 'M', 'J']\n",
      "c: ['M', 'J']\n"
     ]
    }
   ],
   "source": [
    "c = ['M','J'] # This line makes c to points at a new list, but there is nothing to do with data item.\n",
    "# So, the last item of data still points at the same list, which means no modification occurs.\n",
    "for element in data:\n",
    "  print(element)\n",
    "print('c:',c)"
   ]
  },
  {
   "cell_type": "markdown",
   "metadata": {
    "id": "3FoxDECj9NSg"
   },
   "source": [
    "<img src=\"https://github.com/ploy-np/python/blob/master/images/tuple/Slide5.jpg?raw=1\" width=\"700\" alt=\"tuple\"/>"
   ]
  },
  {
   "cell_type": "markdown",
   "metadata": {
    "id": "zn2XfTDaklvP"
   },
   "source": [
    "## Basic operations for Tuple\n",
    "count(x)\tReturns the number of times a specified value occurs in a tuple\n",
    "\n",
    "index(x)\tSearches the tuple for a specified value and returns the position of where it was found\n",
    "\n",
    "len()\n",
    "\n",
    "max()\n",
    "\n",
    "min()\n",
    "\n",
    "sorted()\n",
    "\n",
    "sum()\n",
    "\n",
    "tuple()\tChange type from List or String to Tuple"
   ]
  },
  {
   "cell_type": "code",
   "execution_count": 31,
   "metadata": {
    "colab": {
     "base_uri": "https://localhost:8080/"
    },
    "executionInfo": {
     "elapsed": 2,
     "status": "ok",
     "timestamp": 1694060574223,
     "user": {
      "displayName": "Pakawan Pugsee",
      "userId": "07018141450799341826"
     },
     "user_tz": -420
    },
    "id": "Opkf1KFBoude",
    "outputId": "8eee5e39-254e-46d3-db77-3417508b0d71"
   },
   "outputs": [
    {
     "name": "stdout",
     "output_type": "stream",
     "text": [
      "6\n",
      "(3, 8, 7, 9, 12, 3)\n",
      "[3, 3, 7, 8, 9, 12]\n",
      "(3, 3, 7, 8, 9, 12)\n",
      "count = 2\n",
      "index = 0\n",
      "max = 12\n",
      "min = 3\n",
      "sum = 42\n"
     ]
    }
   ],
   "source": [
    "nums = (3,8,7,9,12,3)\n",
    "new_nums = nums\n",
    "print(len(nums))\n",
    "new_nums = sorted(nums)\n",
    "print(nums)\n",
    "print(new_nums)\n",
    "new_nums = tuple(sorted(nums))\n",
    "print(new_nums)\n",
    "print('count =', nums.count(3))\n",
    "print('index =', nums.index(3))\n",
    "print('max =', max(nums))\n",
    "print('min =', min(nums))\n",
    "print('sum =', sum(nums))"
   ]
  }
 ],
 "metadata": {
  "colab": {
   "provenance": [
    {
     "file_id": "17-D7NN0SUmNsz5nQlU9NT4M4-KJ4ZYp6",
     "timestamp": 1693799306814
    }
   ]
  },
  "kernelspec": {
   "display_name": "Python 3 (ipykernel)",
   "language": "python",
   "name": "python3"
  },
  "language_info": {
   "codemirror_mode": {
    "name": "ipython",
    "version": 3
   },
   "file_extension": ".py",
   "mimetype": "text/x-python",
   "name": "python",
   "nbconvert_exporter": "python",
   "pygments_lexer": "ipython3",
   "version": "3.11.3"
  }
 },
 "nbformat": 4,
 "nbformat_minor": 1
}
